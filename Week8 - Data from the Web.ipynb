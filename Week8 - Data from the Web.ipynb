{
 "cells": [
  {
   "cell_type": "markdown",
   "metadata": {},
   "source": [
    "# Introduction\n",
    "\n",
    "The internet is a rich source of information. There are opportunities to collect this information in a variety of ways. Services like Twitter etc often provide application programming interfaces (APIs) that allow programmers to hook into the data collected and then analyse or display that data. Alternatively there are also a variety of datasets deposited onto the web for anyone with the relevant skills and time to analyse. In this unit we will demonstrate two methods for accessing data on the web.\n",
    "\n",
    "In the first example we will demosntrate a general strategy to download web data using the ```Requests``` module. We will grab a fasta file containing the amino acid composition of the human titin protein and create a histogram of the amino acid frequencies in titin. Along the way we'll meet another module, ```Collections``` that we can use for this. Recall in the Functions unit we wrote our own histogram function using a dictionary. Well, someone else has already done the work for us in the ```Collections``` module.\n",
    "\n",
    "Downloading a raw text file and processing it is relatively simple. Downloading binary content is a little more involved (but not much). In the second example we will demonstrate how to use ```Requests``` to grab an Excel file from the web and transfer this data to ```pandas```. We will also see that we can do this (more simply) using ```pandas``` alone.\n",
    "\n",
    "Once we have the data we will build on the analysis skills developed in previous units to examine some questions about childhood obesity in England."
   ]
  },
  {
   "cell_type": "markdown",
   "metadata": {},
   "source": [
    "## Using the ```requests``` library\n",
    "\n",
    "The [```requests```](http://docs.python-requests.org/en/master/) library provides facilities for you to access web content from within python. In this unit we'll use the ```requests``` library to grab data from the web in the form of Excel or text files. The documentation for the library is [here](http://docs.python-requests.org/en/master/user/quickstart/). To grab files from the web with ```requests``` we have to use the ```.get()``` method and provide a URL. \n",
    "\n",
    "The file we are going to access is a simple text file in [fasta](https://en.wikipedia.org/wiki/FASTA_format) format. Fasta files have a header beginning with the '>' character and the header may have several different fields separated by the '|' character. All lines following this header contain biological sequence data of some kind. In this example that biological sequence is the sequence of amino acids in the human titin protein. The data we require is available in fasta format from the Uniprot database (http://www.uniprot.org/uniprot/Q8WZ42.fasta).\n",
    "\n",
    "We will first import the libraries we need, then grab the file, count the individual amino acid frequencies and finally make a plot of the data."
   ]
  },
  {
   "cell_type": "code",
   "execution_count": 1,
   "metadata": {},
   "outputs": [],
   "source": [
    "%matplotlib inline \n",
    "# notebook inline plotting enabled\n",
    "import requests\n",
    "import collections\n",
    "import pandas as pd\n",
    "import matplotlib.pyplot as plt\n",
    "import seaborn as sns"
   ]
  },
  {
   "cell_type": "markdown",
   "metadata": {},
   "source": [
    "We have to supply a URL to the ```.get()``` method of the ```Requests``` library. You can supply the URL directly as text or assign it to a text variable (see below). The advantage of the latter is you can change the URL you want to retrieve data from more easily."
   ]
  },
  {
   "cell_type": "code",
   "execution_count": 2,
   "metadata": {},
   "outputs": [
    {
     "name": "stdout",
     "output_type": "stream",
     "text": [
      ">sp|Q8WZ42|TITIN_HUMAN Titin OS=Homo sapiens OX=9606 GN=TTN PE=1 SV=4\n",
      "dict_keys(['M', 'T', 'Q', 'A', 'P', 'F', 'L', 'S', 'V', 'E', 'G', 'H', 'I', 'W', 'R', 'D', 'K', 'N', 'Y', 'C']) dict_values([398, 2546, 942, 2084, 2517, 908, 2117, 2463, 3184, 3193, 2066, 478, 2062, 466, 1640, 1720, 2943, 1111, 999, 513])\n"
     ]
    },
    {
     "data": {
      "image/png": "[encoded data removed]",
      "text/plain": [
       "<Figure size 432x288 with 1 Axes>"
      ]
     },
     "metadata": {},
     "output_type": "display_data"
    }
   ],
   "source": [
    "file_i_want = 'http://www.uniprot.org/uniprot/Q8WZ42.fasta' # url for the file I want\n",
    "r = requests.get(file_i_want)\n",
    "data = r.text # data is one long text string in this case\n",
    "header = data.splitlines()[0] # split by line & get first entry\n",
    "print(header)\n",
    "\n",
    "aa_data = ''.join(data.splitlines()[1:]) # create one long string of amino acids\n",
    "c = collections.Counter(aa_data) # create counter object\n",
    "print(c.keys(), c.values())\n",
    "\n",
    "# for plotting create pandas Series\n",
    "aa_ser = pd.Series(c)\n",
    "\n",
    "# and pass values to seaborn.barplot\n",
    "sns.barplot(aa_ser.index, aa_ser.values)\n",
    "plt.show()"
   ]
  },
  {
   "cell_type": "markdown",
   "metadata": {},
   "source": [
    "## The obesity data\n",
    "\n",
    "The UK government collects data on many and varied social and economic indicators. These data are hosted on the [digital.nhs.uk](https://digital.nhs.uk/data-and-information) website. In this tutorial we'll examine the rates of childhood obesity in England. In January 2015 the BBC reported that rates of childhood obesity in England were [levelling off](http://www.bbc.co.uk/news/health-31041864). We will use the public data to examine that claim.\n",
    "\n",
    "The first step is to identify the data we want to use. The [digital.nhs.uk](https://digital.nhs.uk/data-and-information) website has a search tool on the front page and if we type 'obesity' into the search box we get back a list of results. On the left hand side of the page the link to 'Official statistics' takes us to assorted documents including Excel spreadsheets.\n",
    "\n",
    "We'll use python to download the [Excel](https://files.digital.nhs.uk/publicationimport/pub23xxx/pub23742/obes-phys-acti-diet-eng-2017-tab.xlsx) file. Once we have that we'll use ```pandas``` to examine the data.\n",
    "\n",
    "We will need the URL for the excel file we want and the easiest way to get this is to right click (or ctrl-click if on a mac) the 'Download' link for the [Excel](https://files.digital.nhs.uk/publicationimport/pub23xxx/pub23742/obes-phys-acti-diet-eng-2017-tab.xlsx) file on the site and then click on 'Copy Link Location' on the pop up dialogue. This should copy the download URL to the clipboard. Then we can just copy it into a variable in our script."
   ]
  },
  {
   "cell_type": "markdown",
   "metadata": {},
   "source": [
    "\n"
   ]
  },
  {
   "cell_type": "code",
   "execution_count": 3,
   "metadata": {},
   "outputs": [
    {
     "name": "stdout",
     "output_type": "stream",
     "text": [
      "<Response [200]>\n"
     ]
    }
   ],
   "source": [
    "# Based on https://realpython.com/blog/python/analyzing-obesity-in-england-with-python/\n",
    "import requests\n",
    "import pandas as pd\n",
    "\n",
    "# define what we want to download\n",
    "file_i_want = \"https://files.digital.nhs.uk/publicationimport/pub23xxx/pub23742/obes-phys-acti-diet-eng-2017-tab.xlsx\"\n",
    "r = requests.get(file_i_want) # grab the file\n",
    "print(r)"
   ]
  },
  {
   "cell_type": "markdown",
   "metadata": {},
   "source": [
    "Printing the result of the request isn't at first very informative. To understand what this ```<Response [200]>``` means we have to know that files are moved around over the world wide web using a protocol called HyperText Transport Protocol (HTTP). The computers on the web send various codes to each other after transfer of data to tell each other the outcome of that particular job. The code ```200``` means ```OK```. In other words the job succeeded. There's more on the code [here](https://www.w3.org/Protocols/rfc2616/rfc2616-sec10.html) - it's pretty dry stuff... I only use this to look up the meaning of these codes.\n",
    "\n",
    "In the next code block we'll first open a file to write the Excel data to. Notice that we use ```'wb'``` i.e. write a binary file because Excel is a binary and not a text format. We write the content of the file on the internet to our local computer and then open that in ```pandas``` for analysis."
   ]
  },
  {
   "cell_type": "code",
   "execution_count": 4,
   "metadata": {},
   "outputs": [],
   "source": [
    "# open file for writing\n",
    "f_out = open('data/obesity_data.xlsx', 'wb')\n",
    "# write the remote data \n",
    "f_out.write(r.content)\n",
    "# close the new file\n",
    "f_out.close()\n",
    "\n",
    "# get the data into pandas\n",
    "data = pd.ExcelFile('data/obesity_data.xlsx')"
   ]
  },
  {
   "cell_type": "markdown",
   "metadata": {},
   "source": [
    "If you download the file directly and look at it in Excel you'll see that it contains several tabs with different information in each tab. The data we're interested in is in tab 3. \n",
    "\n",
    "We can use the ```sheet_names``` method to find out the names of the individual tabs. We want the data in tab 3 (i.e. Table 2) so we'll have to refer to this by name. We'll also skip the first 7 and last 14 rows since they don't contain data we're interested in."
   ]
  },
  {
   "cell_type": "code",
   "execution_count": 5,
   "metadata": {},
   "outputs": [
    {
     "name": "stdout",
     "output_type": "stream",
     "text": [
      "['Contents', 'Table 1', 'Table 2', 'Table 3', 'Table 4', 'Table 5', 'Table 6', 'Table 7', 'Table 8', 'Table 9', 'Table 10', 'Table 11', 'Table 12', 'Table 13', 'Table 14']\n"
     ]
    }
   ],
   "source": [
    "print(data.sheet_names) # get tab names"
   ]
  },
  {
   "cell_type": "code",
   "execution_count": 6,
   "metadata": {},
   "outputs": [
    {
     "data": {
      "text/html": [
       "<div>\n",
       "<style scoped>\n",
       "    .dataframe tbody tr th:only-of-type {\n",
       "        vertical-align: middle;\n",
       "    }\n",
       "\n",
       "    .dataframe tbody tr th {\n",
       "        vertical-align: top;\n",
       "    }\n",
       "\n",
       "    .dataframe thead th {\n",
       "        text-align: right;\n",
       "    }\n",
       "</style>\n",
       "<table border=\"1\" class=\"dataframe\">\n",
       "  <thead>\n",
       "    <tr style=\"text-align: right;\">\n",
       "      <th></th>\n",
       "      <th>Year4,5</th>\n",
       "      <th>Unnamed: 1</th>\n",
       "      <th>All persons6</th>\n",
       "      <th>Under 16</th>\n",
       "      <th>16 to 24</th>\n",
       "      <th>25 to 34</th>\n",
       "      <th>35 to 44</th>\n",
       "      <th>45 to 54</th>\n",
       "      <th>55 to 64</th>\n",
       "      <th>65 to 74</th>\n",
       "      <th>75 and over</th>\n",
       "    </tr>\n",
       "  </thead>\n",
       "  <tbody>\n",
       "    <tr>\n",
       "      <th>0</th>\n",
       "      <td>NaN</td>\n",
       "      <td>NaN</td>\n",
       "      <td>NaN</td>\n",
       "      <td>NaN</td>\n",
       "      <td>NaN</td>\n",
       "      <td>NaN</td>\n",
       "      <td>NaN</td>\n",
       "      <td>NaN</td>\n",
       "      <td>NaN</td>\n",
       "      <td>NaN</td>\n",
       "      <td>NaN</td>\n",
       "    </tr>\n",
       "    <tr>\n",
       "      <th>1</th>\n",
       "      <td>2005/06</td>\n",
       "      <td>NaN</td>\n",
       "      <td>2564.0</td>\n",
       "      <td>583.0</td>\n",
       "      <td>96.0</td>\n",
       "      <td>341.0</td>\n",
       "      <td>637.0</td>\n",
       "      <td>554.0</td>\n",
       "      <td>258.0</td>\n",
       "      <td>72.0</td>\n",
       "      <td>20.0</td>\n",
       "    </tr>\n",
       "    <tr>\n",
       "      <th>2</th>\n",
       "      <td>2006/07</td>\n",
       "      <td>NaN</td>\n",
       "      <td>3862.0</td>\n",
       "      <td>656.0</td>\n",
       "      <td>184.0</td>\n",
       "      <td>461.0</td>\n",
       "      <td>1069.0</td>\n",
       "      <td>872.0</td>\n",
       "      <td>459.0</td>\n",
       "      <td>118.0</td>\n",
       "      <td>43.0</td>\n",
       "    </tr>\n",
       "    <tr>\n",
       "      <th>3</th>\n",
       "      <td>2007/08</td>\n",
       "      <td>NaN</td>\n",
       "      <td>5018.0</td>\n",
       "      <td>747.0</td>\n",
       "      <td>228.0</td>\n",
       "      <td>564.0</td>\n",
       "      <td>1469.0</td>\n",
       "      <td>1198.0</td>\n",
       "      <td>598.0</td>\n",
       "      <td>157.0</td>\n",
       "      <td>53.0</td>\n",
       "    </tr>\n",
       "    <tr>\n",
       "      <th>4</th>\n",
       "      <td>2008/09</td>\n",
       "      <td>NaN</td>\n",
       "      <td>7988.0</td>\n",
       "      <td>775.0</td>\n",
       "      <td>322.0</td>\n",
       "      <td>1013.0</td>\n",
       "      <td>2359.0</td>\n",
       "      <td>2133.0</td>\n",
       "      <td>1099.0</td>\n",
       "      <td>221.0</td>\n",
       "      <td>63.0</td>\n",
       "    </tr>\n",
       "    <tr>\n",
       "      <th>5</th>\n",
       "      <td>2009/10</td>\n",
       "      <td>NaN</td>\n",
       "      <td>10571.0</td>\n",
       "      <td>632.0</td>\n",
       "      <td>361.0</td>\n",
       "      <td>1348.0</td>\n",
       "      <td>3132.0</td>\n",
       "      <td>3076.0</td>\n",
       "      <td>1555.0</td>\n",
       "      <td>378.0</td>\n",
       "      <td>87.0</td>\n",
       "    </tr>\n",
       "    <tr>\n",
       "      <th>6</th>\n",
       "      <td>2010/11</td>\n",
       "      <td>NaN</td>\n",
       "      <td>11574.0</td>\n",
       "      <td>525.0</td>\n",
       "      <td>375.0</td>\n",
       "      <td>1425.0</td>\n",
       "      <td>3277.0</td>\n",
       "      <td>3573.0</td>\n",
       "      <td>1820.0</td>\n",
       "      <td>456.0</td>\n",
       "      <td>115.0</td>\n",
       "    </tr>\n",
       "    <tr>\n",
       "      <th>7</th>\n",
       "      <td>2011/12</td>\n",
       "      <td>NaN</td>\n",
       "      <td>11736.0</td>\n",
       "      <td>495.0</td>\n",
       "      <td>391.0</td>\n",
       "      <td>1484.0</td>\n",
       "      <td>3104.0</td>\n",
       "      <td>3581.0</td>\n",
       "      <td>2119.0</td>\n",
       "      <td>468.0</td>\n",
       "      <td>94.0</td>\n",
       "    </tr>\n",
       "    <tr>\n",
       "      <th>8</th>\n",
       "      <td>2012/13</td>\n",
       "      <td>NaN</td>\n",
       "      <td>10957.0</td>\n",
       "      <td>556.0</td>\n",
       "      <td>356.0</td>\n",
       "      <td>1437.0</td>\n",
       "      <td>2744.0</td>\n",
       "      <td>3305.0</td>\n",
       "      <td>1965.0</td>\n",
       "      <td>495.0</td>\n",
       "      <td>99.0</td>\n",
       "    </tr>\n",
       "    <tr>\n",
       "      <th>9</th>\n",
       "      <td>2013/14</td>\n",
       "      <td>NaN</td>\n",
       "      <td>9325.0</td>\n",
       "      <td>548.0</td>\n",
       "      <td>352.0</td>\n",
       "      <td>1209.0</td>\n",
       "      <td>2133.0</td>\n",
       "      <td>2839.0</td>\n",
       "      <td>1663.0</td>\n",
       "      <td>458.0</td>\n",
       "      <td>123.0</td>\n",
       "    </tr>\n",
       "    <tr>\n",
       "      <th>10</th>\n",
       "      <td>2014/15</td>\n",
       "      <td>NaN</td>\n",
       "      <td>9130.0</td>\n",
       "      <td>550.0</td>\n",
       "      <td>353.0</td>\n",
       "      <td>1201.0</td>\n",
       "      <td>1960.0</td>\n",
       "      <td>2759.0</td>\n",
       "      <td>1596.0</td>\n",
       "      <td>548.0</td>\n",
       "      <td>163.0</td>\n",
       "    </tr>\n",
       "    <tr>\n",
       "      <th>11</th>\n",
       "      <td>2015/16</td>\n",
       "      <td>NaN</td>\n",
       "      <td>9929.0</td>\n",
       "      <td>597.0</td>\n",
       "      <td>372.0</td>\n",
       "      <td>1265.0</td>\n",
       "      <td>2148.0</td>\n",
       "      <td>2948.0</td>\n",
       "      <td>1790.0</td>\n",
       "      <td>638.0</td>\n",
       "      <td>171.0</td>\n",
       "    </tr>\n",
       "  </tbody>\n",
       "</table>\n",
       "</div>"
      ],
      "text/plain": [
       "    Year4,5  Unnamed: 1  All persons6  Under 16  16 to 24  25 to 34  35 to 44  \\\n",
       "0       NaN         NaN           NaN       NaN       NaN       NaN       NaN   \n",
       "1   2005/06         NaN        2564.0     583.0      96.0     341.0     637.0   \n",
       "2   2006/07         NaN        3862.0     656.0     184.0     461.0    1069.0   \n",
       "3   2007/08         NaN        5018.0     747.0     228.0     564.0    1469.0   \n",
       "4   2008/09         NaN        7988.0     775.0     322.0    1013.0    2359.0   \n",
       "5   2009/10         NaN       10571.0     632.0     361.0    1348.0    3132.0   \n",
       "6   2010/11         NaN       11574.0     525.0     375.0    1425.0    3277.0   \n",
       "7   2011/12         NaN       11736.0     495.0     391.0    1484.0    3104.0   \n",
       "8   2012/13         NaN       10957.0     556.0     356.0    1437.0    2744.0   \n",
       "9   2013/14         NaN        9325.0     548.0     352.0    1209.0    2133.0   \n",
       "10  2014/15         NaN        9130.0     550.0     353.0    1201.0    1960.0   \n",
       "11  2015/16         NaN        9929.0     597.0     372.0    1265.0    2148.0   \n",
       "\n",
       "    45 to 54  55 to 64  65 to 74  75 and over  \n",
       "0        NaN       NaN       NaN          NaN  \n",
       "1      554.0     258.0      72.0         20.0  \n",
       "2      872.0     459.0     118.0         43.0  \n",
       "3     1198.0     598.0     157.0         53.0  \n",
       "4     2133.0    1099.0     221.0         63.0  \n",
       "5     3076.0    1555.0     378.0         87.0  \n",
       "6     3573.0    1820.0     456.0        115.0  \n",
       "7     3581.0    2119.0     468.0         94.0  \n",
       "8     3305.0    1965.0     495.0         99.0  \n",
       "9     2839.0    1663.0     458.0        123.0  \n",
       "10    2759.0    1596.0     548.0        163.0  \n",
       "11    2948.0    1790.0     638.0        171.0  "
      ]
     },
     "execution_count": 6,
     "metadata": {},
     "output_type": "execute_result"
    }
   ],
   "source": [
    "# Read 2nd section, the obesity figures by age data\n",
    "data_age = data.parse('Table 2', skiprows=7, skipfooter=14) # skip first 3 rows, last 14 rows\n",
    "data_age # data"
   ]
  },
  {
   "cell_type": "markdown",
   "metadata": {},
   "source": [
    "We can see that ```pandas``` has recognised that column names but that there is a row and a column with ```NaN``` values. These need to be removed. \n",
    "\n",
    "There is a [```dropna```](http://pandas.pydata.org/pandas-docs/stable/generated/pandas.DataFrame.dropna.html) function in ```pandas``` and we can apply this to the rows and columns. In ```pandas``` the rows and columns are referred to as *axes*; axis 0 is the rows and axis 1 is the columns. In the call to the ```dropna``` function we pass in a tuple indicating that we want to drop ```NaN``` values from both rows and columns but only where **every** value in the row or column is ```NaN``` (```how='all'```). The ```inplace = True``` argument acts on the dataframe we have rather than making a copy in memory. Note that this means the **original data is changed**. This might not be what you always want."
   ]
  },
  {
   "cell_type": "code",
   "execution_count": 7,
   "metadata": {},
   "outputs": [
    {
     "data": {
      "text/html": [
       "<div>\n",
       "<style scoped>\n",
       "    .dataframe tbody tr th:only-of-type {\n",
       "        vertical-align: middle;\n",
       "    }\n",
       "\n",
       "    .dataframe tbody tr th {\n",
       "        vertical-align: top;\n",
       "    }\n",
       "\n",
       "    .dataframe thead th {\n",
       "        text-align: right;\n",
       "    }\n",
       "</style>\n",
       "<table border=\"1\" class=\"dataframe\">\n",
       "  <thead>\n",
       "    <tr style=\"text-align: right;\">\n",
       "      <th></th>\n",
       "      <th>Year4,5</th>\n",
       "      <th>All persons6</th>\n",
       "      <th>Under 16</th>\n",
       "      <th>16 to 24</th>\n",
       "      <th>25 to 34</th>\n",
       "      <th>35 to 44</th>\n",
       "      <th>45 to 54</th>\n",
       "      <th>55 to 64</th>\n",
       "      <th>65 to 74</th>\n",
       "      <th>75 and over</th>\n",
       "    </tr>\n",
       "  </thead>\n",
       "  <tbody>\n",
       "    <tr>\n",
       "      <th>1</th>\n",
       "      <td>2005/06</td>\n",
       "      <td>2564.0</td>\n",
       "      <td>583.0</td>\n",
       "      <td>96.0</td>\n",
       "      <td>341.0</td>\n",
       "      <td>637.0</td>\n",
       "      <td>554.0</td>\n",
       "      <td>258.0</td>\n",
       "      <td>72.0</td>\n",
       "      <td>20.0</td>\n",
       "    </tr>\n",
       "    <tr>\n",
       "      <th>2</th>\n",
       "      <td>2006/07</td>\n",
       "      <td>3862.0</td>\n",
       "      <td>656.0</td>\n",
       "      <td>184.0</td>\n",
       "      <td>461.0</td>\n",
       "      <td>1069.0</td>\n",
       "      <td>872.0</td>\n",
       "      <td>459.0</td>\n",
       "      <td>118.0</td>\n",
       "      <td>43.0</td>\n",
       "    </tr>\n",
       "    <tr>\n",
       "      <th>3</th>\n",
       "      <td>2007/08</td>\n",
       "      <td>5018.0</td>\n",
       "      <td>747.0</td>\n",
       "      <td>228.0</td>\n",
       "      <td>564.0</td>\n",
       "      <td>1469.0</td>\n",
       "      <td>1198.0</td>\n",
       "      <td>598.0</td>\n",
       "      <td>157.0</td>\n",
       "      <td>53.0</td>\n",
       "    </tr>\n",
       "    <tr>\n",
       "      <th>4</th>\n",
       "      <td>2008/09</td>\n",
       "      <td>7988.0</td>\n",
       "      <td>775.0</td>\n",
       "      <td>322.0</td>\n",
       "      <td>1013.0</td>\n",
       "      <td>2359.0</td>\n",
       "      <td>2133.0</td>\n",
       "      <td>1099.0</td>\n",
       "      <td>221.0</td>\n",
       "      <td>63.0</td>\n",
       "    </tr>\n",
       "    <tr>\n",
       "      <th>5</th>\n",
       "      <td>2009/10</td>\n",
       "      <td>10571.0</td>\n",
       "      <td>632.0</td>\n",
       "      <td>361.0</td>\n",
       "      <td>1348.0</td>\n",
       "      <td>3132.0</td>\n",
       "      <td>3076.0</td>\n",
       "      <td>1555.0</td>\n",
       "      <td>378.0</td>\n",
       "      <td>87.0</td>\n",
       "    </tr>\n",
       "  </tbody>\n",
       "</table>\n",
       "</div>"
      ],
      "text/plain": [
       "   Year4,5  All persons6  Under 16  16 to 24  25 to 34  35 to 44  45 to 54  \\\n",
       "1  2005/06        2564.0     583.0      96.0     341.0     637.0     554.0   \n",
       "2  2006/07        3862.0     656.0     184.0     461.0    1069.0     872.0   \n",
       "3  2007/08        5018.0     747.0     228.0     564.0    1469.0    1198.0   \n",
       "4  2008/09        7988.0     775.0     322.0    1013.0    2359.0    2133.0   \n",
       "5  2009/10       10571.0     632.0     361.0    1348.0    3132.0    3076.0   \n",
       "\n",
       "   55 to 64  65 to 74  75 and over  \n",
       "1     258.0      72.0         20.0  \n",
       "2     459.0     118.0         43.0  \n",
       "3     598.0     157.0         53.0  \n",
       "4    1099.0     221.0         63.0  \n",
       "5    1555.0     378.0         87.0  "
      ]
     },
     "execution_count": 7,
     "metadata": {},
     "output_type": "execute_result"
    }
   ],
   "source": [
    "data_age.dropna(axis = 0, how='all', inplace=True) # drop NaN rows\n",
    "data_age.dropna(axis = 1, how='all', inplace=True) # drop NaN cols\n",
    "data_age.head()"
   ]
  },
  {
   "cell_type": "markdown",
   "metadata": {},
   "source": [
    "Let's also change the first two column names to make things easier for us."
   ]
  },
  {
   "cell_type": "code",
   "execution_count": 8,
   "metadata": {},
   "outputs": [
    {
     "data": {
      "text/html": [
       "<div>\n",
       "<style scoped>\n",
       "    .dataframe tbody tr th:only-of-type {\n",
       "        vertical-align: middle;\n",
       "    }\n",
       "\n",
       "    .dataframe tbody tr th {\n",
       "        vertical-align: top;\n",
       "    }\n",
       "\n",
       "    .dataframe thead th {\n",
       "        text-align: right;\n",
       "    }\n",
       "</style>\n",
       "<table border=\"1\" class=\"dataframe\">\n",
       "  <thead>\n",
       "    <tr style=\"text-align: right;\">\n",
       "      <th></th>\n",
       "      <th>Year</th>\n",
       "      <th>Total</th>\n",
       "      <th>Under 16</th>\n",
       "      <th>16 to 24</th>\n",
       "      <th>25 to 34</th>\n",
       "      <th>35 to 44</th>\n",
       "      <th>45 to 54</th>\n",
       "      <th>55 to 64</th>\n",
       "      <th>65 to 74</th>\n",
       "      <th>75 and over</th>\n",
       "    </tr>\n",
       "  </thead>\n",
       "  <tbody>\n",
       "    <tr>\n",
       "      <th>1</th>\n",
       "      <td>2005/06</td>\n",
       "      <td>2564.0</td>\n",
       "      <td>583.0</td>\n",
       "      <td>96.0</td>\n",
       "      <td>341.0</td>\n",
       "      <td>637.0</td>\n",
       "      <td>554.0</td>\n",
       "      <td>258.0</td>\n",
       "      <td>72.0</td>\n",
       "      <td>20.0</td>\n",
       "    </tr>\n",
       "    <tr>\n",
       "      <th>2</th>\n",
       "      <td>2006/07</td>\n",
       "      <td>3862.0</td>\n",
       "      <td>656.0</td>\n",
       "      <td>184.0</td>\n",
       "      <td>461.0</td>\n",
       "      <td>1069.0</td>\n",
       "      <td>872.0</td>\n",
       "      <td>459.0</td>\n",
       "      <td>118.0</td>\n",
       "      <td>43.0</td>\n",
       "    </tr>\n",
       "    <tr>\n",
       "      <th>3</th>\n",
       "      <td>2007/08</td>\n",
       "      <td>5018.0</td>\n",
       "      <td>747.0</td>\n",
       "      <td>228.0</td>\n",
       "      <td>564.0</td>\n",
       "      <td>1469.0</td>\n",
       "      <td>1198.0</td>\n",
       "      <td>598.0</td>\n",
       "      <td>157.0</td>\n",
       "      <td>53.0</td>\n",
       "    </tr>\n",
       "    <tr>\n",
       "      <th>4</th>\n",
       "      <td>2008/09</td>\n",
       "      <td>7988.0</td>\n",
       "      <td>775.0</td>\n",
       "      <td>322.0</td>\n",
       "      <td>1013.0</td>\n",
       "      <td>2359.0</td>\n",
       "      <td>2133.0</td>\n",
       "      <td>1099.0</td>\n",
       "      <td>221.0</td>\n",
       "      <td>63.0</td>\n",
       "    </tr>\n",
       "    <tr>\n",
       "      <th>5</th>\n",
       "      <td>2009/10</td>\n",
       "      <td>10571.0</td>\n",
       "      <td>632.0</td>\n",
       "      <td>361.0</td>\n",
       "      <td>1348.0</td>\n",
       "      <td>3132.0</td>\n",
       "      <td>3076.0</td>\n",
       "      <td>1555.0</td>\n",
       "      <td>378.0</td>\n",
       "      <td>87.0</td>\n",
       "    </tr>\n",
       "  </tbody>\n",
       "</table>\n",
       "</div>"
      ],
      "text/plain": [
       "      Year    Total  Under 16  16 to 24  25 to 34  35 to 44  45 to 54  \\\n",
       "1  2005/06   2564.0     583.0      96.0     341.0     637.0     554.0   \n",
       "2  2006/07   3862.0     656.0     184.0     461.0    1069.0     872.0   \n",
       "3  2007/08   5018.0     747.0     228.0     564.0    1469.0    1198.0   \n",
       "4  2008/09   7988.0     775.0     322.0    1013.0    2359.0    2133.0   \n",
       "5  2009/10  10571.0     632.0     361.0    1348.0    3132.0    3076.0   \n",
       "\n",
       "   55 to 64  65 to 74  75 and over  \n",
       "1     258.0      72.0         20.0  \n",
       "2     459.0     118.0         43.0  \n",
       "3     598.0     157.0         53.0  \n",
       "4    1099.0     221.0         63.0  \n",
       "5    1555.0     378.0         87.0  "
      ]
     },
     "execution_count": 8,
     "metadata": {},
     "output_type": "execute_result"
    }
   ],
   "source": [
    "# pass in dictionary to change column names, inplace=True to change the actual data\n",
    "data_age.rename({'Year4,5':'Year', 'All persons6':'Total'}, axis='columns', inplace=True)\n",
    "# check\n",
    "data_age.columns\n",
    "data_age.head()"
   ]
  },
  {
   "cell_type": "markdown",
   "metadata": {},
   "source": [
    "If we want to use ```seaborn``` to plot this data we will have to convert it from wide to long form. We can do this using the ```pandas``` ```melt``` function."
   ]
  },
  {
   "cell_type": "code",
   "execution_count": 9,
   "metadata": {},
   "outputs": [
    {
     "data": {
      "text/html": [
       "<div>\n",
       "<style scoped>\n",
       "    .dataframe tbody tr th:only-of-type {\n",
       "        vertical-align: middle;\n",
       "    }\n",
       "\n",
       "    .dataframe tbody tr th {\n",
       "        vertical-align: top;\n",
       "    }\n",
       "\n",
       "    .dataframe thead th {\n",
       "        text-align: right;\n",
       "    }\n",
       "</style>\n",
       "<table border=\"1\" class=\"dataframe\">\n",
       "  <thead>\n",
       "    <tr style=\"text-align: right;\">\n",
       "      <th></th>\n",
       "      <th>Year</th>\n",
       "      <th>Group</th>\n",
       "      <th>Number</th>\n",
       "    </tr>\n",
       "  </thead>\n",
       "  <tbody>\n",
       "    <tr>\n",
       "      <th>0</th>\n",
       "      <td>2005/06</td>\n",
       "      <td>Total</td>\n",
       "      <td>2564.0</td>\n",
       "    </tr>\n",
       "    <tr>\n",
       "      <th>1</th>\n",
       "      <td>2006/07</td>\n",
       "      <td>Total</td>\n",
       "      <td>3862.0</td>\n",
       "    </tr>\n",
       "    <tr>\n",
       "      <th>2</th>\n",
       "      <td>2007/08</td>\n",
       "      <td>Total</td>\n",
       "      <td>5018.0</td>\n",
       "    </tr>\n",
       "    <tr>\n",
       "      <th>3</th>\n",
       "      <td>2008/09</td>\n",
       "      <td>Total</td>\n",
       "      <td>7988.0</td>\n",
       "    </tr>\n",
       "    <tr>\n",
       "      <th>4</th>\n",
       "      <td>2009/10</td>\n",
       "      <td>Total</td>\n",
       "      <td>10571.0</td>\n",
       "    </tr>\n",
       "  </tbody>\n",
       "</table>\n",
       "</div>"
      ],
      "text/plain": [
       "      Year  Group   Number\n",
       "0  2005/06  Total   2564.0\n",
       "1  2006/07  Total   3862.0\n",
       "2  2007/08  Total   5018.0\n",
       "3  2008/09  Total   7988.0\n",
       "4  2009/10  Total  10571.0"
      ]
     },
     "execution_count": 9,
     "metadata": {},
     "output_type": "execute_result"
    }
   ],
   "source": [
    "data_age_m = pd.melt(data_age, id_vars='Year', var_name='Group', value_name='Number')\n",
    "data_age_m.head()"
   ]
  },
  {
   "cell_type": "markdown",
   "metadata": {},
   "source": [
    "Now we've got to the stage where we have cleaned up data we can use for plotting and examining the trends in obesity for different age groups over time."
   ]
  },
  {
   "cell_type": "code",
   "execution_count": 10,
   "metadata": {},
   "outputs": [
    {
     "data": {
      "image/png": "[encoded data removed]",
      "text/plain": [
       "<Figure size 720x360 with 1 Axes>"
      ]
     },
     "metadata": {},
     "output_type": "display_data"
    }
   ],
   "source": [
    "plt.figure(figsize=(10,5)) # set plot dimensions\n",
    "sns.lineplot('Year', 'Number', hue='Group', data=data_age_m) # size argument sets plot size\n",
    "plt.xticks(rotation=45) # rotate tick labels for clarity\n",
    "plt.show()"
   ]
  },
  {
   "cell_type": "markdown",
   "metadata": {
    "collapsed": true
   },
   "source": [
    "Generally it looks as though obesity has been increasing over the years but the Total group dominates this plot and makes it hard to see what's going on in the individual age groups. We should drop ```Total``` from the plot and re-examine the data. "
   ]
  },
  {
   "cell_type": "code",
   "execution_count": 11,
   "metadata": {},
   "outputs": [
    {
     "data": {
      "image/png": "[encoded data removed]",
      "text/plain": [
       "<Figure size 720x360 with 1 Axes>"
      ]
     },
     "metadata": {},
     "output_type": "display_data"
    }
   ],
   "source": [
    "# Drop the total column and re-plot\n",
    "plt.figure(figsize=(10,5)) # set plot dimensions\n",
    "data_age_m = data_age_m[data_age_m.Group != 'Total'] # drop the rows with Total in them, simple filter\n",
    "sns.lineplot('Year', 'Number', hue='Group', data=data_age_m)\n",
    "plt.xticks(rotation=45)\n",
    "plt.show()"
   ]
  },
  {
   "cell_type": "markdown",
   "metadata": {},
   "source": [
    "It's clearer now that for certain age groups there has been a steep increase in obesity. We started with a question about obesity in children so let's do a final plot to examine our original question and see if childhood and adult obesity display the same trend."
   ]
  },
  {
   "cell_type": "code",
   "execution_count": 12,
   "metadata": {},
   "outputs": [
    {
     "data": {
      "text/html": [
       "<div>\n",
       "<style scoped>\n",
       "    .dataframe tbody tr th:only-of-type {\n",
       "        vertical-align: middle;\n",
       "    }\n",
       "\n",
       "    .dataframe tbody tr th {\n",
       "        vertical-align: top;\n",
       "    }\n",
       "\n",
       "    .dataframe thead th {\n",
       "        text-align: right;\n",
       "    }\n",
       "</style>\n",
       "<table border=\"1\" class=\"dataframe\">\n",
       "  <thead>\n",
       "    <tr style=\"text-align: right;\">\n",
       "      <th></th>\n",
       "      <th>Year</th>\n",
       "      <th>Group</th>\n",
       "      <th>Number</th>\n",
       "    </tr>\n",
       "  </thead>\n",
       "  <tbody>\n",
       "    <tr>\n",
       "      <th>11</th>\n",
       "      <td>2005/06</td>\n",
       "      <td>Under 16</td>\n",
       "      <td>583.0</td>\n",
       "    </tr>\n",
       "    <tr>\n",
       "      <th>12</th>\n",
       "      <td>2006/07</td>\n",
       "      <td>Under 16</td>\n",
       "      <td>656.0</td>\n",
       "    </tr>\n",
       "    <tr>\n",
       "      <th>13</th>\n",
       "      <td>2007/08</td>\n",
       "      <td>Under 16</td>\n",
       "      <td>747.0</td>\n",
       "    </tr>\n",
       "    <tr>\n",
       "      <th>14</th>\n",
       "      <td>2008/09</td>\n",
       "      <td>Under 16</td>\n",
       "      <td>775.0</td>\n",
       "    </tr>\n",
       "    <tr>\n",
       "      <th>15</th>\n",
       "      <td>2009/10</td>\n",
       "      <td>Under 16</td>\n",
       "      <td>632.0</td>\n",
       "    </tr>\n",
       "  </tbody>\n",
       "</table>\n",
       "</div>"
      ],
      "text/plain": [
       "       Year     Group  Number\n",
       "11  2005/06  Under 16   583.0\n",
       "12  2006/07  Under 16   656.0\n",
       "13  2007/08  Under 16   747.0\n",
       "14  2008/09  Under 16   775.0\n",
       "15  2009/10  Under 16   632.0"
      ]
     },
     "execution_count": 12,
     "metadata": {},
     "output_type": "execute_result"
    }
   ],
   "source": [
    "keeps = ['Under 16', '16 to 24', '45 to 54'] # groups to keep\n",
    "data_age_m = data_age_m[data_age_m['Group'].isin(keeps)]\n",
    "data_age_m.head()"
   ]
  },
  {
   "cell_type": "code",
   "execution_count": 13,
   "metadata": {},
   "outputs": [
    {
     "data": {
      "image/png": "[encoded data removed]",
      "text/plain": [
       "<Figure size 720x360 with 1 Axes>"
      ]
     },
     "metadata": {},
     "output_type": "display_data"
    }
   ],
   "source": [
    "# plot the filtered data\n",
    "plt.figure(figsize=(10,5)) # set plot dimensions\n",
    "sns.lineplot('Year', 'Number', hue='Group', data=data_age_m)\n",
    "plt.xticks(rotation=45)\n",
    "plt.show()"
   ]
  },
  {
   "cell_type": "markdown",
   "metadata": {},
   "source": [
    "From this we would conclude that over the past few years there has in fact been a slight drop and a plateau in childhood obesity. The parents of these children have however increased in weight substantially. However a few words of caution are required. Looking at the notes in the spreadsheet we began with we see that these numbers come from people who were hospitalised as a result of obesity:\n",
    "\n",
    "> A finished admission episode (FAE) is the first period of inpatient care under one consultant within one healthcare provider. FAEs are counted against the year in which the admission episode finishes. Admissions do not represent the number of inpatients, as a person may have more than one admission within the year.\t\t\t\t\t\t\t\t\t\n",
    "\n",
    "It's reasonable to assume that only the sickest or most distressed obese children are admitted to hospital due to obesity directly. So these numbers are probably an under-estimate of the true rate of obesity in children and young adults. For the adults the story may be different. Adults (especially middle aged adults) are more likely to suffer ill effects. So we have to be cautious about our conclusions."
   ]
  },
  {
   "cell_type": "markdown",
   "metadata": {},
   "source": [
    "## Putting it together\n",
    "\n",
    "One way we might get a more accurate idea of profound childhood obesity would be to look at individuals who were so severely obese that they underwent bariatric surgery. Table 9 in the spreadsheet details:\n",
    "\n",
    "> Table 9: Finished Consultant Episodes with a primary diagnosis of obesity and a main or secondary procedure of 'Bariatric Surgery' by gender\t\t\t\t\t\t\t\t\t\t\n",
    "\n",
    "Use ```pandas``` to read in the spreadsheet. As above you'll have to supply the URL. Pull out the data on bariatric surgery and tidy it up. Create two plots side-by-side, one showing the trend for children (<16) and one showing the trend for 16-24 year olds. Do these trends look the same? What do you think this might say about youth obesity?\n",
    "\n",
    "Hint: To carry out this task you'll need to load both ```pandas``` and ```requests```. Although we've used the ```subplot``` function in ```pyplot``` to draw figures side by side in this case we'll want to set up a proper figure object. In ```pyplot``` the [```figure```](http://matplotlib.org/api/figure_api.html#matplotlib.figure) (there's lots of documentation here!) function sets up a 'space' that will contain the elements of the figure (including subplots). For this task you'll want to set up a ```figure``` that is 8x4 inches using the [```figsize```](http://matplotlib.org/api/figure_api.html#matplotlib.figure.Figure) argument. Then you can use the ```subplots``` function to set up subplots as before. You might want to use the [```subplots_adjust```](http://matplotlib.org/api/figure_api.html#matplotlib.figure.Figure.subplots_adjust) function with the ```wspace``` argument set to make sure there is adequate spacing between your plots."
   ]
  },
  {
   "cell_type": "markdown",
   "metadata": {},
   "source": [
    "## Homework\n",
    "\n",
    "The [DataDryad digital](http://datadryad.org/) repository provides an online location where researchers can deposit raw data for others to examine or re-analyse:\n",
    ">DataDryad.org is a curated general-purpose repository that makes the data underlying scientific publications discoverable, freely reusable, and citable. Dryad has integrated data submission for a growing list of journals; submission of data from other publications is also welcome. \n",
    "\n",
    "In this homework exercise we will download a dataset on exercise training and fish (really!) and re-create a couple of the figures from the associated paper. In 2013 Sinclair et al published a paper in Functional Ecology that claimed: \n",
    ">Exercise changes behaviour and may thereby alter interactions between individuals and dispersal. Environmental changes that demand increased levels of exercise induce behavioural responses that are likely to increase the success of individuals under these changed conditions.\n",
    "\n",
    "The paper is available [here](http://dx.doi.org/10.1111/1365-2435.12198).\n",
    "\n",
    "They published the data from their study as a series of Excel spreadsheets through the DataDryad website. The data are available [here](http://datadryad.org/bitstream/handle/10255/dryad.54583/Sinclair%20et%20al_all%20data.xlsx?sequence=1).\n",
    "\n",
    "If the links aren't working for anyone the paper is:\n",
    "Sinclair ELE, Noronha de Souza CR, Ward AJW, Seebacher F (2013) Exercise changes behaviour. Functional Ecology 28(3): 652–659. http://dx.doi.org/10.1111/1365-2435.12198\n",
    "\n",
    "The data is available at:\n",
    "http://datadryad.org/bitstream/handle/10255/dryad.54583/Sinclair%20et%20al_all%20data.xlsx?sequence=1\n",
    "\n",
    "Use the data in the spreadsheet to reproduce figures 1 and 2a from the paper. \n",
    "\n",
    "For the figure 1 data carry out a one-way anova using the [```scipy.stats.f_oneway```](http://docs.scipy.org/doc/scipy-0.15.1/reference/generated/scipy.stats.f_oneway.html) to examine whether there are differences between the treatments. As with the other tests you have used the ```scipy.stats.f_oneway``` function returns a tuple (F-value and $p$-value). Print an informative statement with the $p$-value telling the reader whether there is statistical significance between the groups or not.\n",
    "\n",
    "Hint: When reading in the data you can use the ```parse_cols``` argument in the ```parse``` function to prevent reading in extra columns (see the [```pandas.ExcelFile.parse```](http://pandas.pydata.org/pandas-docs/stable/generated/pandas.ExcelFile.parse.html) documentation).\n",
    "\n",
    "For figure 2a use the ```pyplot.figure()``` and ```pyplot.subplot()``` commands to place the subplots properly. You'll also need to adjust the ```wspace``` and ```hspace``` arguments to space your plots correctly and the ```seaborn.regplot()``` function to draw the scatterplots (```seaborn.lmplot()``` won't work here)."
   ]
  }
 ],
 "metadata": {
  "anaconda-cloud": {},
  "kernelspec": {
   "display_name": "Python 3",
   "language": "python",
   "name": "python3"
  },
  "language_info": {
   "codemirror_mode": {
    "name": "ipython",
    "version": 3
   },
   "file_extension": ".py",
   "mimetype": "text/x-python",
   "name": "python",
   "nbconvert_exporter": "python",
   "pygments_lexer": "ipython3",
   "version": "3.6.6"
  }
 },
 "nbformat": 4,
 "nbformat_minor": 1
}
