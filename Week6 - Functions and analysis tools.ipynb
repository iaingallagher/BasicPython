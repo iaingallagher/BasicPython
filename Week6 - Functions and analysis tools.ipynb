{
 "cells": [
  {
   "cell_type": "markdown",
   "metadata": {},
   "source": [
    "## Introduction\n",
    "\n",
    "In the first part of this unit we will look at **functions**. You could think of these as self-contained mini programmes that you write to deal with a certain problem you will repeatedly have. In the last unit we wrote a script to calculate BMI. If we wanted to incorporate a BMI calculation into other programmes we were writing we could copy the previous code. A much better approach wuld be to write a function that will automate this calculation and then use that in the new programme. Then, if things change you only have to change the function and not the other parts of your programme.\n",
    "\n",
    "In the second part of this unit we'll look at a specific python module which can take a lot of the pain out of data analysis. This module is called [```pandas```](http://pandas.pydata.org/). The module contains many functions that carry out both mundane and more advanced tasks in data analysis and we'll see some of this in action."
   ]
  },
  {
   "cell_type": "markdown",
   "metadata": {},
   "source": [
    "## Functions\n",
    "\n",
    "As stated in the introduction functions are small self contained routines that perform some computational task. You have already used a number of the built in functions in python. One example is the ```max()``` function which will return the maximum value of a list."
   ]
  },
  {
   "cell_type": "code",
   "execution_count": 1,
   "metadata": {
    "collapsed": false
   },
   "outputs": [
    {
     "data": {
      "text/plain": [
       "102"
      ]
     },
     "execution_count": 1,
     "metadata": {},
     "output_type": "execute_result"
    }
   ],
   "source": [
    "lst = [-4,5,-12,76,23,56,99,102,-112]\n",
    "max(lst)"
   ]
  },
  {
   "cell_type": "markdown",
   "metadata": {},
   "source": [
    "How would we go about writing a script that duplicates the functionality of ```max()```? We could simply iterate over the list with a ```for``` loop, compare each value to the current value and if the current value is bigger we keep it."
   ]
  },
  {
   "cell_type": "code",
   "execution_count": 2,
   "metadata": {
    "collapsed": false
   },
   "outputs": [
    {
     "name": "stdout",
     "output_type": "stream",
     "text": [
      "102\n"
     ]
    }
   ],
   "source": [
    "lst = [-4,5,-12,76,23,56,99,102,-112]\n",
    "mx = None # mx is of type None initially. Why not 0?\n",
    "\n",
    "for n in lst:\n",
    "\n",
    "    if mx < n:\n",
    "        mx = n\n",
    "        \n",
    "print mx        "
   ]
  },
  {
   "cell_type": "markdown",
   "metadata": {},
   "source": [
    "We've just written a simple for loop to identify the largest number in a list. If we wanted to repeat the process of identifying the largest number is another list somewhere else in our programme we'd have to write another loop! Wouldn't it be easier to write the loop once and then just repeatedly use the same bit of code without all the re-typing (or copy/pasting)? That's exactly what functions allow you to do.\n",
    "\n",
    "In python the syntax for writing functions is to begin with the ```def``` keyword, then type the name of your function and in parentheses any **arguments** your function will take and a colon. All the function code, the code  that does the actual computation, is then indented (just like in loops). Once you've written the function you can **call** it from anywhere in your programme simply by typing the function name followed by relevant arguments in parentheses after the function name. As ever it's easier with an example, so let's write our own function to get the maximum value in a list."
   ]
  },
  {
   "cell_type": "code",
   "execution_count": 3,
   "metadata": {
    "collapsed": true
   },
   "outputs": [],
   "source": [
    "def lst_mx(lst): # begin with def keyword, then arguments, end with colon\n",
    "    mx = None # indent processing code, just like loops\n",
    "    \n",
    "    for n in lst:\n",
    "        \n",
    "        if mx < n:\n",
    "            mx = n\n",
    "            \n",
    "    return mx # we want to hand something back to the user, return keyword        "
   ]
  },
  {
   "cell_type": "markdown",
   "metadata": {},
   "source": [
    "So in the code above we have all the building blocks.\n",
    "\n",
    "We start with the **def**inition - the ```def``` keyword, the function name and a placeholder for the argument it will take. Note we have called the placeholder ```lst``` in this example and ```lst``` is also the name we use inside the function. Essentially we will pass a variable called ```lst``` to the inside of the function where stuff will happen.\n",
    "\n",
    "Next we have our indented function body. This contains the code that will do whatever computation we want; in this case calculate the maximum value of the ```lst``` variable. Finally we end our function with a **return** statement. The return statement returns some value out of the function so we can use that value. In contrast if we ended our function definition with a **print** statement we would see our value being printed to the screen but we couldn't do anything further with it. Using a ```return``` statement we can assign the output of our function to a new variable."
   ]
  },
  {
   "cell_type": "code",
   "execution_count": 4,
   "metadata": {
    "collapsed": false
   },
   "outputs": [
    {
     "name": "stdout",
     "output_type": "stream",
     "text": [
      "67\n"
     ]
    }
   ],
   "source": [
    "another_list = [14,52,67,12,-130,46,-26]\n",
    "list_max = lst_mx(another_list)\n",
    "print list_max"
   ]
  },
  {
   "cell_type": "markdown",
   "metadata": {},
   "source": [
    "In the above example notice that the ```list``` that went into the function wasn't called ```lst```; that's just a placeholder for what goes into the function. Once we have passed some value to the function it is assigned the label ```lst``` inside the function and the computation is carried out."
   ]
  },
  {
   "cell_type": "markdown",
   "metadata": {},
   "source": [
    "## Function using ```dict``` to count things - implementations\n",
    "One use of ```dictionaries``` in python is to count things (usually text). How does that work and what does it have to do with functions? Suppose we were given a text file and asked to count the number of times each letter appears. You could:\n",
    "\n",
    "* create 26 variables, one for each letter of the alphabet. Then you could traverse the string and, for each character, increment the corresponding counter, probably using a chained conditional.\n",
    "* create a list with 26 elements. Then you could convert each character to a number (using the built-in function [```ord```](https://docs.python.org/2/library/functions.html#ord)), use the number as an index into the list, and increment the appropriate counter.\n",
    "* create a dictionary with characters as keys and counters as the corresponding values. The first time you see a character, you would add an item to the dictionary. After that you would increment the value of an existing item.\n",
    "\n",
    "These all perform the same computation but the **implementation** is different in each. An implementation is a way of performing a computation and some implementations are more optimal than others. In the suggestion above using the ```dict``` we don’t have to create room for all 26 letters (some might not appear in the string at all) - we only have to make room for the letters that do appear.\n",
    "\n",
    "Here is some pseudocode for a function based on the ```dict``` implementation:\n",
    "\n",
    "```\n",
    "def a_function(input_string):\n",
    "    create an empty dict\n",
    "    for char in input_string:\n",
    "        if char is not in dict:\n",
    "            put the char in dict as a key with value 1\n",
    "        else:\n",
    "            dict[char] = dict[char]+1\n",
    "     return dict       \n",
    "```       \n",
    "First we define our function with a ```str``` as input. In the function we create an empty ```dict```ionary. Then a ```for``` loop traverses the string. Each time through the loop, if the character ```char``` is not in the dictionary, we create a new item with key ```char``` and the initial value 1 (since we have seen this letter once). If ```char``` is already in the dictionary we increment that ```dict``` entry (```d[char]```) by 1.\n",
    "\n",
    "Let's see how that would look coded up and see it in action."
   ]
  },
  {
   "cell_type": "code",
   "execution_count": 4,
   "metadata": {
    "collapsed": false
   },
   "outputs": [
    {
     "name": "stdout",
     "output_type": "stream",
     "text": [
      "A: 26\n",
      "C: 10\n",
      "E: 32\n",
      "D: 32\n",
      "G: 19\n",
      "F: 26\n",
      "I: 33\n",
      "H: 14\n",
      "K: 39\n",
      "M: 16\n",
      "L: 50\n",
      "N: 15\n",
      "Q: 23\n",
      "P: 23\n",
      "S: 34\n",
      "R: 19\n",
      "T: 23\n",
      "W: 1\n",
      "V: 24\n",
      "Y: 18\n"
     ]
    }
   ],
   "source": [
    "# define a counting function\n",
    "def histogram(s):\n",
    "    d = dict()\n",
    "    for char in s:\n",
    "        if char not in d:\n",
    "            d[char] = 1\n",
    "        else:\n",
    "            d[char] += 1\n",
    "    return d\n",
    "\n",
    "f_loc = 'data/pparg_prot.fa' # open a file\n",
    "f_hand = open(f_loc, 'r')\n",
    "\n",
    "lines  = f_hand.read().splitlines() # get the lines, drop trailing \\n\n",
    "\n",
    "a_acids = '' # empty str\n",
    "\n",
    "for i in range(1,len(lines)): # don't include the first line (fasta header)\n",
    "    a_acids = a_acids + lines[i] # make a long string of amino acids\n",
    "    \n",
    "aa_counts = histogram(a_acids) # use the function; returns a dict\n",
    "\n",
    "for k in aa_counts.keys(): # loop through dict to get values\n",
    "    print '%s: %d' % (k, aa_counts[k])"
   ]
  },
  {
   "cell_type": "markdown",
   "metadata": {},
   "source": [
    "The name of the function is ```histogram```, which is a statistical term for a set of counters (or frequencies). One little bit of syntax you haven't seen yet is the use of ```+=```. This simply means increment the current value by whatever follows the ```+=``` sign.\n",
    "\n",
    "```python\n",
    "n = 1\n",
    "n += 1 # add 1 to n\n",
    "```\n",
    "\n",
    "We have used the function to parse through a fasta file containing the amino acids making up the human PPARG protein. The function returns a dictionary which we then loop over the extract the counts."
   ]
  },
  {
   "cell_type": "markdown",
   "metadata": {},
   "source": [
    "## Putting it together 1\n",
    "\n",
    "Write a function that will compute the square root of the sum of two numbers. \n",
    "\n",
    "Hint: The square root of a number is the same as the number raised to 0.5. Use the values 20 and 5 as input and you should get the value 5 back out."
   ]
  },
  {
   "cell_type": "markdown",
   "metadata": {
    "collapsed": true
   },
   "source": [
    "## Putting it together 2\n",
    "\n",
    "Write a function that can find the longest side of a right angled triangle. Test it with the values 3 and 4 for the other two sides. You should get 5 back out again. For those for whom it's been a while - Pythagoras theorem: $a^2 = b^2 + c^2$."
   ]
  },
  {
   "cell_type": "markdown",
   "metadata": {},
   "source": [
    "## Homework\n",
    "\n",
    "Write a script containing a function to compute an average. \n",
    "\n",
    "Using ```raw_input()``` get the ```data/marathon.csv``` file from the user. Use the ```try/except``` construct to gracefully exit if the file doesn't exist. \n",
    "\n",
    "Once the file is acquired print the column headers and ask the user which one they would like the average of. Use a function to compute the average of that column (python already uses ```mean``` as a function name so don't use that name for your function). If the selected column is not numeric use ```try\\except``` to gracefully exit."
   ]
  },
  {
   "cell_type": "markdown",
   "metadata": {},
   "source": [
    "# The ```pandas``` module\n",
    "\n",
    "In this second part of the unit we'll introduce the ```pandas``` module and see how it can make some of the data analysis tasks we carried out in the last unit easier. From the [website](http://pandas.pydata.org/):\n",
    ">pandas is an open source, BSD-licensed library providing high-performance, easy-to-use data structures and data analysis tools for the Python programming language.\n",
    "\n",
    "So what does that mean? Well in a nutshell ```pandas``` is designed to make it easier to do the kind of data analysis we did in the last unit where we divided a data set up into male and female and created derived variables, BMI in that case. The ```pandas``` module also makes it easier  - well easier than it was previously - to do statistical analysis on data.\n",
    "\n",
    "To begin we'll import the ```pandas``` module to make the functions in the module available to our current python session."
   ]
  },
  {
   "cell_type": "code",
   "execution_count": 5,
   "metadata": {
    "collapsed": true
   },
   "outputs": [],
   "source": [
    "import pandas as pd"
   ]
  },
  {
   "cell_type": "markdown",
   "metadata": {},
   "source": [
    "We have made python aware that we want to use the ```pandas``` module and we have also told python that we want to refer to this module as ```pd``` rather than typing out ```pandas``` all the time. You'll see this idiom used quite frequently in python code. Many times the module name will be shortened to some conventional, de facto form. Some examples are:\n",
    "\n",
    "```import numpy as np``` - this is python module for numerical computing i.e. routines for calculus & linear algebra\n",
    "\n",
    "```import scipy.stats as stats``` - scipy is another scientific computing module that contains a range of statistical routines\n",
    "\n",
    "One thing to note about the second example above is that we have only imported part of the ```scipy``` module and specifically the part that has statistical routines. \n",
    "\n",
    "The ```pandas``` library uses two workhorse data structures to make it easier to work with data; these are the ```Series``` and the ```DataFrame```. The ```Series``` data object is one dimensional - like a single column or a single row from a spreadsheet. We can create and examine a ```Series``` object as shown below."
   ]
  },
  {
   "cell_type": "markdown",
   "metadata": {},
   "source": [
    "### The ```Series```"
   ]
  },
  {
   "cell_type": "code",
   "execution_count": 2,
   "metadata": {
    "collapsed": false
   },
   "outputs": [
    {
     "data": {
      "text/plain": [
       "0     1.0\n",
       "1    19.0\n",
       "2   -10.0\n",
       "3    12.4\n",
       "4    56.2\n",
       "dtype: float64"
      ]
     },
     "execution_count": 2,
     "metadata": {},
     "output_type": "execute_result"
    }
   ],
   "source": [
    "ser = pd.Series([1,19,-10,12.4,56.2])\n",
    "ser"
   ]
  },
  {
   "cell_type": "markdown",
   "metadata": {},
   "source": [
    "The constructor for the ```Series``` object takes its' argument and tranforms it into a ```pandas``` series. We use the  ```pd.Series``` notation to tell python we want to use the ```Series``` function in the ```pandas``` library. When we examine the object we see that it contains the datatype (```dtype```) ```float64```. Don't worry about the 64 part (you may see 32), the useful part is knowing this ```Series``` contains ```float```s. The numbers to the left of our object are the **index** for each entry of the ```Series```. We use these to access individual data values and they can be changed or specified when we create our object."
   ]
  },
  {
   "cell_type": "code",
   "execution_count": 3,
   "metadata": {
    "collapsed": false
   },
   "outputs": [
    {
     "data": {
      "text/plain": [
       "a     1.0\n",
       "b    19.0\n",
       "c   -10.0\n",
       "d    12.4\n",
       "e    56.2\n",
       "dtype: float64"
      ]
     },
     "execution_count": 3,
     "metadata": {},
     "output_type": "execute_result"
    }
   ],
   "source": [
    "ser = pd.Series([1,19,-10,12.4,56.2], index=['a', 'b', 'c', 'd','e'])\n",
    "ser"
   ]
  },
  {
   "cell_type": "code",
   "execution_count": 4,
   "metadata": {
    "collapsed": false
   },
   "outputs": [
    {
     "data": {
      "text/plain": [
       "Index([u'a', u'b', u'c', u'd', u'e'], dtype='object')"
      ]
     },
     "execution_count": 4,
     "metadata": {},
     "output_type": "execute_result"
    }
   ],
   "source": [
    "ser.index"
   ]
  },
  {
   "cell_type": "markdown",
   "metadata": {},
   "source": [
    "You can also create a ```Series``` from a dictionary and the keys in the dictionary will be automatically assigned as the ```Series``` index. Super handy!"
   ]
  },
  {
   "cell_type": "code",
   "execution_count": 4,
   "metadata": {
    "collapsed": false
   },
   "outputs": [
    {
     "data": {
      "text/plain": [
       "Index([u'a', u'b', u'c', u'd', u'e'], dtype='object')"
      ]
     },
     "execution_count": 4,
     "metadata": {},
     "output_type": "execute_result"
    }
   ],
   "source": [
    "dct = {'a':1, 'b':2, 'c':3, 'd':4, 'e':5}\n",
    "ser2 = pd.Series(dct)\n",
    "ser2.index"
   ]
  },
  {
   "cell_type": "markdown",
   "metadata": {},
   "source": [
    "The ```u``` before each index entry in the above output stands for [**unicode**](http://en.wikipedia.org/wiki/Unicode) and this is one way of representing text characters. It makes no great difference for our purposes.\n",
    "\n",
    "Instead of having to create a slice using particular values position in the ```Series``` object (as would have to do with a ```list```) we can use the index directly."
   ]
  },
  {
   "cell_type": "code",
   "execution_count": 5,
   "metadata": {
    "collapsed": false
   },
   "outputs": [
    {
     "data": {
      "text/plain": [
       "-10.0"
      ]
     },
     "execution_count": 5,
     "metadata": {},
     "output_type": "execute_result"
    }
   ],
   "source": [
    "ser['c']"
   ]
  },
  {
   "cell_type": "markdown",
   "metadata": {
    "collapsed": true
   },
   "source": [
    "If we wanted to select several values from the ```Series``` we can use the ```ix``` (short for index) method. Notice that because of the way ```pandas``` works internally we have to pass a list of lists to the ```.ix``` method."
   ]
  },
  {
   "cell_type": "code",
   "execution_count": 6,
   "metadata": {
    "collapsed": false
   },
   "outputs": [
    {
     "data": {
      "text/plain": [
       "a     1.0\n",
       "d    12.4\n",
       "dtype: float64"
      ]
     },
     "execution_count": 6,
     "metadata": {},
     "output_type": "execute_result"
    }
   ],
   "source": [
    "ser.ix[['a','d']]"
   ]
  },
  {
   "cell_type": "markdown",
   "metadata": {},
   "source": [
    "Filtering is also easy because we don't have to write loops. Notice that we get a ```Series``` object back."
   ]
  },
  {
   "cell_type": "code",
   "execution_count": 7,
   "metadata": {
    "collapsed": false
   },
   "outputs": [
    {
     "data": {
      "text/plain": [
       "b    19.0\n",
       "d    12.4\n",
       "e    56.2\n",
       "dtype: float64"
      ]
     },
     "execution_count": 7,
     "metadata": {},
     "output_type": "execute_result"
    }
   ],
   "source": [
    "ser[ser > 10]"
   ]
  },
  {
   "cell_type": "markdown",
   "metadata": {},
   "source": [
    "Arithmetical and mathematical transformations can also be done in one pass."
   ]
  },
  {
   "cell_type": "code",
   "execution_count": 8,
   "metadata": {
    "collapsed": false
   },
   "outputs": [
    {
     "data": {
      "text/plain": [
       "a      3.0\n",
       "b     57.0\n",
       "c    -30.0\n",
       "d     37.2\n",
       "e    168.6\n",
       "dtype: float64"
      ]
     },
     "execution_count": 8,
     "metadata": {},
     "output_type": "execute_result"
    }
   ],
   "source": [
    "ser * 3"
   ]
  },
  {
   "cell_type": "markdown",
   "metadata": {},
   "source": [
    "There's a nice tutorial on the pandas datatypes [here](http://www.gregreda.com/2013/10/26/intro-to-pandas-data-structures/) and you can read more about the kinds of operations you can carry out with ```Series``` objects. We'll move on to the second ```pandas``` data structure now - the ```DataFrame```."
   ]
  },
  {
   "cell_type": "markdown",
   "metadata": {},
   "source": [
    "### The ```Dataframe```\n",
    "\n",
    "The ```Dataframe``` object is like a single sheet from a spreadsheet. It has two dimensions - rows and columns. The most useful feature of ```DataFrames``` is that each column can contain a different type of data e.g. one column could contain text (i.e. strings), another can contain ```ints```, another could contain ```booleans``` and yet another ```floats```. This approach makes handling data much easier than maintaining separate lists or lists of lists. To construct a ```DataFrame``` by hand we can use a ```dict``` object where each key in the ```dict``` indexes a ```list```."
   ]
  },
  {
   "cell_type": "code",
   "execution_count": 2,
   "metadata": {
    "collapsed": false
   },
   "outputs": [
    {
     "data": {
      "text/plain": [
       "{'city': ['Stirling', 'Cork', 'Leeds', 'Swansea'],\n",
       " 'country': ['Scotland', 'Ireland', 'England', 'Wales'],\n",
       " 'pop': [45750, 119230, 751500, 239000]}"
      ]
     },
     "execution_count": 2,
     "metadata": {},
     "output_type": "execute_result"
    }
   ],
   "source": [
    "cities = {'city':['Stirling', 'Cork', 'Leeds', 'Swansea'], 'country':['Scotland','Ireland', 'England', 'Wales'], \\\n",
    "          'pop':[45750, 119230, 751500, 239000,]}\n",
    "cities"
   ]
  },
  {
   "cell_type": "markdown",
   "metadata": {},
   "source": [
    "At the moment ```cities``` is a ```dict``` object with each list indexed by a ```string```. To convert this to a ```DataFrame``` we simply use the ```pandas``` ```DataFrame``` function."
   ]
  },
  {
   "cell_type": "code",
   "execution_count": 10,
   "metadata": {
    "collapsed": false
   },
   "outputs": [
    {
     "data": {
      "text/html": [
       "<div>\n",
       "<table border=\"1\" class=\"dataframe\">\n",
       "  <thead>\n",
       "    <tr style=\"text-align: right;\">\n",
       "      <th></th>\n",
       "      <th>city</th>\n",
       "      <th>country</th>\n",
       "      <th>pop</th>\n",
       "    </tr>\n",
       "  </thead>\n",
       "  <tbody>\n",
       "    <tr>\n",
       "      <th>0</th>\n",
       "      <td>Stirling</td>\n",
       "      <td>Scotland</td>\n",
       "      <td>45750</td>\n",
       "    </tr>\n",
       "    <tr>\n",
       "      <th>1</th>\n",
       "      <td>Cork</td>\n",
       "      <td>Ireland</td>\n",
       "      <td>119230</td>\n",
       "    </tr>\n",
       "    <tr>\n",
       "      <th>2</th>\n",
       "      <td>Leeds</td>\n",
       "      <td>England</td>\n",
       "      <td>751500</td>\n",
       "    </tr>\n",
       "    <tr>\n",
       "      <th>3</th>\n",
       "      <td>Swansea</td>\n",
       "      <td>Wales</td>\n",
       "      <td>239000</td>\n",
       "    </tr>\n",
       "  </tbody>\n",
       "</table>\n",
       "</div>"
      ],
      "text/plain": [
       "       city   country     pop\n",
       "0  Stirling  Scotland   45750\n",
       "1      Cork   Ireland  119230\n",
       "2     Leeds   England  751500\n",
       "3   Swansea     Wales  239000"
      ]
     },
     "execution_count": 10,
     "metadata": {},
     "output_type": "execute_result"
    }
   ],
   "source": [
    "citiesDF = pd.DataFrame(cities)\n",
    "citiesDF"
   ]
  },
  {
   "cell_type": "markdown",
   "metadata": {},
   "source": [
    "Notably we can also do this with multiple lists and the ```zip()``` function, except we have to specify column names for the resulting ```DataFrame```."
   ]
  },
  {
   "cell_type": "code",
   "execution_count": 8,
   "metadata": {
    "collapsed": false
   },
   "outputs": [
    {
     "data": {
      "text/html": [
       "<div>\n",
       "<table border=\"1\" class=\"dataframe\">\n",
       "  <thead>\n",
       "    <tr style=\"text-align: right;\">\n",
       "      <th></th>\n",
       "      <th>letters</th>\n",
       "      <th>numbers</th>\n",
       "      <th>xs</th>\n",
       "    </tr>\n",
       "  </thead>\n",
       "  <tbody>\n",
       "    <tr>\n",
       "      <th>0</th>\n",
       "      <td>a</td>\n",
       "      <td>1</td>\n",
       "      <td>x</td>\n",
       "    </tr>\n",
       "    <tr>\n",
       "      <th>1</th>\n",
       "      <td>b</td>\n",
       "      <td>2</td>\n",
       "      <td>x</td>\n",
       "    </tr>\n",
       "    <tr>\n",
       "      <th>2</th>\n",
       "      <td>c</td>\n",
       "      <td>3</td>\n",
       "      <td>x</td>\n",
       "    </tr>\n",
       "    <tr>\n",
       "      <th>3</th>\n",
       "      <td>d</td>\n",
       "      <td>4</td>\n",
       "      <td>x</td>\n",
       "    </tr>\n",
       "    <tr>\n",
       "      <th>4</th>\n",
       "      <td>e</td>\n",
       "      <td>5</td>\n",
       "      <td>x</td>\n",
       "    </tr>\n",
       "  </tbody>\n",
       "</table>\n",
       "</div>"
      ],
      "text/plain": [
       "  letters  numbers xs\n",
       "0       a        1  x\n",
       "1       b        2  x\n",
       "2       c        3  x\n",
       "3       d        4  x\n",
       "4       e        5  x"
      ]
     },
     "execution_count": 8,
     "metadata": {},
     "output_type": "execute_result"
    }
   ],
   "source": [
    "a = ['a', 'b', 'c', 'd', 'e']\n",
    "b = [1,2,3,4,5]\n",
    "c = ['x','x','x','x','x']\n",
    "\n",
    "test = pd.DataFrame(zip(a,b,c), columns = ['letters', 'numbers', 'xs'])\n",
    "test"
   ]
  },
  {
   "cell_type": "markdown",
   "metadata": {},
   "source": [
    "We can select a single column of our ```DataFrame``` by indexing on the column name."
   ]
  },
  {
   "cell_type": "code",
   "execution_count": 11,
   "metadata": {
    "collapsed": false
   },
   "outputs": [
    {
     "data": {
      "text/plain": [
       "0    Stirling\n",
       "1        Cork\n",
       "2       Leeds\n",
       "3     Swansea\n",
       "Name: city, dtype: object"
      ]
     },
     "execution_count": 11,
     "metadata": {},
     "output_type": "execute_result"
    }
   ],
   "source": [
    "citiesDF['city']\n",
    "# citiesDF.city # alternative dot notation"
   ]
  },
  {
   "cell_type": "markdown",
   "metadata": {},
   "source": [
    "We can select rows of our data using the ```ix``` method."
   ]
  },
  {
   "cell_type": "code",
   "execution_count": 12,
   "metadata": {
    "collapsed": false
   },
   "outputs": [
    {
     "data": {
      "text/html": [
       "<div>\n",
       "<table border=\"1\" class=\"dataframe\">\n",
       "  <thead>\n",
       "    <tr style=\"text-align: right;\">\n",
       "      <th></th>\n",
       "      <th>city</th>\n",
       "      <th>country</th>\n",
       "      <th>pop</th>\n",
       "    </tr>\n",
       "  </thead>\n",
       "  <tbody>\n",
       "    <tr>\n",
       "      <th>0</th>\n",
       "      <td>Stirling</td>\n",
       "      <td>Scotland</td>\n",
       "      <td>45750</td>\n",
       "    </tr>\n",
       "    <tr>\n",
       "      <th>1</th>\n",
       "      <td>Cork</td>\n",
       "      <td>Ireland</td>\n",
       "      <td>119230</td>\n",
       "    </tr>\n",
       "  </tbody>\n",
       "</table>\n",
       "</div>"
      ],
      "text/plain": [
       "       city   country     pop\n",
       "0  Stirling  Scotland   45750\n",
       "1      Cork   Ireland  119230"
      ]
     },
     "execution_count": 12,
     "metadata": {},
     "output_type": "execute_result"
    }
   ],
   "source": [
    "citiesDF.ix[0:1] # only first two entries"
   ]
  },
  {
   "cell_type": "code",
   "execution_count": 13,
   "metadata": {
    "collapsed": false
   },
   "outputs": [
    {
     "data": {
      "text/html": [
       "<div>\n",
       "<table border=\"1\" class=\"dataframe\">\n",
       "  <thead>\n",
       "    <tr style=\"text-align: right;\">\n",
       "      <th></th>\n",
       "      <th>city</th>\n",
       "      <th>country</th>\n",
       "      <th>pop</th>\n",
       "    </tr>\n",
       "  </thead>\n",
       "  <tbody>\n",
       "    <tr>\n",
       "      <th>1</th>\n",
       "      <td>Cork</td>\n",
       "      <td>Ireland</td>\n",
       "      <td>119230</td>\n",
       "    </tr>\n",
       "    <tr>\n",
       "      <th>3</th>\n",
       "      <td>Swansea</td>\n",
       "      <td>Wales</td>\n",
       "      <td>239000</td>\n",
       "    </tr>\n",
       "  </tbody>\n",
       "</table>\n",
       "</div>"
      ],
      "text/plain": [
       "      city  country     pop\n",
       "1     Cork  Ireland  119230\n",
       "3  Swansea    Wales  239000"
      ]
     },
     "execution_count": 13,
     "metadata": {},
     "output_type": "execute_result"
    }
   ],
   "source": [
    "citiesDF.ix[[1,3]] # non-contiguous selection"
   ]
  },
  {
   "cell_type": "markdown",
   "metadata": {},
   "source": [
    "Selecting data based on user defined filters is very easy."
   ]
  },
  {
   "cell_type": "code",
   "execution_count": 14,
   "metadata": {
    "collapsed": false
   },
   "outputs": [
    {
     "data": {
      "text/html": [
       "<div>\n",
       "<table border=\"1\" class=\"dataframe\">\n",
       "  <thead>\n",
       "    <tr style=\"text-align: right;\">\n",
       "      <th></th>\n",
       "      <th>city</th>\n",
       "      <th>country</th>\n",
       "      <th>pop</th>\n",
       "    </tr>\n",
       "  </thead>\n",
       "  <tbody>\n",
       "    <tr>\n",
       "      <th>0</th>\n",
       "      <td>Stirling</td>\n",
       "      <td>Scotland</td>\n",
       "      <td>45750</td>\n",
       "    </tr>\n",
       "  </tbody>\n",
       "</table>\n",
       "</div>"
      ],
      "text/plain": [
       "       city   country    pop\n",
       "0  Stirling  Scotland  45750"
      ]
     },
     "execution_count": 14,
     "metadata": {},
     "output_type": "execute_result"
    }
   ],
   "source": [
    "citiesDF[citiesDF['pop'] < 100000] # cities with pop < 100,000"
   ]
  },
  {
   "cell_type": "markdown",
   "metadata": {},
   "source": [
    "Again we've only covered the very, very basics here (more to make you aware of ```pandas``` than anything else) and would suggest that you visit either the ```pandas``` [documentation](http://pandas.pydata.org/pandas-docs/stable/) (it's excellent), Grag Rada's useful [tutorials](http://www.gregreda.com/2013/10/26/intro-to-pandas-data-structures/) or if you're really keen, indulge yourself with the ```pandas``` [book](http://www.amazon.co.uk/Python-Data-Analysis-Wrangling-IPython/dp/1449319793)."
   ]
  },
  {
   "cell_type": "markdown",
   "metadata": {},
   "source": [
    "## Putting it together 1\n",
    "Using the table below create a python dictionary object with the column headers as keys and the contents as values. You've already seen this technique above. Use this dictionary to create a ```pandas DataFrame``` variable called ```old_samp```.\n",
    "\n",
    "| Gender | Age | body wt | ht    |\n",
    "|--------|-----|---------|-------|\n",
    "| F      | 77  | 63.8    | 155.5 |\n",
    "| F      | 80  | 56.4    | 160.5 |\n",
    "| M      | 79  | 75.5    | 171   |\n",
    "| M      | 75  | 83.9    | 178.5 |\n",
    "\n",
    "Use the ```pandas describe()``` method on this ```DataFrame```. What is the output from ```describe()``` telling you? Which column from the original data is missing from this output and why? Use the techniques for filtering data described above to get only the male data, only the female data. "
   ]
  },
  {
   "cell_type": "markdown",
   "metadata": {},
   "source": [
    "## Reading Data with ```pandas```\n",
    "\n",
    "One of most useful things about ```pandas``` is that is makes opening, examining and analysing data files like csv files much easier. The data we'll use are a set of marathon winning times for the years 1970 to 2000 for men and women. The original dataset is available (along with many others) at the [OpenIntro](https://www.openintro.org/) website. These data are in a ```csv``` file and we'll read that into a ```pandas``` DataFrame object using the [```read_csv```](http://pandas.pydata.org/pandas-docs/stable/generated/pandas.io.parsers.read_csv.html) function. Then we'll examine the first 5 rows of the data to make sure it looks ok using the ```head()``` method on our DataFrame."
   ]
  },
  {
   "cell_type": "code",
   "execution_count": 4,
   "metadata": {
    "collapsed": false
   },
   "outputs": [
    {
     "data": {
      "text/html": [
       "<div style=\"max-height:1000px;max-width:1500px;overflow:auto;\">\n",
       "<table border=\"1\" class=\"dataframe\">\n",
       "  <thead>\n",
       "    <tr style=\"text-align: right;\">\n",
       "      <th></th>\n",
       "      <th>Year</th>\n",
       "      <th>Gender</th>\n",
       "      <th>Time</th>\n",
       "    </tr>\n",
       "  </thead>\n",
       "  <tbody>\n",
       "    <tr>\n",
       "      <th>0</th>\n",
       "      <td> 1980</td>\n",
       "      <td> m</td>\n",
       "      <td> 2.16139</td>\n",
       "    </tr>\n",
       "    <tr>\n",
       "      <th>1</th>\n",
       "      <td> 1981</td>\n",
       "      <td> m</td>\n",
       "      <td> 2.13694</td>\n",
       "    </tr>\n",
       "    <tr>\n",
       "      <th>2</th>\n",
       "      <td> 1982</td>\n",
       "      <td> m</td>\n",
       "      <td> 2.15806</td>\n",
       "    </tr>\n",
       "    <tr>\n",
       "      <th>3</th>\n",
       "      <td> 1983</td>\n",
       "      <td> m</td>\n",
       "      <td> 2.14972</td>\n",
       "    </tr>\n",
       "    <tr>\n",
       "      <th>4</th>\n",
       "      <td> 1984</td>\n",
       "      <td> m</td>\n",
       "      <td> 2.24806</td>\n",
       "    </tr>\n",
       "  </tbody>\n",
       "</table>\n",
       "</div>"
      ],
      "text/plain": [
       "   Year Gender     Time\n",
       "0  1980      m  2.16139\n",
       "1  1981      m  2.13694\n",
       "2  1982      m  2.15806\n",
       "3  1983      m  2.14972\n",
       "4  1984      m  2.24806"
      ]
     },
     "execution_count": 4,
     "metadata": {},
     "output_type": "execute_result"
    }
   ],
   "source": [
    "data_in = pd.read_csv('data/marathon.csv', sep=',')\n",
    "data_in.head()"
   ]
  },
  {
   "cell_type": "markdown",
   "metadata": {},
   "source": [
    "Hopefully you can see how much more convenient this is compared to generating a file location variable and then a file handle. We still need a location but we just point ```pandas``` at the file and give it information on how the columns are divided.\n",
    "\n",
    "We can get information about the DataFrame *structure* using the ```.info()``` method on our DataFrame. This tells us we have 59 rows and 3 variables (see below). ```Year``` is an integer, ```Gender``` is an object (here a string) and ```Time``` is an integer. Note that ```Gender``` is reported as an ```object``` rather than a ```string``` because of the way ```pandas``` works internally (it relies on another module called ```numpy```)."
   ]
  },
  {
   "cell_type": "code",
   "execution_count": 5,
   "metadata": {
    "collapsed": false
   },
   "outputs": [
    {
     "name": "stdout",
     "output_type": "stream",
     "text": [
      "<class 'pandas.core.frame.DataFrame'>\n",
      "Int64Index: 59 entries, 0 to 58\n",
      "Data columns (total 3 columns):\n",
      "Year      59 non-null int64\n",
      "Gender    59 non-null object\n",
      "Time      59 non-null float64\n",
      "dtypes: float64(1), int64(1), object(1)\n",
      "memory usage: 1.8+ KB\n"
     ]
    }
   ],
   "source": [
    "data_in.info()"
   ]
  },
  {
   "cell_type": "markdown",
   "metadata": {},
   "source": [
    "We can also get the column headers alone."
   ]
  },
  {
   "cell_type": "code",
   "execution_count": 6,
   "metadata": {
    "collapsed": false
   },
   "outputs": [
    {
     "data": {
      "text/plain": [
       "Index([u'Year', u'Gender', u'Time'], dtype='object')"
      ]
     },
     "execution_count": 6,
     "metadata": {},
     "output_type": "execute_result"
    }
   ],
   "source": [
    "data_in.columns"
   ]
  },
  {
   "cell_type": "markdown",
   "metadata": {},
   "source": [
    "The data types returned by ```pandas``` are based on those of the ```numpy``` module. We can look at the datatypes more explicitly by looking at the type of the first entry in each column (```ix.[0]``` below)."
   ]
  },
  {
   "cell_type": "code",
   "execution_count": 7,
   "metadata": {
    "collapsed": false
   },
   "outputs": [
    {
     "name": "stdout",
     "output_type": "stream",
     "text": [
      "Column Year is <type 'numpy.int64'>.\n",
      "Column Gender is <type 'str'>.\n",
      "Column Time is <type 'numpy.float64'>.\n"
     ]
    }
   ],
   "source": [
    "for i in data_in.columns:\n",
    "    print \"Column %s is %s.\" % (i, type(data_in[i].ix[0])) # type of the first entry (i.e. header) in every column"
   ]
  },
  {
   "cell_type": "markdown",
   "metadata": {
    "collapsed": true
   },
   "source": [
    "Here we have created a loop that has gone over the *columns* of the data and pulled out the ```type``` of the first entry in each column (i.e. the ```type(data_in[i].ix[0])``` bit)."
   ]
  },
  {
   "cell_type": "markdown",
   "metadata": {},
   "source": [
    "## Basic statistics\n",
    "\n",
    "Once we have some data we often want to carry out some sort of statistical analysis. Are groups different? Are variables related? The ```pandas``` library has functionality built in for several basic statistical summaries making for a very quick way of examining data.\n",
    "\n",
    "We can easily pull out some descriptive statistics using the relevant methods."
   ]
  },
  {
   "cell_type": "code",
   "execution_count": 8,
   "metadata": {
    "collapsed": false
   },
   "outputs": [
    {
     "name": "stdout",
     "output_type": "stream",
     "text": [
      "The mean marathon winning time is 2.39 hours and the median is 2.42 hours.\n"
     ]
    }
   ],
   "source": [
    "mean_time = data_in['Time'].mean()\n",
    "# data_in.Time.mean() alternative syntax\n",
    "median_time = data_in['Time'].median()\n",
    "print \"The mean marathon winning time is %.2f hours and the median is %.2f hours.\" % (mean_time, median_time)"
   ]
  },
  {
   "cell_type": "markdown",
   "metadata": {},
   "source": [
    "So now we know the mean and median winning times but what about the time for each sex? Are these different? We can subset the data by gender and then calculate the mean time."
   ]
  },
  {
   "cell_type": "code",
   "execution_count": 9,
   "metadata": {
    "collapsed": false
   },
   "outputs": [
    {
     "name": "stdout",
     "output_type": "stream",
     "text": [
      "The average winning marathon time for men is 2.22 hours and the average winning time for women is 2.57 hours.\n"
     ]
    }
   ],
   "source": [
    "male_mean_time = data_in[data_in['Gender'] == 'm']['Time'].mean()\n",
    "female_mean_time = data_in[data_in['Gender']== 'f']['Time'].mean()\n",
    "\n",
    "# male_mean_time = data_in[data_in.Gender == 'm'].Time.mean() alternative notation\n",
    "# female_mean_time = data_in[data_in.Gender == 'f'].Time.mean() alternative notation\n",
    "\n",
    "print \"The average winning marathon time for men is %.2f hours and the average winning time for women is %.2f hours.\" \\\n",
    "% (male_mean_time, female_mean_time)"
   ]
  },
  {
   "cell_type": "markdown",
   "metadata": {},
   "source": [
    "In the example above we used subsetting to pull out the male and female data and then summarise each dataset but ```pandas``` provides a ```groupby``` function that makes this kind of subsetting even easier."
   ]
  },
  {
   "cell_type": "code",
   "execution_count": 11,
   "metadata": {
    "collapsed": false
   },
   "outputs": [
    {
     "data": {
      "text/plain": [
       "Gender\n",
       "f         2.566216\n",
       "m         2.220648\n",
       "Name: Time, dtype: float64"
      ]
     },
     "execution_count": 11,
     "metadata": {},
     "output_type": "execute_result"
    }
   ],
   "source": [
    "mf_data = data_in.groupby('Gender')['Time'].mean()\n",
    "mf_data"
   ]
  },
  {
   "cell_type": "code",
   "execution_count": 13,
   "metadata": {
    "collapsed": false
   },
   "outputs": [
    {
     "name": "stdout",
     "output_type": "stream",
     "text": [
      "The average winning marathon time for men is 2.22 hours and the average winning time for women is 2.57 hours.\n",
      "The average difference for males and females is 20.73 minutes.\n"
     ]
    }
   ],
   "source": [
    "print \"The average winning marathon time for men is %.2f hours and the average winning time for women \\\n",
    "is %.2f hours.\" % (mf_data.ix['m'], mf_data.ix['f'])\n",
    "print \"The average difference for males and females is %.2f minutes.\" % ((mf_data.ix['f'] - mf_data.ix['m'])*60)"
   ]
  },
  {
   "cell_type": "markdown",
   "metadata": {},
   "source": [
    "In the example above we generated gender specific mean times by:\n",
    "\n",
    "* Grouping the data by ```Gender```\n",
    "* Selecting the ```Time``` column of the grouped data\n",
    "* Passing the grouped ```Time``` to the ```mean``` function\n",
    "\n",
    "So we can see that male winning times tend to be ~0.35 hours (or 20 minutes) faster than female winning times over the 30 year span of the data. In the next unit we'll see how to visualise data like this."
   ]
  },
  {
   "cell_type": "markdown",
   "metadata": {},
   "source": [
    "## Putting it together 1\n",
    "\n",
    "Using ```pandas``` read in the ```elderlyHeightWeight.csv``` file from the data directory and calculate an overall mean and sex specific means for height and weight."
   ]
  },
  {
   "cell_type": "markdown",
   "metadata": {},
   "source": [
    "## Homework\n",
    "\n",
    "The run10.txt file in the data directory contains *tab separated* results from the Cherry Blossom 10 mile run in Washington DC from 2012 (see [OpenIntro book](https://www.openintro.org/download.php?file=os3&referrer=/stat/textbook.php), section 4.1.3). Read this data into a ```pandas``` DataFrame using the read_csv function. How many data points (rows) are there? \n",
    "\n",
    "The data include:\n",
    "\n",
    "* Finishing Position\n",
    "* Time\n",
    "* Age\n",
    "* Gender\n",
    "* State of Origin\n",
    "\n",
    "What was the average time for the race? What was the median time for each sex? What was the time for the fastest and slowest runners? Which state was represented by the most runners?\n",
    "\n",
    "Hint: For the last question you might consider extracting the state data and using the [```value_counts```](http://pandas.pydata.org/pandas-docs/stable/generated/pandas.Series.value_counts.html) and [```idxmax```](http://pandas.pydata.org/pandas-docs/stable/generated/pandas.Series.idxmax.html?highlight=idxmax#pandas.Series.idxmax) functions."
   ]
  },
  {
   "cell_type": "markdown",
   "metadata": {},
   "source": [
    "## Homework 2\n",
    "\n",
    "The file ```states.csv``` in the ```data``` folder contains a comma separated file with the name of each US state and the state two letter abbreviation. In the data for the Cherry Blossom run there are runners who do not come from one of these states. Read the ```states.csv``` file into a DataFrame and use pandas to extract the non-state runners. How many come from each region that is NOT a US state?\n",
    "\n",
    "Hint: You might want to consider using the pandas [```isin```](http://pandas.pydata.org/pandas-docs/stable/generated/pandas.DataFrame.isin.html) function to create a boolean mask for the run data and then the [```value_counts```](http://pandas.pydata.org/pandas-docs/stable/generated/pandas.Series.value_counts.html) function to tabulate your results.\n",
    " "
   ]
  }
 ],
 "metadata": {
  "kernelspec": {
   "display_name": "Python 2",
   "language": "python",
   "name": "python2"
  },
  "language_info": {
   "codemirror_mode": {
    "name": "ipython",
    "version": 2
   },
   "file_extension": ".py",
   "mimetype": "text/x-python",
   "name": "python",
   "nbconvert_exporter": "python",
   "pygments_lexer": "ipython2",
   "version": "2.7.10"
  }
 },
 "nbformat": 4,
 "nbformat_minor": 0
}
