{
 "cells": [
  {
   "cell_type": "markdown",
   "metadata": {},
   "source": [
    "## Putting it together\n",
    "\n",
    "One way we might get a more accurate idea of profound childhood obesity would be to look at individuals who were so severely obese that they underwent bariatric surgery. Table 10 in the spreadsheet details:\n",
    "\n",
    "> Table 10: Finished Consultant Episodes with a primary diagnosis of obesity and a main or secondary procedure of 'Bariatric Surgery', by age group\t\t\t\t\t\t\t\t\t\t\t\n",
    "\n",
    "Use ```pandas``` to read in the spreadsheet. As above you'll have to supply the URL. Pull out the data on bariatric surgery and tidy it up. Create two plots side-by-side, one showing the trend for children (<16) and one showing the trend for 16-24 year olds. Do these trends look the same? What do you think this might say about youth obesity?\n",
    "\n",
    "Hint: To carry out this task you'll need to load both ```pandas``` and ```requests```. Although we've used the ```subplot``` function in ```pyplot``` to draw figures side by side in this case we'll want to set up a proper figure object. In ```pyplot``` the [```figure```](http://matplotlib.org/api/figure_api.html#matplotlib.figure) (there's lots of documentation here!) function sets up a 'space' that will contain the elements of the figure (including subplots). For this task you'll want to set up a ```figure``` that is 8x4 inches using the [```figsize```](http://matplotlib.org/api/figure_api.html#matplotlib.figure.Figure) argument. Then you can use the ```subplots``` function to set up subplots as before. You might want to use the [```subplots_adjust```](http://matplotlib.org/api/figure_api.html#matplotlib.figure.Figure.subplots_adjust) function with the ```wspace``` argument set to make sure there is adequate spacing between your plots."
   ]
  },
  {
   "cell_type": "code",
   "execution_count": 1,
   "metadata": {},
   "outputs": [
    {
     "name": "stdout",
     "output_type": "stream",
     "text": [
      "['Contents', 'Table 1', 'Table 2', 'Table 3', 'Table 4', 'Table 5', 'Table 6', 'Table 7', 'Table 8', 'Table 9', 'Table 10', 'Table 11', 'Table 12', 'Table 13', 'Table 14']\n"
     ]
    }
   ],
   "source": [
    "import requests\n",
    "import pandas as pd\n",
    "import matplotlib.pyplot as plt\n",
    "import seaborn as sns\n",
    "# so we can see plots in notebook\n",
    "% matplotlib inline \n",
    "\n",
    "# define what we want to download\n",
    "file_i_want = \"https://files.digital.nhs.uk/publicationimport/pub23xxx/pub23742/obes-phys-acti-diet-eng-2017-tab.xlsx\"\n",
    "r = requests.get(file_i_want) # grab the file\n",
    "# open file for writing\n",
    "f_out = open('data/obesity_data.xlsx', 'wb')\n",
    "# write the remote data \n",
    "f_out.write(r.content)\n",
    "# close the new file\n",
    "f_out.close()\n",
    "\n",
    "# get the data into pandas\n",
    "data = pd.ExcelFile('data/obesity_data.xlsx')\n",
    "# sheet names\n",
    "print(data.sheet_names)"
   ]
  },
  {
   "cell_type": "code",
   "execution_count": 2,
   "metadata": {},
   "outputs": [
    {
     "data": {
      "text/html": [
       "<div>\n",
       "<style scoped>\n",
       "    .dataframe tbody tr th:only-of-type {\n",
       "        vertical-align: middle;\n",
       "    }\n",
       "\n",
       "    .dataframe tbody tr th {\n",
       "        vertical-align: top;\n",
       "    }\n",
       "\n",
       "    .dataframe thead th {\n",
       "        text-align: right;\n",
       "    }\n",
       "</style>\n",
       "<table border=\"1\" class=\"dataframe\">\n",
       "  <thead>\n",
       "    <tr style=\"text-align: right;\">\n",
       "      <th></th>\n",
       "      <th>OPCS procedure codes</th>\n",
       "      <th>Unnamed: 1</th>\n",
       "      <th>Year6,7,8</th>\n",
       "      <th>All persons9</th>\n",
       "      <th>Under 16</th>\n",
       "      <th>16 to 24</th>\n",
       "      <th>25 to 34</th>\n",
       "      <th>35 to 44</th>\n",
       "      <th>45 to 54</th>\n",
       "      <th>55 to 64</th>\n",
       "      <th>65 to 74</th>\n",
       "      <th>75 and over</th>\n",
       "    </tr>\n",
       "  </thead>\n",
       "  <tbody>\n",
       "    <tr>\n",
       "      <th>0</th>\n",
       "      <td>NaN</td>\n",
       "      <td>NaN</td>\n",
       "      <td>NaN</td>\n",
       "      <td>NaN</td>\n",
       "      <td>NaN</td>\n",
       "      <td>NaN</td>\n",
       "      <td>NaN</td>\n",
       "      <td>NaN</td>\n",
       "      <td>NaN</td>\n",
       "      <td>NaN</td>\n",
       "      <td>NaN</td>\n",
       "      <td>NaN</td>\n",
       "    </tr>\n",
       "    <tr>\n",
       "      <th>1</th>\n",
       "      <td>4.2</td>\n",
       "      <td>NaN</td>\n",
       "      <td>2005/06</td>\n",
       "      <td>1038.0</td>\n",
       "      <td>2.0</td>\n",
       "      <td>21.0</td>\n",
       "      <td>189.0</td>\n",
       "      <td>375.0</td>\n",
       "      <td>319.0</td>\n",
       "      <td>123.0</td>\n",
       "      <td>6.0</td>\n",
       "      <td>0.0</td>\n",
       "    </tr>\n",
       "    <tr>\n",
       "      <th>2</th>\n",
       "      <td>4.3</td>\n",
       "      <td>NaN</td>\n",
       "      <td>2006/07</td>\n",
       "      <td>1951.0</td>\n",
       "      <td>0.0</td>\n",
       "      <td>59.0</td>\n",
       "      <td>327.0</td>\n",
       "      <td>734.0</td>\n",
       "      <td>569.0</td>\n",
       "      <td>244.0</td>\n",
       "      <td>18.0</td>\n",
       "      <td>0.0</td>\n",
       "    </tr>\n",
       "    <tr>\n",
       "      <th>3</th>\n",
       "      <td>4.4</td>\n",
       "      <td>NaN</td>\n",
       "      <td>2007/08</td>\n",
       "      <td>2724.0</td>\n",
       "      <td>0.0</td>\n",
       "      <td>105.0</td>\n",
       "      <td>423.0</td>\n",
       "      <td>1034.0</td>\n",
       "      <td>793.0</td>\n",
       "      <td>343.0</td>\n",
       "      <td>23.0</td>\n",
       "      <td>1.0</td>\n",
       "    </tr>\n",
       "    <tr>\n",
       "      <th>4</th>\n",
       "      <td>4.4</td>\n",
       "      <td>NaN</td>\n",
       "      <td>2008/09</td>\n",
       "      <td>4221.0</td>\n",
       "      <td>2.0</td>\n",
       "      <td>143.0</td>\n",
       "      <td>652.0</td>\n",
       "      <td>1482.0</td>\n",
       "      <td>1306.0</td>\n",
       "      <td>583.0</td>\n",
       "      <td>51.0</td>\n",
       "      <td>0.0</td>\n",
       "    </tr>\n",
       "  </tbody>\n",
       "</table>\n",
       "</div>"
      ],
      "text/plain": [
       "   OPCS procedure codes   Unnamed: 1 Year6,7,8  All persons9  Under 16  \\\n",
       "0                    NaN         NaN       NaN           NaN       NaN   \n",
       "1                    4.2         NaN   2005/06        1038.0       2.0   \n",
       "2                    4.3         NaN   2006/07        1951.0       0.0   \n",
       "3                    4.4         NaN   2007/08        2724.0       0.0   \n",
       "4                    4.4         NaN   2008/09        4221.0       2.0   \n",
       "\n",
       "   16 to 24  25 to 34  35 to 44  45 to 54  55 to 64  65 to 74  75 and over  \n",
       "0       NaN       NaN       NaN       NaN       NaN       NaN          NaN  \n",
       "1      21.0     189.0     375.0     319.0     123.0       6.0          0.0  \n",
       "2      59.0     327.0     734.0     569.0     244.0      18.0          0.0  \n",
       "3     105.0     423.0    1034.0     793.0     343.0      23.0          1.0  \n",
       "4     143.0     652.0    1482.0    1306.0     583.0      51.0          0.0  "
      ]
     },
     "execution_count": 2,
     "metadata": {},
     "output_type": "execute_result"
    }
   ],
   "source": [
    "# get sheet 10\n",
    "data_age = data.parse('Table 10', skiprows=7, skipfooter=19) # skip unneccessary rows (check sheet)\n",
    "data_age.head() # first few entries"
   ]
  },
  {
   "cell_type": "code",
   "execution_count": 3,
   "metadata": {},
   "outputs": [
    {
     "data": {
      "text/html": [
       "<div>\n",
       "<style scoped>\n",
       "    .dataframe tbody tr th:only-of-type {\n",
       "        vertical-align: middle;\n",
       "    }\n",
       "\n",
       "    .dataframe tbody tr th {\n",
       "        vertical-align: top;\n",
       "    }\n",
       "\n",
       "    .dataframe thead th {\n",
       "        text-align: right;\n",
       "    }\n",
       "</style>\n",
       "<table border=\"1\" class=\"dataframe\">\n",
       "  <thead>\n",
       "    <tr style=\"text-align: right;\">\n",
       "      <th></th>\n",
       "      <th>Year</th>\n",
       "      <th>Total</th>\n",
       "      <th>Under 16</th>\n",
       "      <th>16 to 24</th>\n",
       "      <th>25 to 34</th>\n",
       "      <th>35 to 44</th>\n",
       "      <th>45 to 54</th>\n",
       "      <th>55 to 64</th>\n",
       "      <th>65 to 74</th>\n",
       "      <th>75 and over</th>\n",
       "    </tr>\n",
       "  </thead>\n",
       "  <tbody>\n",
       "    <tr>\n",
       "      <th>1</th>\n",
       "      <td>2005/06</td>\n",
       "      <td>1038.0</td>\n",
       "      <td>2.0</td>\n",
       "      <td>21.0</td>\n",
       "      <td>189.0</td>\n",
       "      <td>375.0</td>\n",
       "      <td>319.0</td>\n",
       "      <td>123.0</td>\n",
       "      <td>6.0</td>\n",
       "      <td>0.0</td>\n",
       "    </tr>\n",
       "    <tr>\n",
       "      <th>2</th>\n",
       "      <td>2006/07</td>\n",
       "      <td>1951.0</td>\n",
       "      <td>0.0</td>\n",
       "      <td>59.0</td>\n",
       "      <td>327.0</td>\n",
       "      <td>734.0</td>\n",
       "      <td>569.0</td>\n",
       "      <td>244.0</td>\n",
       "      <td>18.0</td>\n",
       "      <td>0.0</td>\n",
       "    </tr>\n",
       "    <tr>\n",
       "      <th>3</th>\n",
       "      <td>2007/08</td>\n",
       "      <td>2724.0</td>\n",
       "      <td>0.0</td>\n",
       "      <td>105.0</td>\n",
       "      <td>423.0</td>\n",
       "      <td>1034.0</td>\n",
       "      <td>793.0</td>\n",
       "      <td>343.0</td>\n",
       "      <td>23.0</td>\n",
       "      <td>1.0</td>\n",
       "    </tr>\n",
       "    <tr>\n",
       "      <th>4</th>\n",
       "      <td>2008/09</td>\n",
       "      <td>4221.0</td>\n",
       "      <td>2.0</td>\n",
       "      <td>143.0</td>\n",
       "      <td>652.0</td>\n",
       "      <td>1482.0</td>\n",
       "      <td>1306.0</td>\n",
       "      <td>583.0</td>\n",
       "      <td>51.0</td>\n",
       "      <td>0.0</td>\n",
       "    </tr>\n",
       "    <tr>\n",
       "      <th>5</th>\n",
       "      <td>2009/10</td>\n",
       "      <td>7214.0</td>\n",
       "      <td>1.0</td>\n",
       "      <td>205.0</td>\n",
       "      <td>1051.0</td>\n",
       "      <td>2458.0</td>\n",
       "      <td>2330.0</td>\n",
       "      <td>1025.0</td>\n",
       "      <td>143.0</td>\n",
       "      <td>0.0</td>\n",
       "    </tr>\n",
       "  </tbody>\n",
       "</table>\n",
       "</div>"
      ],
      "text/plain": [
       "      Year   Total  Under 16  16 to 24  25 to 34  35 to 44  45 to 54  \\\n",
       "1  2005/06  1038.0       2.0      21.0     189.0     375.0     319.0   \n",
       "2  2006/07  1951.0       0.0      59.0     327.0     734.0     569.0   \n",
       "3  2007/08  2724.0       0.0     105.0     423.0    1034.0     793.0   \n",
       "4  2008/09  4221.0       2.0     143.0     652.0    1482.0    1306.0   \n",
       "5  2009/10  7214.0       1.0     205.0    1051.0    2458.0    2330.0   \n",
       "\n",
       "   55 to 64  65 to 74  75 and over  \n",
       "1     123.0       6.0          0.0  \n",
       "2     244.0      18.0          0.0  \n",
       "3     343.0      23.0          1.0  \n",
       "4     583.0      51.0          0.0  \n",
       "5    1025.0     143.0          0.0  "
      ]
     },
     "execution_count": 3,
     "metadata": {},
     "output_type": "execute_result"
    }
   ],
   "source": [
    "# clean up and rename columns\n",
    "data_age.dropna(axis = 0, how='all', inplace=True) # drop NaN rows\n",
    "data_age.dropna(axis = 1, how='all', inplace=True) # drop NaN cols\n",
    "data_age.head()\n",
    "# rename cols\n",
    "data_age.rename({'Year6,7,8':'Year', 'All persons9':'Total'}, axis='columns', inplace=True)\n",
    "# drop OPCS procedure codes column\n",
    "data_age.drop('OPCS procedure codes ', axis='columns', inplace=True) # note that extra space - really annoying, check with data_age.columns\n",
    "# check\n",
    "data_age.head()"
   ]
  },
  {
   "cell_type": "code",
   "execution_count": 4,
   "metadata": {},
   "outputs": [
    {
     "data": {
      "text/html": [
       "<div>\n",
       "<style scoped>\n",
       "    .dataframe tbody tr th:only-of-type {\n",
       "        vertical-align: middle;\n",
       "    }\n",
       "\n",
       "    .dataframe tbody tr th {\n",
       "        vertical-align: top;\n",
       "    }\n",
       "\n",
       "    .dataframe thead th {\n",
       "        text-align: right;\n",
       "    }\n",
       "</style>\n",
       "<table border=\"1\" class=\"dataframe\">\n",
       "  <thead>\n",
       "    <tr style=\"text-align: right;\">\n",
       "      <th></th>\n",
       "      <th>Year</th>\n",
       "      <th>Group</th>\n",
       "      <th>Number</th>\n",
       "    </tr>\n",
       "  </thead>\n",
       "  <tbody>\n",
       "    <tr>\n",
       "      <th>0</th>\n",
       "      <td>2005/06</td>\n",
       "      <td>Total</td>\n",
       "      <td>1038.0</td>\n",
       "    </tr>\n",
       "    <tr>\n",
       "      <th>1</th>\n",
       "      <td>2006/07</td>\n",
       "      <td>Total</td>\n",
       "      <td>1951.0</td>\n",
       "    </tr>\n",
       "    <tr>\n",
       "      <th>2</th>\n",
       "      <td>2007/08</td>\n",
       "      <td>Total</td>\n",
       "      <td>2724.0</td>\n",
       "    </tr>\n",
       "    <tr>\n",
       "      <th>3</th>\n",
       "      <td>2008/09</td>\n",
       "      <td>Total</td>\n",
       "      <td>4221.0</td>\n",
       "    </tr>\n",
       "    <tr>\n",
       "      <th>4</th>\n",
       "      <td>2009/10</td>\n",
       "      <td>Total</td>\n",
       "      <td>7214.0</td>\n",
       "    </tr>\n",
       "  </tbody>\n",
       "</table>\n",
       "</div>"
      ],
      "text/plain": [
       "      Year  Group  Number\n",
       "0  2005/06  Total  1038.0\n",
       "1  2006/07  Total  1951.0\n",
       "2  2007/08  Total  2724.0\n",
       "3  2008/09  Total  4221.0\n",
       "4  2009/10  Total  7214.0"
      ]
     },
     "execution_count": 4,
     "metadata": {},
     "output_type": "execute_result"
    }
   ],
   "source": [
    "# melt data\n",
    "data_age_m = pd.melt(data_age, id_vars='Year', var_name='Group', value_name='Number')\n",
    "data_age_m.head()\n",
    "# set index to Year\n",
    "#data_age_m.set_index('Year', inplace=True)"
   ]
  },
  {
   "cell_type": "code",
   "execution_count": 5,
   "metadata": {},
   "outputs": [
    {
     "data": {
      "text/html": [
       "<div>\n",
       "<style scoped>\n",
       "    .dataframe tbody tr th:only-of-type {\n",
       "        vertical-align: middle;\n",
       "    }\n",
       "\n",
       "    .dataframe tbody tr th {\n",
       "        vertical-align: top;\n",
       "    }\n",
       "\n",
       "    .dataframe thead th {\n",
       "        text-align: right;\n",
       "    }\n",
       "</style>\n",
       "<table border=\"1\" class=\"dataframe\">\n",
       "  <thead>\n",
       "    <tr style=\"text-align: right;\">\n",
       "      <th></th>\n",
       "      <th>Year</th>\n",
       "      <th>Group</th>\n",
       "      <th>Number</th>\n",
       "    </tr>\n",
       "  </thead>\n",
       "  <tbody>\n",
       "    <tr>\n",
       "      <th>28</th>\n",
       "      <td>2011/12</td>\n",
       "      <td>16 to 24</td>\n",
       "      <td>225.0</td>\n",
       "    </tr>\n",
       "    <tr>\n",
       "      <th>29</th>\n",
       "      <td>2012/13</td>\n",
       "      <td>16 to 24</td>\n",
       "      <td>207.0</td>\n",
       "    </tr>\n",
       "    <tr>\n",
       "      <th>30</th>\n",
       "      <td>2013/14</td>\n",
       "      <td>16 to 24</td>\n",
       "      <td>198.0</td>\n",
       "    </tr>\n",
       "    <tr>\n",
       "      <th>31</th>\n",
       "      <td>2014/15</td>\n",
       "      <td>16 to 24</td>\n",
       "      <td>200.0</td>\n",
       "    </tr>\n",
       "    <tr>\n",
       "      <th>32</th>\n",
       "      <td>2015/16</td>\n",
       "      <td>16 to 24</td>\n",
       "      <td>198.0</td>\n",
       "    </tr>\n",
       "  </tbody>\n",
       "</table>\n",
       "</div>"
      ],
      "text/plain": [
       "       Year     Group  Number\n",
       "28  2011/12  16 to 24   225.0\n",
       "29  2012/13  16 to 24   207.0\n",
       "30  2013/14  16 to 24   198.0\n",
       "31  2014/15  16 to 24   200.0\n",
       "32  2015/16  16 to 24   198.0"
      ]
     },
     "execution_count": 5,
     "metadata": {},
     "output_type": "execute_result"
    }
   ],
   "source": [
    "# select the data we want\n",
    "# use of isin \n",
    "youth_data = data_age_m[data_age_m['Group'].isin(['Under 16', '16 to 24'])]\n",
    "youth_data.tail()"
   ]
  },
  {
   "cell_type": "code",
   "execution_count": 6,
   "metadata": {},
   "outputs": [
    {
     "data": {
      "image/png": "[encoded data removed]",
      "text/plain": [
       "<Figure size 720x360 with 2 Axes>"
      ]
     },
     "metadata": {},
     "output_type": "display_data"
    }
   ],
   "source": [
    "# seaborn catplot (category plot) creates a grid for us definedby col='...'\n",
    "p = sns.catplot('Year', 'Number', col='Group', kind='point', data=youth_data)\n",
    "p.set_xticklabels(rotation=45) # rotate tick labels for clarity\n",
    "plt.show()"
   ]
  },
  {
   "cell_type": "code",
   "execution_count": 7,
   "metadata": {},
   "outputs": [
    {
     "data": {
      "image/png": "[encoded data removed]",
      "text/plain": [
       "<Figure size 720x360 with 2 Axes>"
      ]
     },
     "metadata": {},
     "output_type": "display_data"
    }
   ],
   "source": [
    "# or use FacetGrid & sns.lineplot\n",
    "fct = sns.FacetGrid(data=youth_data, col='Group', height=5)\n",
    "fct.map(sns.lineplot, 'Year', 'Number')\n",
    "fct.set_xticklabels(rotation=45)\n",
    "plt.show()"
   ]
  },
  {
   "cell_type": "markdown",
   "metadata": {},
   "source": [
    "## Homework\n",
    "\n",
    "The [DataDryad digital](http://datadryad.org/) repository provides an online location where researchers can deposit raw data for others to examine or re-analyse:\n",
    ">DataDryad.org is a curated general-purpose repository that makes the data underlying scientific publications discoverable, freely reusable, and citable. Dryad has integrated data submission for a growing list of journals; submission of data from other publications is also welcome. \n",
    "\n",
    "In this homework exercise we will download a dataset on exercise training and fish (really!) and re-create a couple of the figures from the associated paper. In 2013 Sinclair et al published a paper in Functional Ecology that claimed: \n",
    ">Exercise changes behaviour and may thereby alter interactions between individuals and dispersal. Environmental changes that demand increased levels of exercise induce behavioural responses that are likely to increase the success of individuals under these changed conditions.\n",
    "\n",
    "The paper is available [here](http://dx.doi.org/10.1111/1365-2435.12198).\n",
    "\n",
    "They published the data from their study as a series of Excel spreadsheets through the DataDryad website. The data are available [here](http://datadryad.org/bitstream/handle/10255/dryad.54583/Sinclair%20et%20al_all%20data.xlsx?sequence=1).\n",
    "\n",
    "If the links aren't working for anyone the paper is:\n",
    "Sinclair ELE, Noronha de Souza CR, Ward AJW, Seebacher F (2013) Exercise changes behaviour. Functional Ecology 28(3): 652–659. http://dx.doi.org/10.1111/1365-2435.12198\n",
    "\n",
    "The data is available at:\n",
    "http://datadryad.org/bitstream/handle/10255/dryad.54583/Sinclair%20et%20al_all%20data.xlsx?sequence=1\n",
    "\n",
    "Use the data in the spreadsheet to reproduce figures 1 and 2a from the paper. \n",
    "\n",
    "For the figure 1 data carry out a one-way anova using the [```scipy.stats.f_oneway```](http://docs.scipy.org/doc/scipy-0.15.1/reference/generated/scipy.stats.f_oneway.html) to examine whether there are differences between the treatments. As with the other tests you have used the ```scipy.stats.f_oneway``` function returns a tuple (F-value and $p$-value). Print an informative statement with the $p$-value telling the reader whether there is statistical significance between the groups or not.\n",
    "\n",
    "Hint: When reading in the data you can use the ```usecols``` argument in the ```parse``` function to prevent reading in extra columns (see the [```pandas.ExcelFile.parse```](https://pandas.pydata.org/pandas-docs/stable/generated/pandas.read_excel.html) documentation).\n",
    "\n",
    "For figure 2a use the ```pyplot.figure()``` and ```pyplot.subplot()``` commands to place the subplots properly. You'll also need to adjust the ```wspace``` and ```hspace``` arguments to space your plots correctly and the ```seaborn.regplot()``` function to draw the scatterplots (```seaborn.lmplot()``` won't work here)."
   ]
  },
  {
   "cell_type": "code",
   "execution_count": 8,
   "metadata": {},
   "outputs": [
    {
     "name": "stdout",
     "output_type": "stream",
     "text": [
      "['Ucrit', 'latency and exploration', 'aggression']\n"
     ]
    }
   ],
   "source": [
    "import pandas as pd\n",
    "import seaborn as sns\n",
    "sns.set_style(\"white\")\n",
    "import matplotlib.pyplot as plt\n",
    "%matplotlib inline\n",
    "import scipy.stats as stats\n",
    "\n",
    "url = 'http://datadryad.org/bitstream/handle/10255/dryad.54583/Sinclair%20et%20al_all%20data.xlsx?sequence=1'\n",
    "exercise = pd.ExcelFile(url)\n",
    "print(exercise.sheet_names)"
   ]
  },
  {
   "cell_type": "code",
   "execution_count": 9,
   "metadata": {},
   "outputs": [
    {
     "data": {
      "image/png": "[encoded data removed]",
      "text/plain": [
       "<Figure size 432x288 with 1 Axes>"
      ]
     },
     "metadata": {},
     "output_type": "display_data"
    },
    {
     "name": "stdout",
     "output_type": "stream",
     "text": [
      "The ANOVA p-value for treatment is 0.011.\n",
      "There is a statistically significant difference between the treatment groups.\n"
     ]
    }
   ],
   "source": [
    "# get the data\n",
    "figOneData = exercise.parse('Ucrit', skiprows=3, skipfooter=73, usecols=2) # skip first 3 rows, last 73 rows, use col 0, 1 & 2\n",
    "figOneM = pd.melt(figOneData) # long format data\n",
    "# create the figure\n",
    "sns.barplot(x='variable', y='value', data=figOneM)\n",
    "plt.xlabel('Treatment')\n",
    "plt.ylabel('U_crit (BLS/s)')\n",
    "plt.show()\n",
    "\n",
    "# do the ANOVA\n",
    "anova = stats.f_oneway(figOneData['Control'], figOneData['Exercised'], figOneData['Detrained'])\n",
    "print('The ANOVA p-value for treatment is %.3f.\\nThere is a statistically significant difference between the \\\n",
    "treatment groups.' % anova[1])"
   ]
  },
  {
   "cell_type": "markdown",
   "metadata": {},
   "source": [
    "### Where is the difference?\n",
    "As an aside (i.e. not part of the question) we probably want to know where the difference is if we've identified that there is a difference with ANOVA; in other words we need some kind of post-hoc test. You could do pairwise $t$-tests and then use the Bonferroni correction but this is throwing the baby out with the bath water. The Bonferroni correction is pretty brutal. A better solution is to use [Tukey's honestly significant difference test](https://en.wikipedia.org/wiki/Tukey's_range_test). The [```statsmodels```](http://statsmodels.sourceforge.net/devel/index.html) library has a function for this test in its' [```.stats.multicomp.pairwise_tukeyhsd```](http://statsmodels.sourceforge.net/devel/generated/statsmodels.stats.multicomp.pairwise_tukeyhsd.html) module. After import you have to supply the following arguments to the function:\n",
    "\n",
    "* the values\n",
    "* the groups\n",
    "* the significance level you're working at (usually 0.05)\n",
    "\n",
    "The use of the function is illustrated below. The data has been converted from wide to long format so that all the treatments are in one column and all the values are in another column. This makes it easy to pass the required data to the ```pairwise_tukeyhsd``` function."
   ]
  },
  {
   "cell_type": "code",
   "execution_count": 38,
   "metadata": {},
   "outputs": [
    {
     "name": "stdout",
     "output_type": "stream",
     "text": [
      "Multiple Comparison of Means - Tukey HSD,FWER=0.05\n",
      "==================================================\n",
      "  group1    group2  meandiff  lower  upper  reject\n",
      "--------------------------------------------------\n",
      " Control  Detrained  0.3926  -1.9931 2.7783 False \n",
      " Control  Exercised  2.8617   0.476  5.2474  True \n",
      "Detrained Exercised  2.4692   0.0835 4.8549  True \n",
      "--------------------------------------------------\n"
     ]
    }
   ],
   "source": [
    "from statsmodels.stats.multicomp import pairwise_tukeyhsd as tukeyhsd\n",
    "# melt data so treatments are in one column and values are in one column\n",
    "figOneM = pd.melt(figOneData)\n",
    "#figOneM.head() # have we melted correctly?\n",
    "post_hoc = tukeyhsd(figOneM['value'], figOneM['variable'], 0.05) # apply tukey HSD\n",
    "print(post_hoc)"
   ]
  },
  {
   "cell_type": "markdown",
   "metadata": {},
   "source": [
    "We can look at this table in two different ways. Firstly the ```reject``` column tells us whether or not to reject our **null hypothesis** that there is no difference between the groups. We see that we do not reject the null hypothesis for the control v detrained comparison (i.e. we cannot say there is a significant difference between these groups) but we can reject the null hypothesis for the control v exercised and exercised v detrained comparisons.\n",
    "\n",
    "Secondly we can look at the 95% CI for the estimate of the mean difference. If the 95% CI includes zero then the mean difference is plausibly zero i.e. there is plausibly no mean difference. If the 95% CI does not include zero then the means must be different. You can see, in the table above, that the 95% CI values reflect the ```reject``` decision."
   ]
  },
  {
   "cell_type": "markdown",
   "metadata": {},
   "source": [
    "Below we collect and plot the data for fig 2a."
   ]
  },
  {
   "cell_type": "code",
   "execution_count": 10,
   "metadata": {},
   "outputs": [],
   "source": [
    "# fig 2a\n",
    "# latency data\n",
    "latencyData = exercise.parse('latency and exploration', skiprows=3, skipfooter=57, usecols=2)\n",
    "latencyM = pd.melt(latencyData)\n",
    "latencyTrials = exercise.parse('latency and exploration', skiprows=3, skipfooter=48, usecols=(9,10))\n",
    "# exercise data\n",
    "exerciseData = exercise.parse('latency and exploration', skiprows=3, skipfooter=57, usecols=(4,5,6))\n",
    "exerciseTrials = exercise.parse('latency and exploration', skiprows=3, skipfooter=48, usecols=(11,12))\n",
    "exerciseM = pd.melt(exerciseData)"
   ]
  },
  {
   "cell_type": "code",
   "execution_count": 11,
   "metadata": {},
   "outputs": [
    {
     "data": {
      "image/png": "[encoded data removed]",
      "text/plain": [
       "<Figure size 864x576 with 4 Axes>"
      ]
     },
     "metadata": {},
     "output_type": "display_data"
    }
   ],
   "source": [
    "fig = plt.figure(figsize=(12,8))\n",
    "\n",
    "plt.subplot(2,2,1)\n",
    "sns.barplot(x='variable', y='value', ci=68, data=latencyM)\n",
    "plt.xlabel('Treatment')\n",
    "plt.ylabel('Latency\\nto leave refuge (s)')\n",
    "\n",
    "plt.subplot(2,2,2)\n",
    "sns.barplot(x='variable', y='value', ci=68, data=exerciseM)\n",
    "plt.xlabel('Treatment')\n",
    "plt.ylabel('Exploration\\n(number of lines crossed)')\n",
    "\n",
    "plt.subplot(2,2,3)\n",
    "sns.regplot(x='Day 0', y='Day 27', data=latencyTrials, ci=None)\n",
    "plt.title('Latency')\n",
    "plt.xlabel('Latency Trial 1')\n",
    "plt.ylabel('Latency Trial 2')\n",
    "\n",
    "plt.subplot(2,2,4)\n",
    "sns.regplot(x='Day 0', y='Day 27', data=exerciseTrials, ci=None)\n",
    "plt.title('Exploration')\n",
    "plt.xlabel('Exploration Trial 1')\n",
    "plt.ylabel('Exploration Trial 2')\n",
    "\n",
    "fig.subplots_adjust(hspace=0.4, wspace=0.5)\n",
    "plt.show()"
   ]
  }
 ],
 "metadata": {
  "anaconda-cloud": {},
  "kernelspec": {
   "display_name": "Python 3",
   "language": "python",
   "name": "python3"
  },
  "language_info": {
   "codemirror_mode": {
    "name": "ipython",
    "version": 3
   },
   "file_extension": ".py",
   "mimetype": "text/x-python",
   "name": "python",
   "nbconvert_exporter": "python",
   "pygments_lexer": "ipython3",
   "version": "3.6.6"
  }
 },
 "nbformat": 4,
 "nbformat_minor": 1
}
