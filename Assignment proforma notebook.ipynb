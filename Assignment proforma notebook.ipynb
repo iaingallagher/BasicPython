{
 "cells": [
  {
   "cell_type": "markdown",
   "metadata": {},
   "source": [
    "## Submission details\n",
    "\n",
    "**Student No:**\n",
    "\n",
    "**Module code SPSU9R7**\n",
    "\n",
    "**Programming assignment**\n",
    "\n",
    "**Date due xx/xx/16**\n",
    "\n",
    "**Date submitted**"
   ]
  },
  {
   "cell_type": "markdown",
   "metadata": {},
   "source": [
    "## Marking criteria\n",
    "\n",
    "### Introduction (10%)\n",
    "### Code (50%)\n",
    "### Exploration (15%)\n",
    "### Statistical Analysis (15%)\n",
    "### Discussion/Conclusions (10%)"
   ]
  }
 ],
 "metadata": {
  "kernelspec": {
   "display_name": "Python 3",
   "language": "python",
   "name": "python3"
  },
  "language_info": {
   "codemirror_mode": {
    "name": "ipython",
    "version": 3
   },
   "file_extension": ".py",
   "mimetype": "text/x-python",
   "name": "python",
   "nbconvert_exporter": "python",
   "pygments_lexer": "ipython3",
   "version": "3.5.1"
  }
 },
 "nbformat": 4,
 "nbformat_minor": 0
}
