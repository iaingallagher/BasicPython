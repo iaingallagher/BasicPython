{
 "cells": [
  {
   "cell_type": "markdown",
   "metadata": {},
   "source": [
    "## Submission details\n",
    "\n",
    "**Student No:**\n",
    "\n",
    "**Module code SPSU9R7**\n",
    "\n",
    "**Programming assignment**\n",
    "\n",
    "**Date due 14/12/15**\n",
    "\n",
    "**Date submitted**"
   ]
  },
  {
   "cell_type": "markdown",
   "metadata": {},
   "source": [
    "## Marking criteria\n",
    "\n",
    "### Introduction (10%)\n",
    "### Code (50%)\n",
    "### Exploration (15%)\n",
    "### Statistical Analysis (15%)\n",
    "### Discussion/Conclusions (10%)"
   ]
  },
  {
   "cell_type": "code",
   "execution_count": null,
   "metadata": {
    "collapsed": true
   },
   "outputs": [],
   "source": []
  }
 ],
 "metadata": {
  "kernelspec": {
   "display_name": "Python 2",
   "language": "python",
   "name": "python2"
  },
  "language_info": {
   "codemirror_mode": {
    "name": "ipython",
    "version": 2
   },
   "file_extension": ".py",
   "mimetype": "text/x-python",
   "name": "python",
   "nbconvert_exporter": "python",
   "pygments_lexer": "ipython2",
   "version": "2.7.10"
  }
 },
 "nbformat": 4,
 "nbformat_minor": 0
}
