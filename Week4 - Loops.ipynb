{
 "cells": [
  {
   "cell_type": "markdown",
   "metadata": {},
   "source": [
    "# Introduction\n",
    "\n",
    "In this unit we'll look at loops. Loops are essentially the programming patterns we use to get computers to do the same thing over and over again. Generally loop patterns are called **iteration**. Looping over (or iterating over) data is one of the most important uses of computers. Doing things over and over again is something humans are very bad at. We get bored, tired and make mistakes. Computers on the other hand do not get bored or tired (as long as the power is on) and will do things over and over again until they're told to stop."
   ]
  },
  {
   "cell_type": "markdown",
   "metadata": {},
   "source": [
    "## Types of loops\n",
    "\n",
    "There are two types of loops and in python they are defined by the keywords ```while``` and ```for```. The first type, the ```while``` loop operates ```while``` some condition is ```True```. For this reason the ```while``` loop is called an *indefinite* loop - it carries on for some indefinite time or number of iterations. The ```for``` loop on the other hand will carry out some operation on all the elements of some sequence e.g. a ```list```. The ```for``` loop is known as a *definite* loop since the number of iterations is fixed (the length of the sequence to loop over). "
   ]
  },
  {
   "cell_type": "markdown",
   "metadata": {},
   "source": [
    "## While loops\n",
    "\n",
    "One common use of computers is to automatically update some variable. The pattern might be something like ```x = x+1``` where we have a value in a variable ```x```, we add ```1``` to that variable and we then update the value of ```x```. The ```while``` keyword allows us to update a variable ```while``` some condition is ```True```. As a quick introduction we'll write a small ```while``` loop that counts down from 5 to 'Blastoff!'."
   ]
  },
  {
   "cell_type": "code",
   "execution_count": 1,
   "metadata": {},
   "outputs": [
    {
     "name": "stdout",
     "output_type": "stream",
     "text": [
      "5\n",
      "4\n",
      "3\n",
      "2\n",
      "1\n",
      "0\n",
      "Blastoff!\n"
     ]
    }
   ],
   "source": [
    "n = 5\n",
    "\n",
    "while n >= 0:\n",
    "    print(n)\n",
    "    n = n - 1\n",
    "print(\"Blastoff!\")"
   ]
  },
  {
   "cell_type": "markdown",
   "metadata": {},
   "source": [
    "This is pretty simple and can almost be read as English. \n",
    "\n",
    "First we initialise the variable ```n``` with the value 5 (```n = 5```). Then we set up the ```while``` loop. This involves setting a condition. In this case we have asked the computer to run the loop as long as the variable ```n``` is greater than or equal to zero. The  ```while n >= 0:``` statement essentially says \"while the value of n is greater than or equal to zero run the following commands\".\n",
    "\n",
    "Notice that we end this statement with a colon and that the commands we want to run are indented (by one tab stop - this is convention). We saw exactly the same syntax when we learned about conditionals i.e. ```if``` statements in the previous unit. In the body of the loop we first print the value of ```n``` and then we re-assign the value of ```n - 1``` to the variable ```n```. The loop then returns to the top, checks to see if ```n``` is less or equal to than zero and if it isn't the loop runs again.\n",
    "\n",
    "Once the condition at the top of the loop has become ```False``` the loop exits and we print 'Blastoff!'."
   ]
  },
  {
   "cell_type": "markdown",
   "metadata": {},
   "source": [
    "Thus the general structure of a ```while``` loop is:\n",
    "\n",
    "```\n",
    "while EXPRESSION = True:\n",
    "    BLOCK\n",
    "```\n",
    "\n",
    "The loop can be read as:\n",
    "\n",
    "1. Evaluate the EXPRESSION yielding ```True``` or ```False```\n",
    "2. If the EXPRESSION yields ```True``` execute the BLOCK of code in the loop\n",
    "3. If the EXPRESSION is ```False``` continue executing the main body of the programme\n",
    "\n",
    "Each time we execute the body of the loop we call it an interation - hence the alternate name of iteration for looping patterns. The loop above had 6 iterations i.e. it went through the block of code while n was 5, 4, 3, 2, 1 and 0. The loop then terminated or exited and the main body of the programme carried on with printing 'Blastoff!'."
   ]
  },
  {
   "cell_type": "markdown",
   "metadata": {},
   "source": [
    "### Infinite loops\n",
    "\n",
    "The variable that is checked to evaluate ```True``` or ```False``` in a ```while``` loop is called an iteration variable. In the example above ```n``` was the iteration variable because the value of ```n``` was checked before each iteration through the loop. When you are constructing a ```while``` loop you have to be careful to construct the condition such that the iteration variable will return ```False``` at some point. If you do not do this properly the loop will run forever. This is termed an **infinite loop** and it will lead to your programme freezing up and going no further. An example of an infinite loop in real life comes from the directions on shampoo - lather, rinse, repeat. It's human common sense that tells us to exit this cycle. Computers don't have any equivalent of human common sense and so loops like 'lather, rinse, repeat' just go on forever - there's no exit condition!"
   ]
  },
  {
   "cell_type": "code",
   "execution_count": null,
   "metadata": {
    "collapsed": true
   },
   "outputs": [],
   "source": [
    "# DO NOT RUN\n",
    "n = 5\n",
    "while n <= 5:\n",
    "    print(n)\n",
    "    n = n - 1\n",
    "print(\"Blastoff!\")    "
   ]
  },
  {
   "cell_type": "markdown",
   "metadata": {},
   "source": [
    "In this ```while``` loop the condition will never be false - ```n``` will always be less than or equal to 5 and the loop will go on forever printing out gradually smaller and smaller values of ```n```. This is not what we want."
   ]
  },
  {
   "cell_type": "markdown",
   "metadata": {},
   "source": [
    "### The ```break``` keyword\n",
    "\n",
    "There are some occasions when it's useful to set up a potentially infinite loop though. There may be occasions where you don't know you want to break out of a loop until you're already in the loop. An example is getting user input. It's easier to set a condition such that when the user types some key phrase (or presses some button) you stop collecting input than to try and second guess e.g. how much text they will write. We can use the ```break``` keyword to stop a loop and hand control back to the main body of the program. It's easier to demonstrate this with an example."
   ]
  },
  {
   "cell_type": "code",
   "execution_count": 1,
   "metadata": {},
   "outputs": [
    {
     "name": "stdout",
     "output_type": "stream",
     "text": [
      "Enter your text: This is some text.\n",
      "This is some text.\n",
      "Enter your text: Here is some more text\n",
      "Here is some more text\n",
      "Enter your text: done\n",
      "\n",
      "Done.\n"
     ]
    }
   ],
   "source": [
    "while True: # always True so infinite loop\n",
    "    text_in = input('Enter your text: ')\n",
    "    if text_in == 'done':\n",
    "        break # break out of the loop\n",
    "    print(text_in)\n",
    "print('\\nDone.')"
   ]
  },
  {
   "cell_type": "markdown",
   "metadata": {},
   "source": [
    "In the ```while``` loop above we began by setting the condition to ```True``` - this never evaluates to ```False``` since ```True``` is ```True```! Therefore our loop will never exit. In the block of code to be executed in the loop we collect user entered text until the user types ```done```. To evaluate the entered text we use an ```if``` statement (if necessary look over the flow control material again). If the user has entered ```done``` we ```break``` out of the loop and control is handed back to the main program. \n",
    "\n",
    "This is a very useful way of writing ```while``` loops because you can check some condition with an affirmative ('stop when this happens') rather than trying to second guess something in the negative ('keep going until this happens'). The control of the loop is in your hands and you can explicitly tell the user what to do to quit the loop."
   ]
  },
  {
   "cell_type": "markdown",
   "metadata": {},
   "source": [
    "### The ```continue``` keyword\n",
    "\n",
    "Sometimes you might want to skip an iteration in a loop and jump straight to the next cycle. In this case you can use the ```continue``` keyword. Using ```continue``` you can skip over the current loop iteration based on some condition and go straight to the next iteration. Again this is easier to appreciate with an example."
   ]
  },
  {
   "cell_type": "code",
   "execution_count": 3,
   "metadata": {},
   "outputs": [
    {
     "name": "stdout",
     "output_type": "stream",
     "text": [
      "9\n",
      "7\n",
      "5\n",
      "3\n",
      "1\n"
     ]
    }
   ],
   "source": [
    "n = 10\n",
    "\n",
    "while n >= 0:\n",
    "    if n%2 == 0:\n",
    "        n = n - 1\n",
    "        continue # just go straight back to the top of the loop\n",
    "    print(n)\n",
    "    n = n - 1"
   ]
  },
  {
   "cell_type": "markdown",
   "metadata": {},
   "source": [
    "This ```while``` loop will print only the odd numbers from 10 to zero. If the number is divisible by 2 (the modulo statement ```n%2 == 0``` checks the truth of this condition) then we subtract 1 from the value of ```n``` but because of the ```continue``` statement we do not print the value of ```n```. Note how we had to subtract 1 from ```n``` BEFORE the ```continue``` statement or ```n``` would always have been 10 and we would have had an infinite loop!"
   ]
  },
  {
   "cell_type": "markdown",
   "metadata": {},
   "source": [
    "## Putting it together! 1\n",
    "\n",
    "Write a ```while``` loop that will prompt the user for a password. Once they enter the password print something to let them know it was successful. In [pseudocode](http://www.bbc.co.uk/education/guides/z3bq7ty/revision/2) your program might look something like:\n",
    "\n",
    "```\n",
    "stored_password = 'password'\n",
    "password = input('Enter password: ')\n",
    "while password is not stored_password:\n",
    "    pw = input('Enter password: ')\n",
    "    print('System secure.')\n",
    "print('Welcome')\n",
    "```\n",
    "Hint - you might want to look over the boolean operators again."
   ]
  },
  {
   "cell_type": "markdown",
   "metadata": {},
   "source": [
    "## Putting it together! 2\n",
    "\n",
    "Write a ```while``` loop that asks the user for a DNA sequence and adds that sequence to a list of DNA sequences. Keep on adding the sequences until the list of sequences has 5 sequences in it and then print the list of sequences but with the sequences joined into one string.\n",
    "\n",
    "Hint - you might want to read about the ```.join()``` method again."
   ]
  },
  {
   "cell_type": "markdown",
   "metadata": {},
   "source": [
    "Modify the ```while``` loop you wrote above to ```break``` if the user enters ```finished``` instead of a DNA sequence. Make sure that ```finished``` does not get added to the list of DNA sequences."
   ]
  },
  {
   "cell_type": "markdown",
   "metadata": {},
   "source": [
    "## For loops\n",
    "\n",
    "The other loop construction method used in programming is the ```for``` loop. These are used to loop over sets of things. A good example of such a structure in python is the list. Structures to which ```for``` loops can be applied are often called **iterables**. The syntax of ```for``` loops is very similar to that of ```while``` loops:\n",
    "\n",
    "```\n",
    "for THING in A COLLECTION OF THINGS:\n",
    "    DO SOMETHING TO EACH THING\n",
    "```\n",
    "\n",
    "The loop can be read as:\n",
    "\n",
    "1. for some set of objects or values\n",
    "2. do something to each thing in the set\n",
    "\n",
    "Let's see a simple example.    "
   ]
  },
  {
   "cell_type": "code",
   "execution_count": 4,
   "metadata": {},
   "outputs": [
    {
     "name": "stdout",
     "output_type": "stream",
     "text": [
      "Morning Nabu\n",
      "Morning Ishtar\n",
      "Morning Adad\n",
      "Finished!\n"
     ]
    }
   ],
   "source": [
    "friends = ['Nabu', 'Ishtar', 'Adad']\n",
    "\n",
    "for person in friends:\n",
    "    print('Morning', person)\n",
    "print('Finished!')    "
   ]
  },
  {
   "cell_type": "markdown",
   "metadata": {},
   "source": [
    "The variable ```friends``` is a list of strings. The ```for``` loop goes through the ```list``` of ```friends``` and prints the word 'Morning' followed by the each string value in that list in turn. Notice that the ```in``` of the ```for``` loop is a reserved python keyword. \n",
    "\n",
    "Notice also that we defined an iteration variable (```person```) in the definition of the ```for``` loop and we used that iteration variable in the ```for``` loop. The variable ```person``` changed with each iteration through the loop first taking on the value 'Nabu', then the value 'Ishtar' and finally the value 'Adad'. "
   ]
  },
  {
   "cell_type": "markdown",
   "metadata": {},
   "source": [
    "### Loop patterns\n",
    "\n",
    "Often we use ```for``` or ```while``` loops to go through a set of things and either count or sum up values in that set. We may also set conditions on the things we want to count. Loops like this are generally constructed by:\n",
    "\n",
    "* Initialising variables that will hold information\n",
    "* Looping over the items in the set and performing some computation or comparison on each item in the loop body\n",
    "* Possibly changing variable values in the loop\n",
    "* Using the results of the loop when it's done\n",
    "\n",
    "A couple of simple examples (for which there are actually in-built python functions) are summing the values in a list and counting the values in a list. To count the number of items in a list we could write the following ```for``` loop."
   ]
  },
  {
   "cell_type": "code",
   "execution_count": 5,
   "metadata": {},
   "outputs": [
    {
     "name": "stdout",
     "output_type": "stream",
     "text": [
      "There are 8 items in the list.\n"
     ]
    }
   ],
   "source": [
    "lst = [0,43,56,80,12,41,72,36]\n",
    "counter = 0 # set a variable to hold info\n",
    "\n",
    "for val in lst: # execute loop\n",
    "    counter = counter + 1\n",
    "\n",
    "print('There are %d items in the list.' % counter)  "
   ]
  },
  {
   "cell_type": "markdown",
   "metadata": {},
   "source": [
    "We set the ```counter``` variable before the loop starts, we then loop over each item in the list and for each iteration of the loop we add 1 to the value of the ```counter``` variable. Once the loop is finished we print the value of the counter variable.\n",
    "\n",
    "We can use a similar construction for summing over a list but instead of just adding 1 to some variable in the loop we use the actual values of the iteration variable."
   ]
  },
  {
   "cell_type": "code",
   "execution_count": 6,
   "metadata": {},
   "outputs": [
    {
     "name": "stdout",
     "output_type": "stream",
     "text": [
      "The sum of the list items is 340.\n"
     ]
    }
   ],
   "source": [
    "lst = [0,43,56,80,12,41,72,36]\n",
    "sm = 0 # set a variable to hold info\n",
    "\n",
    "for val in lst: # execute loop\n",
    "    sm = sm + val\n",
    "    \n",
    "print('The sum of the list items is %d.' % sm)  "
   ]
  },
  {
   "cell_type": "markdown",
   "metadata": {},
   "source": [
    "Again we set up the variable we will use to contain our final value outside the ```for``` loop. We then loop over the list and add each value from the list to the value of the variable ```sm```. Finally we print the value of the variable ```sm```. \n",
    "\n",
    "These examples are useful to illustrate useful loop constructions but in real life you would use the python ```len``` and ```sum``` functions respectively on the list.\n",
    "\n",
    "In one final example though we'll demonstrate why these patterns are be useful. In the body of the ```for``` loop you can set conditions so that you could limit your counting to values which matched only certain criteria. In the example below we have a list of [microRNA](http://en.wikipedia.org/wiki/MicroRNA) identifiers. The 3 letter species code (e.g. hsa, mmu, rno for human, mouse or rat respectively) is included in the identifier. We could easily set a condition in a ```for``` loop to count only the human identifiers. Using the same condition we can filter the list and extract only the human microRNA identifiers."
   ]
  },
  {
   "cell_type": "code",
   "execution_count": 7,
   "metadata": {},
   "outputs": [
    {
     "name": "stdout",
     "output_type": "stream",
     "text": [
      "There are 6 human microRNA.\n",
      "The human microRNA are:\n",
      "hsa-miR-342-3p\n",
      "hsa-miR-497*\n",
      "hsa-miR-877*\n",
      "hsa-miR-654-5p\n",
      "hsa-miR-758\n",
      "hsa-miR-593\n"
     ]
    }
   ],
   "source": [
    "mirs = [\"hsa-miR-342-3p\",\"mmu-miR-342-3p\",\"rno-miR-342-3p\",\"hcmv-miR-UL70-5p\",\"hsa-miR-497*\",\n",
    "        \"kshv-miR-K12-10b\",\"hsa-miR-877*\",\"mmu-miR-877*\",\"hsa-miR-654-5p\",\"hsa-miR-758\",\"rno-miR-758\",\n",
    "        \"mmu-miR-672\",\"rno-miR-672\",\"hsa-miR-593\"]\n",
    "hsa_count = 0 # initialise variables\n",
    "hsa_only = []\n",
    "\n",
    "for mir in mirs: # execute loop\n",
    "    if 'hsa' in mir: # conditional statement\n",
    "        hsa_count = hsa_count + 1\n",
    "        hsa_only.append(mir)\n",
    "\n",
    "print('There are %d human microRNA.' % hsa_count)\n",
    "print('The human microRNA are:')\n",
    "\n",
    "for hs_mir in hsa_only:\n",
    "    print(hs_mir)"
   ]
  },
  {
   "cell_type": "markdown",
   "metadata": {},
   "source": [
    "### List comprehension\n",
    "\n",
    "Python has a shortcut notation for carrying out operations over lists which would normally use ```for``` loops. This method is called **list comprehension**. Essentially this technique generates a new list by describing the operations on some other list. The list comprehension synatx is:\n",
    "\n",
    "```\n",
    "new_lst = [DO SOMETHING for EACH_THING in COLLECTION]\n",
    "```\n",
    "\n",
    "This is essentially a whole ```for``` loop squeezed into one line. Note the use of square brackets! We're setting up a new list (hence the square brackets) and *describing* how we want that new list built inside the square brackets. This is similar to how [set comprehension](http://en.wikipedia.org/wiki/Set-builder_notation) works in mathematics - hence the term list comprehension.\n",
    "\n",
    "Let's see an example."
   ]
  },
  {
   "cell_type": "code",
   "execution_count": 8,
   "metadata": {},
   "outputs": [
    {
     "name": "stdout",
     "output_type": "stream",
     "text": [
      "[4, 16, 36, 64, 100]\n"
     ]
    }
   ],
   "source": [
    "lst = [2,4,6,8,10]\n",
    "\n",
    "sq_lst = [x**2 for x in lst]\n",
    "\n",
    "print(sq_lst)"
   ]
  },
  {
   "cell_type": "markdown",
   "metadata": {},
   "source": [
    "We have taken a list of numbers and generated a new list by squaring those numbers. If we wanted to do this using traditional ```for``` loop syntax it would look like this:"
   ]
  },
  {
   "cell_type": "code",
   "execution_count": 12,
   "metadata": {},
   "outputs": [
    {
     "name": "stdout",
     "output_type": "stream",
     "text": [
      "[4, 16, 36, 64, 100]\n"
     ]
    }
   ],
   "source": [
    "lst = [2,4,6,8,10]\n",
    "\n",
    "sq_lst = []\n",
    "\n",
    "for i in lst:\n",
    "    sq_lst.append(i**2)\n",
    "print(sq_lst)    "
   ]
  },
  {
   "cell_type": "markdown",
   "metadata": {},
   "source": [
    "What about if we want to put a conditional in a list comprehension? Well we simply put the conditional at the end and it acts rather like a filter."
   ]
  },
  {
   "cell_type": "code",
   "execution_count": 9,
   "metadata": {},
   "outputs": [
    {
     "name": "stdout",
     "output_type": "stream",
     "text": [
      "['hsa-miR-342-3p', 'hsa-miR-497*', 'hsa-miR-877*', 'hsa-miR-654-5p', 'hsa-miR-758', 'hsa-miR-593']\n"
     ]
    }
   ],
   "source": [
    "mirs = [\"hsa-miR-342-3p\",\"mmu-miR-342-3p\",\"rno-miR-342-3p\",\"hcmv-miR-UL70-5p\",\"hsa-miR-497*\",\n",
    "        \"kshv-miR-K12-10b\",\"hsa-miR-877*\",\"mmu-miR-877*\",\"hsa-miR-654-5p\",\"hsa-miR-758\",\"rno-miR-758\",\n",
    "        \"mmu-miR-672\",\"rno-miR-672\",\"hsa-miR-593\"]\n",
    "\n",
    "hsa = [mir for mir in mirs if 'hsa' in mir]\n",
    "print(hsa)"
   ]
  },
  {
   "cell_type": "markdown",
   "metadata": {},
   "source": [
    "In this example the list comprehension can be read as: for every element of the ```mirs``` list, add that element to the ```hsa``` list ```if``` the string 'hsa' is detected in that element.\n",
    "\n",
    "List comprehension can be tricky but it does save typing!"
   ]
  },
  {
   "cell_type": "markdown",
   "metadata": {},
   "source": [
    "## Putting it together! 1\n",
    "\n",
    "Given a list of numbers [10,20,30,40,50] use a ```for``` loop with a boolean comparison in the loop to find the largest value in the list. Print the largest value in an informative sentence using string formatting. \n",
    "\n",
    "Hint: you'll need to set up a variable to hold the largest value before you enter the loop."
   ]
  },
  {
   "cell_type": "markdown",
   "metadata": {},
   "source": [
    "Add code to the script you just wrote to find the smallest value and print that as well."
   ]
  },
  {
   "cell_type": "markdown",
   "metadata": {},
   "source": [
    "## Putting it together! 2\n",
    "\n",
    "The following is a list of scam email addresses from [here](http://pleasestopthespam.weebly.com/hall-of-shame.html). Copy-paste these into a python ```list``` variable and write a script that will use list comprehension to find the scam email addresses that come from the yahoo.com domain. Calculate the percentage of yahoo domain addresses. \n",
    "\n",
    "Hint - remember you'll be dealing with ```int``` for list lengths but you'll want ```float``` for calculating percentages.\n",
    "\n",
    "'riojasm66@yahoo.com', 'hdclive@live.com', 'terauau@gmail.com', 'jabu_moleketi@yahoo.com', 'soeungkheng34@yahoo.com', 'desk433@yahoo.com', 'caf432@ig.com.br', 'samanthakipkalya24@yahoo.in', 'cpt.jane@yahoo.com.ph', 'edwardbuma02@hotmail.com'"
   ]
  },
  {
   "cell_type": "markdown",
   "metadata": {},
   "source": [
    "## Homework\n",
    "\n",
    "Write a program which repeatedly reads numbers until the user enters “done”. Once “done” is entered, print out the total, count, and average of the numbers. If the user enters anything other than a number, detect their mistake using ```try-except``` and skip to the next request for a number. \n",
    "\n",
    "Hint: You'll have to be careful about the placement of ```break``` and ```continue``` statements here. Remember that ```break``` stops the loop and goes to the main programme body again whilst ```continue``` jumps back to the start of the loop."
   ]
  }
 ],
 "metadata": {
  "anaconda-cloud": {},
  "kernelspec": {
   "display_name": "Python 3",
   "language": "python",
   "name": "python3"
  },
  "language_info": {
   "codemirror_mode": {
    "name": "ipython",
    "version": 3
   },
   "file_extension": ".py",
   "mimetype": "text/x-python",
   "name": "python",
   "nbconvert_exporter": "python",
   "pygments_lexer": "ipython3",
   "version": "3.6.0"
  }
 },
 "nbformat": 4,
 "nbformat_minor": 1
}
