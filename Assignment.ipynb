{
 "cells": [
  {
   "cell_type": "markdown",
   "metadata": {},
   "source": [
    "# Assignment\n",
    "\n",
    "Over the last few years we have collected body composition data in the third year Sports Medicine, Health and Wellbeing module. The assignment for this programming course is to analyse and report that data. You will be expected to demonstrate that you can use python \n",
    "\n",
    "* to read the data\n",
    "* to carry out some simple visual analysis using plots\n",
    "* to present simple summary statistics\n",
    "* to carry out simple statistical tests on the data\n",
    "\n",
    "Your work should be presented in the form a an iptyhon notebook. The code should be executable from start to finish and should include comments as required. \n",
    "\n",
    "The format of the report should be\n",
    "\n",
    "* brief introduction\n",
    "* simple exploratory analysis with explanations/observations\n",
    "* reporting of basic statistics\n",
    "* presentation and reporting of statistical analysis\n",
    "* brief discussion/conclusion\n",
    "\n",
    "This assignment is compulsory and the mark you get will be the mark for the module."
   ]
  }
 ],
 "metadata": {
  "kernelspec": {
   "display_name": "Python 2",
   "language": "python",
   "name": "python2"
  },
  "language_info": {
   "codemirror_mode": {
    "name": "ipython",
    "version": 2
   },
   "file_extension": ".py",
   "mimetype": "text/x-python",
   "name": "python",
   "nbconvert_exporter": "python",
   "pygments_lexer": "ipython2",
   "version": "2.7.9"
  }
 },
 "nbformat": 4,
 "nbformat_minor": 0
}
