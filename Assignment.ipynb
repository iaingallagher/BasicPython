{
 "cells": [
  {
   "cell_type": "markdown",
   "metadata": {},
   "source": [
    "# Assignment\n",
    "\n",
    "Over the last few years the SPSU9C5 module has collected body composition data from third year students. The assignment for this programming course is to analyse and report that data. You will be expected to demonstrate that you can use python to\n",
    "\n",
    "* read the data\n",
    "* carry out visual analysis using plots\n",
    "* present summary statistics\n",
    "* carry out statistical tests on the data\n",
    "\n",
    "Your work should be presented in the form of an ipython notebook. The code in each cell should be executable. The notebook should contain the whole analysis from start to finish. \n",
    "\n",
    "The format of the report should be\n",
    "\n",
    "* brief introduction\n",
    "* simple exploratory analysis with explanations/observations\n",
    "* reporting of basic statistics\n",
    "* presentation and reporting of statistical analysis\n",
    "* brief discussion/conclusion\n",
    "\n",
    "This assignment is compulsory and the mark you get will be the mark for the half module. There is no word limit per se as the point is to demonstrate that you can use the techniques you have learned to carry out the task programmatically and in the spirit of reproducible research.\n",
    "\n",
    "You can start the assignment as soon as you feel able. We'll stop the formal teaching in Week 8 (Tue 3rd Nov) and use the last few sessions to assist anyone who has specific problems i.e. give you hints but not solve the problem for you.\n",
    "\n",
    "The data for the assignment is in the data folder in the github repository. The URL for the assignment data is\n",
    "\n",
    "https://raw.githubusercontent.com/iaingallagher/BasicPython/master/data/BODY_COMPOSITION_DATA_4_ASSIGNMENT.tsv\n",
    "\n",
    "The column headers in the file are as follows:\n",
    "\n",
    "* sex - the sex of each subject\n",
    "* girths - percentage body fat calculated from limb/abdomen girths\n",
    "* bia - percentage body fat assessed by body impedence analysis\n",
    "* DW - percentage body fat assessed by the technique of Durnin and Womersley based on skinfolds\n",
    "* jackson - percentage body fat assessed by the Jackson nomogram based on skinfolds\n",
    "* HW - percentage body fat assessed by underwater weighing\n",
    "* skinfolds - sum of 7 skinfold measurements\n",
    "* BMI - body mass index \n",
    "* WHR - waist to hip ratio \n",
    "* Waist - waist circumference (cm)"
   ]
  }
 ],
 "metadata": {
  "kernelspec": {
   "display_name": "Python 2",
   "language": "python",
   "name": "python2"
  },
  "language_info": {
   "codemirror_mode": {
    "name": "ipython",
    "version": 2
   },
   "file_extension": ".py",
   "mimetype": "text/x-python",
   "name": "python",
   "nbconvert_exporter": "python",
   "pygments_lexer": "ipython2",
   "version": "2.7.10"
  }
 },
 "nbformat": 4,
 "nbformat_minor": 0
}
