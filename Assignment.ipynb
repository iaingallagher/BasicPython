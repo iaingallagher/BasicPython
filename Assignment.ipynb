{
 "cells": [
  {
   "cell_type": "markdown",
   "metadata": {},
   "source": [
    "# Assignment\n",
    "\n",
    "REMOVE SOLUTION CODE BEFORE POSTING\n",
    "\n",
    "Over the last few years we have collected body composition data in the third year Sports Medicine, Health and Wellbeing module. The assignment for this programming course is to analyse and report that data. You will be expected to demonstrate that you can use python to\n",
    "\n",
    "* read the data\n",
    "* carry out some simple visual analysis using plots\n",
    "* present simple summary statistics\n",
    "* carry out simple statistical tests on the data\n",
    "\n",
    "Your work should be presented in the form of an ipython notebook. The code should be executable from start to finish and should include comments as required. \n",
    "\n",
    "The format of the report should be\n",
    "\n",
    "* brief introduction\n",
    "* simple exploratory analysis with explanations/observations\n",
    "* reporting of basic statistics\n",
    "* presentation and reporting of statistical analysis\n",
    "* brief discussion/conclusion\n",
    "\n",
    "This assignment is compulsory and the mark you get will be the mark for the half module.\n",
    "\n",
    "The data for the assignment is in the data folder in the github repository. The URL for the assignment data is\n",
    "\n",
    "https://raw.githubusercontent.com/iaingallagher/BasicPython/master/data/BODY_COMPOSITION_DATA_4_ASSIGNMENT.tsv\n",
    "\n",
    "The column headers in the file are as follows:\n",
    "\n",
    "* sex - the sex of each subject\n",
    "* girths - percentage body fat calculated from limb/abdomen girths\n",
    "* bia - percentage body fat assessed by body impedence analysis\n",
    "* DW - percentage body fat assessed by the technique of Durnin and Womersley based on skinfolds\n",
    "* jackson - percentage body fat assessed by the Jackson nomogram based on skinfolds\n",
    "* HW - percentage body fat assessed by underwater weighing\n",
    "* skinfolds - sum of 7 skinfold measurements\n",
    "* BMI - body mass index \n",
    "* WHR - waist to hip ratio \n",
    "* Waist - waist circumference (cm)"
   ]
  },
  {
   "cell_type": "code",
   "execution_count": 10,
   "metadata": {
    "collapsed": false
   },
   "outputs": [
    {
     "data": {
      "text/html": [
       "<div style=\"max-height:1000px;max-width:1500px;overflow:auto;\">\n",
       "<table border=\"1\" class=\"dataframe\">\n",
       "  <thead>\n",
       "    <tr style=\"text-align: right;\">\n",
       "      <th></th>\n",
       "      <th>sex</th>\n",
       "      <th>girths</th>\n",
       "      <th>bia</th>\n",
       "      <th>DW</th>\n",
       "      <th>jackson</th>\n",
       "      <th>HW</th>\n",
       "      <th>skinfolds</th>\n",
       "      <th>BMI</th>\n",
       "      <th>WHR</th>\n",
       "      <th>Waist</th>\n",
       "    </tr>\n",
       "  </thead>\n",
       "  <tbody>\n",
       "    <tr>\n",
       "      <th>0</th>\n",
       "      <td> F</td>\n",
       "      <td> 13.10</td>\n",
       "      <td> 25.0</td>\n",
       "      <td> 31.01</td>\n",
       "      <td> 23.75</td>\n",
       "      <td> 32.3</td>\n",
       "      <td> 120.5</td>\n",
       "      <td> 23.2</td>\n",
       "      <td> 0.76</td>\n",
       "      <td> 76.0</td>\n",
       "    </tr>\n",
       "    <tr>\n",
       "      <th>1</th>\n",
       "      <td> F</td>\n",
       "      <td> 16.52</td>\n",
       "      <td> 13.5</td>\n",
       "      <td> 20.30</td>\n",
       "      <td> 20.00</td>\n",
       "      <td> 29.4</td>\n",
       "      <td>  59.3</td>\n",
       "      <td> 19.0</td>\n",
       "      <td> 0.69</td>\n",
       "      <td> 61.5</td>\n",
       "    </tr>\n",
       "    <tr>\n",
       "      <th>2</th>\n",
       "      <td> F</td>\n",
       "      <td> 38.07</td>\n",
       "      <td> 34.6</td>\n",
       "      <td> 32.40</td>\n",
       "      <td> 19.00</td>\n",
       "      <td> 34.2</td>\n",
       "      <td> 126.3</td>\n",
       "      <td> 29.1</td>\n",
       "      <td> 0.83</td>\n",
       "      <td> 84.6</td>\n",
       "    </tr>\n",
       "    <tr>\n",
       "      <th>3</th>\n",
       "      <td> F</td>\n",
       "      <td> 23.32</td>\n",
       "      <td> 17.0</td>\n",
       "      <td> 29.40</td>\n",
       "      <td> 20.50</td>\n",
       "      <td> 23.2</td>\n",
       "      <td>  91.1</td>\n",
       "      <td> 20.5</td>\n",
       "      <td> 0.72</td>\n",
       "      <td> 71.0</td>\n",
       "    </tr>\n",
       "    <tr>\n",
       "      <th>4</th>\n",
       "      <td> F</td>\n",
       "      <td> 25.21</td>\n",
       "      <td> 16.9</td>\n",
       "      <td> 25.00</td>\n",
       "      <td> 16.50</td>\n",
       "      <td>  NaN</td>\n",
       "      <td>  65.2</td>\n",
       "      <td> 22.1</td>\n",
       "      <td> 0.79</td>\n",
       "      <td> 74.0</td>\n",
       "    </tr>\n",
       "  </tbody>\n",
       "</table>\n",
       "</div>"
      ],
      "text/plain": [
       "  sex  girths   bia     DW  jackson    HW  skinfolds   BMI   WHR  Waist\n",
       "0   F   13.10  25.0  31.01    23.75  32.3      120.5  23.2  0.76   76.0\n",
       "1   F   16.52  13.5  20.30    20.00  29.4       59.3  19.0  0.69   61.5\n",
       "2   F   38.07  34.6  32.40    19.00  34.2      126.3  29.1  0.83   84.6\n",
       "3   F   23.32  17.0  29.40    20.50  23.2       91.1  20.5  0.72   71.0\n",
       "4   F   25.21  16.9  25.00    16.50   NaN       65.2  22.1  0.79   74.0"
      ]
     },
     "execution_count": 10,
     "metadata": {},
     "output_type": "execute_result"
    }
   ],
   "source": [
    "import pandas as pd\n",
    "import seaborn as sns\n",
    "from urllib2 import Request, urlopen\n",
    "import matplotlib.pyplot as plt\n",
    "%matplotlib inline\n",
    "\n",
    "# Set up URL and get file\n",
    "# URL pasted in\n",
    "request_object = Request(\"https://raw.githubusercontent.com/iaingallagher/BasicPython/master/data/BODY_COMPOSITION_DATA_4_ASSIGNMENT.tsv\")\n",
    "# Open the file\n",
    "file_object = urlopen(request_object)\n",
    "\n",
    "#print file_object\n",
    "\n",
    "data_in = pd.read_csv(file_object, sep='\\t') # read with pandas\n",
    "data_in.head()"
   ]
  },
  {
   "cell_type": "code",
   "execution_count": 16,
   "metadata": {
    "collapsed": false
   },
   "outputs": [
    {
     "data": {
      "text/plain": [
       "sex\n",
       "F      24.735091\n",
       "M      16.904529\n",
       "Name: girths, dtype: float64"
      ]
     },
     "execution_count": 16,
     "metadata": {},
     "output_type": "execute_result"
    }
   ],
   "source": [
    "# get the mean data for each parameter by sex\n",
    "data_in.groupby('sex').mean()['girths']\n",
    "# write for loop to go over the columns and extract mean for each sex"
   ]
  },
  {
   "cell_type": "code",
   "execution_count": null,
   "metadata": {
    "collapsed": true
   },
   "outputs": [],
   "source": []
  }
 ],
 "metadata": {
  "kernelspec": {
   "display_name": "Python 2",
   "language": "python",
   "name": "python2"
  },
  "language_info": {
   "codemirror_mode": {
    "name": "ipython",
    "version": 2
   },
   "file_extension": ".py",
   "mimetype": "text/x-python",
   "name": "python",
   "nbconvert_exporter": "python",
   "pygments_lexer": "ipython2",
   "version": "2.7.9"
  }
 },
 "nbformat": 4,
 "nbformat_minor": 0
}
