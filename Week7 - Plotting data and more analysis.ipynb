{
 "cells": [
  {
   "cell_type": "markdown",
   "metadata": {
    "collapsed": false
   },
   "source": [
    "# Introduction\n",
    "\n",
    "In the last unit we looked at the ```pandas``` library for some basic data analysis. Many of the messages you would like to communicate from such analyses are best done using visualisation - a picture is worth a thousand words. In that spirit we're going to look at some tools for plotting data. The most popular basic library for plotting in python is ```matplotlib``` and in particular the ```pyplot``` component of ```matplotlib```. There is a degree of plotting functionality built into ```pandas``` which relies on ```matplotlib.pylot``` to generate plots so we'll begin by looking at ```matplotlib.pylot```. However there are other plotting libraries as well that can speed things up a little (and make prettier plots). One of these is ```seaborn``` and we'll look at how we can use ```seaborn``` and ```pandas``` together in the second half of this unit."
   ]
  },
  {
   "cell_type": "markdown",
   "metadata": {},
   "source": [
    "## The ```matplotlib.pyplot``` library\n",
    "\n",
    "The [homepage](http://matplotlib.org/) for the ```matplotlib``` library describes it as\n",
    ">... a python 2D plotting library which produces publication quality figures in a variety of hardcopy formats and interactive environments across platforms... For simple plotting the pyplot interface provides a MATLAB-like interface, particularly when combined with IPython. For the power user, you have full control of line styles, font properties, axes properties, etc, via an object oriented interface or via a set of functions familiar to MATLAB users.\n",
    "\n",
    "Basically ```matplotlib``` provides a plotting environment similar to that of a mathematical software system called [MATLAB](http://uk.mathworks.com/products/matlab/). Whilst MATLAB is popular and expensive python is popular and free and for our purposes provides infinitely better value for money!\n",
    "\n",
    "To introduce plotting in python we're going to use python to analyse the marathon winning times dataset we used in the past unit. These data are available from [OpenIntro Statistics](http://www.openintro.org/stat/). We'll use the ```pandas``` library to hold and manipulate our data, ```pyplot``` from the ```matplotlib``` library (often via ```pandas```) to plot the data and the ```scipy.stats``` library for some statistical analyses. First we import the libraries that we'll be using. Last week we briefly discussed importing libraies and the idiom of shortening the library name on import. You can see that below."
   ]
  },
  {
   "cell_type": "code",
   "execution_count": 1,
   "metadata": {
    "collapsed": false
   },
   "outputs": [],
   "source": [
    "%matplotlib inline \n",
    "# means the notebook shows us plots directly\n",
    "\n",
    "import matplotlib.pyplot as plt # less typing!\n",
    "import pandas as pd\n",
    "import scipy.stats as stats"
   ]
  },
  {
   "cell_type": "markdown",
   "metadata": {},
   "source": [
    "Just like last week we'll begin by reading the data we'll be using and looking at the structure of the data."
   ]
  },
  {
   "cell_type": "code",
   "execution_count": 2,
   "metadata": {
    "collapsed": false
   },
   "outputs": [
    {
     "data": {
      "text/html": [
       "<div>\n",
       "<table border=\"1\" class=\"dataframe\">\n",
       "  <thead>\n",
       "    <tr style=\"text-align: right;\">\n",
       "      <th></th>\n",
       "      <th>Year</th>\n",
       "      <th>Gender</th>\n",
       "      <th>Time</th>\n",
       "    </tr>\n",
       "  </thead>\n",
       "  <tbody>\n",
       "    <tr>\n",
       "      <th>0</th>\n",
       "      <td>1980</td>\n",
       "      <td>m</td>\n",
       "      <td>2.16139</td>\n",
       "    </tr>\n",
       "    <tr>\n",
       "      <th>1</th>\n",
       "      <td>1981</td>\n",
       "      <td>m</td>\n",
       "      <td>2.13694</td>\n",
       "    </tr>\n",
       "    <tr>\n",
       "      <th>2</th>\n",
       "      <td>1982</td>\n",
       "      <td>m</td>\n",
       "      <td>2.15806</td>\n",
       "    </tr>\n",
       "    <tr>\n",
       "      <th>3</th>\n",
       "      <td>1983</td>\n",
       "      <td>m</td>\n",
       "      <td>2.14972</td>\n",
       "    </tr>\n",
       "    <tr>\n",
       "      <th>4</th>\n",
       "      <td>1984</td>\n",
       "      <td>m</td>\n",
       "      <td>2.24806</td>\n",
       "    </tr>\n",
       "  </tbody>\n",
       "</table>\n",
       "</div>"
      ],
      "text/plain": [
       "   Year Gender     Time\n",
       "0  1980      m  2.16139\n",
       "1  1981      m  2.13694\n",
       "2  1982      m  2.15806\n",
       "3  1983      m  2.14972\n",
       "4  1984      m  2.24806"
      ]
     },
     "execution_count": 2,
     "metadata": {},
     "output_type": "execute_result"
    }
   ],
   "source": [
    "data_in = pd.read_csv('data/marathon.csv', sep=',')\n",
    "data_in.head()"
   ]
  },
  {
   "cell_type": "code",
   "execution_count": 3,
   "metadata": {
    "collapsed": false
   },
   "outputs": [
    {
     "name": "stdout",
     "output_type": "stream",
     "text": [
      "<class 'pandas.core.frame.DataFrame'>\n",
      "Int64Index: 59 entries, 0 to 58\n",
      "Data columns (total 3 columns):\n",
      "Year      59 non-null int64\n",
      "Gender    59 non-null object\n",
      "Time      59 non-null float64\n",
      "dtypes: float64(1), int64(1), object(1)\n",
      "memory usage: 1.8+ KB\n"
     ]
    }
   ],
   "source": [
    "data_in.info()"
   ]
  },
  {
   "cell_type": "code",
   "execution_count": 4,
   "metadata": {
    "collapsed": false
   },
   "outputs": [
    {
     "data": {
      "text/html": [
       "<div>\n",
       "<table border=\"1\" class=\"dataframe\">\n",
       "  <thead>\n",
       "    <tr style=\"text-align: right;\">\n",
       "      <th></th>\n",
       "      <th>Year</th>\n",
       "      <th>Time</th>\n",
       "    </tr>\n",
       "  </thead>\n",
       "  <tbody>\n",
       "    <tr>\n",
       "      <th>count</th>\n",
       "      <td>59.000000</td>\n",
       "      <td>59.000000</td>\n",
       "    </tr>\n",
       "    <tr>\n",
       "      <th>mean</th>\n",
       "      <td>1984.745763</td>\n",
       "      <td>2.390504</td>\n",
       "    </tr>\n",
       "    <tr>\n",
       "      <th>std</th>\n",
       "      <td>8.591482</td>\n",
       "      <td>0.240691</td>\n",
       "    </tr>\n",
       "    <tr>\n",
       "      <th>min</th>\n",
       "      <td>1970.000000</td>\n",
       "      <td>2.133610</td>\n",
       "    </tr>\n",
       "    <tr>\n",
       "      <th>25%</th>\n",
       "      <td>1977.500000</td>\n",
       "      <td>2.183470</td>\n",
       "    </tr>\n",
       "    <tr>\n",
       "      <th>50%</th>\n",
       "      <td>1985.000000</td>\n",
       "      <td>2.421390</td>\n",
       "    </tr>\n",
       "    <tr>\n",
       "      <th>75%</th>\n",
       "      <td>1992.000000</td>\n",
       "      <td>2.470140</td>\n",
       "    </tr>\n",
       "    <tr>\n",
       "      <th>max</th>\n",
       "      <td>1999.000000</td>\n",
       "      <td>3.144720</td>\n",
       "    </tr>\n",
       "  </tbody>\n",
       "</table>\n",
       "</div>"
      ],
      "text/plain": [
       "              Year       Time\n",
       "count    59.000000  59.000000\n",
       "mean   1984.745763   2.390504\n",
       "std       8.591482   0.240691\n",
       "min    1970.000000   2.133610\n",
       "25%    1977.500000   2.183470\n",
       "50%    1985.000000   2.421390\n",
       "75%    1992.000000   2.470140\n",
       "max    1999.000000   3.144720"
      ]
     },
     "execution_count": 4,
     "metadata": {},
     "output_type": "execute_result"
    }
   ],
   "source": [
    "data_in.describe()"
   ]
  },
  {
   "cell_type": "markdown",
   "metadata": {},
   "source": [
    "Remember that the ```pandas``` methods ```.info()``` and ```.describe()``` give structural (i.e. what kinds of objects make up the data) and statistical (i.e. summaries) overviews of the data respectively.\n",
    "\n",
    "We know that this data set is a timeseries - i.e. marathon winning times over several years - so one of the first things we might want to do is plot the winning times over the years and see what the trend is. ```pandas``` can use ```matplotlib``` directly via a ```plot``` function. We will use this to create our scatter plot. We provide the ```plot``` function with the kind of plot we want (scatter in this case) and the variables to be plotted against each other in the scatter plot."
   ]
  },
  {
   "cell_type": "code",
   "execution_count": 6,
   "metadata": {
    "collapsed": false
   },
   "outputs": [
    {
     "data": {
      "image/png": "[encoded data removed]",
      "text/plain": [
       "<matplotlib.figure.Figure at 0x116492a90>"
      ]
     },
     "metadata": {},
     "output_type": "display_data"
    }
   ],
   "source": [
    "data_in.plot(kind='scatter', x='Year', y='Time')\n",
    "plt.show()\n",
    "# using matplotlib.pyplot directly\n",
    "# plt.scatter(data_in['Year'], data_in['Time'])\n",
    "# plt.show()"
   ]
  },
  {
   "cell_type": "markdown",
   "metadata": {},
   "source": [
    "So one thing is immediately apparent - there are two quite distinct sets of times in this data. Why do you think this is? \n",
    "\n",
    "Another pattern that's quite apparent is that there is a fairly steep decline in winning times over the early part of the recording period but from about 1975 onwards there hasn't been much change in the winning time.\n",
    "\n",
    "The most likely explanation for the two distinct sets of data is of course male and female times. In the last unit we used pandas to pull out the male and female mean times. Let's do that again and plot these in a barplot."
   ]
  },
  {
   "cell_type": "code",
   "execution_count": 7,
   "metadata": {
    "collapsed": false
   },
   "outputs": [
    {
     "data": {
      "text/plain": [
       "Gender\n",
       "f    2.566216\n",
       "m    2.220648\n",
       "Name: Time, dtype: float64"
      ]
     },
     "execution_count": 7,
     "metadata": {},
     "output_type": "execute_result"
    }
   ],
   "source": [
    "group_means = data_in.groupby('Gender')['Time'].mean()\n",
    "group_means"
   ]
  },
  {
   "cell_type": "code",
   "execution_count": 8,
   "metadata": {
    "collapsed": false
   },
   "outputs": [
    {
     "data": {
      "image/png": "[encoded data removed]",
      "text/plain": [
       "<matplotlib.figure.Figure at 0x11901feb8>"
      ]
     },
     "metadata": {},
     "output_type": "display_data"
    }
   ],
   "source": [
    "group_means.plot(kind='bar', rot=0)\n",
    "plt.show()"
   ]
  },
  {
   "cell_type": "markdown",
   "metadata": {},
   "source": [
    "This plot call is pretty much uncomplicated apart from the ```rot=0``` part. The default x-axis labels are rotated 90 degrees (try the plot without the ```rot=0``` argument to see this). Passing ```rot=0``` simply prints the x-axis labels horizontally.\n",
    "\n",
    "We could also look at the male / female differences by using box and whisker plots. This uses the ```boxplot``` function (rather than ```plot```) and we pass in the variable we want summarised (Time) and the grouping variable (Gender)."
   ]
  },
  {
   "cell_type": "code",
   "execution_count": 9,
   "metadata": {
    "collapsed": false
   },
   "outputs": [
    {
     "data": {
      "image/png": "[encoded data removed]",
      "text/plain": [
       "<matplotlib.figure.Figure at 0x1191b9550>"
      ]
     },
     "metadata": {},
     "output_type": "display_data"
    }
   ],
   "source": [
    "data_in.boxplot(column='Time', by='Gender')\n",
    "plt.show()"
   ]
  },
  {
   "cell_type": "markdown",
   "metadata": {},
   "source": [
    "All of these plots are generated using ```matplotlib.pyplot``` under the hood. Although they're fine for exploratory analysis they're not exactly beautiful. Later we'll look at another graphing library, ```seaborn``` which also uses ```matplotlib``` under the hood but makes producing good looking plots much easier. But first... some basic statistical analysis."
   ]
  },
  {
   "cell_type": "markdown",
   "metadata": {},
   "source": [
    "## Some basic statistical analysis - ```scipy.stats```\n",
    "\n",
    "We've seen above that the male and female times over the years are quite different but are they significantly different? The [```scipy.stats```](http://docs.scipy.org/doc/scipy/reference/stats.html) library contains many statistical functions including those for inferential statistics. As a first step we'll get the male and female times and then perform a $t$-test see whether the times are statistically different."
   ]
  },
  {
   "cell_type": "code",
   "execution_count": 10,
   "metadata": {
    "collapsed": false
   },
   "outputs": [
    {
     "name": "stdout",
     "output_type": "stream",
     "text": [
      "The average winning marathon time for men is 2.22 hours and the average winning time for women is 2.57 hours.\n"
     ]
    }
   ],
   "source": [
    "male_mean_time = data_in[data_in.Gender == 'm'].Time.mean()\n",
    "female_mean_time = data_in[data_in.Gender == 'f'].Time.mean()\n",
    "\n",
    "print(\"The average winning marathon time for men is %.2f hours and the average winning time for women is %.2f hours.\" \\\n",
    "% (male_mean_time, female_mean_time))"
   ]
  },
  {
   "cell_type": "markdown",
   "metadata": {},
   "source": [
    "So is the difference between these statistically significant?"
   ]
  },
  {
   "cell_type": "markdown",
   "metadata": {},
   "source": [
    "The function we want to use is the [```scipy.stats.ttest_ind```](http://docs.scipy.org/doc/scipy/reference/generated/scipy.stats.ttest_ind.html#scipy.stats.ttest_ind) function. As arguments we pass in the male and female times. The ```stats.ttest_ind``` function returns a tuple containing the $t$-statistic and the $p$-value for the test."
   ]
  },
  {
   "cell_type": "code",
   "execution_count": 11,
   "metadata": {
    "collapsed": false
   },
   "outputs": [
    {
     "name": "stdout",
     "output_type": "stream",
     "text": [
      "The t-statistic is -7.92 with a p-value of 0.000.\n"
     ]
    },
    {
     "data": {
      "text/plain": [
       "Ttest_indResult(statistic=-7.9223975775190754, pvalue=9.2479590446378863e-11)"
      ]
     },
     "execution_count": 11,
     "metadata": {},
     "output_type": "execute_result"
    }
   ],
   "source": [
    "male_times = data_in[data_in['Gender']=='m'].Time # get separate time for each gender\n",
    "female_times = data_in[data_in['Gender']=='f'].Time\n",
    "\n",
    "# do the test\n",
    "t_res = stats.ttest_ind(male_times, female_times) # tuple out, t-stat and p-value\n",
    "print(\"The t-statistic is %.2f with a p-value of %.3f.\" % (t_res[0], t_res[1]))\n",
    "t_res"
   ]
  },
  {
   "cell_type": "markdown",
   "metadata": {},
   "source": [
    "The male and female times are statistically different. However we made a bunch of assumptions by just blindly applying the $t$-test and one of them is that our data are normally distributed. The easiest way to examine whether this is the case or not is to plot histograms for each dataset. Since we want male and female times separately we use the ```by``` argument to plot the separate datasets."
   ]
  },
  {
   "cell_type": "code",
   "execution_count": 12,
   "metadata": {
    "collapsed": false
   },
   "outputs": [
    {
     "data": {
      "image/png": "[encoded data removed]",
      "text/plain": [
       "<matplotlib.figure.Figure at 0x119023780>"
      ]
     },
     "metadata": {},
     "output_type": "display_data"
    }
   ],
   "source": [
    "data_in.hist(column='Time', by=data_in['Gender'], grid=False, bins=10, rot=45)\n",
    "plt.show()"
   ]
  },
  {
   "cell_type": "markdown",
   "metadata": {},
   "source": [
    "The data are clearly not normally distributed. Most values are over on the left hand side of the distribution and there's a pronounced right tail in both plots. In situations like this you can try to transform the data to a more normal distrubution. However we will deal with this by using the non-parametric equivalent of the $t$-test - the  Wilcoxon rank sum test (also known as the Mann-Whitney U test). We carry this test out using ```ranksums``` from the ```scipy.stats```."
   ]
  },
  {
   "cell_type": "code",
   "execution_count": 13,
   "metadata": {
    "collapsed": false
   },
   "outputs": [
    {
     "name": "stdout",
     "output_type": "stream",
     "text": [
      "The p-value for the MW test of winning times by gender is 0.000.\n"
     ]
    }
   ],
   "source": [
    "mw_test = stats.ranksums(male_times, female_times) # tuple, z-value and p-value\n",
    "print(\"The p-value for the MW test of winning times by gender is %.3f.\" % mw_test[1])"
   ]
  },
  {
   "cell_type": "markdown",
   "metadata": {},
   "source": [
    "Non-parametric tests have lower power than parametric tests to detect differences but here the difference is big enough that non-parametric test also shows the male and female winning times are significantly different."
   ]
  },
  {
   "cell_type": "markdown",
   "metadata": {},
   "source": [
    "## Plotting with the ```seaborn``` library\n",
    "\n",
    "The ```seaborn``` library is based on ```matplotlib``` but makes it easier to produce attractive plots quickly. From the [website](http://stanford.edu/~mwaskom/software/seaborn/).\n",
    ">Seaborn is a Python visualization library based on matplotlib. It provides a high-level interface for drawing attractive statistical graphics.\n",
    "\n",
    "The ```seaborn``` library also works very well with ```pandas``` and together these two libraries make a very useful data exploration and analysis toolkit. We'll demonstrate that below by re-creating the scatter plots, barplots, boxplots and histograms we generated above. As above we'll first create the scatterplot to get an overview of the data distribution. In ```seaborn``` scatterplots are created with the ```lmplot``` function. The function plots linear models - essentially plot one variable against another and draw a line of best fit through the data. We can use ```lmplot``` to create a scatterplot of Year and Time and tell it not to bother with the line of best fit. "
   ]
  },
  {
   "cell_type": "code",
   "execution_count": 14,
   "metadata": {
    "collapsed": false,
    "scrolled": true
   },
   "outputs": [
    {
     "data": {
      "image/png": "[encoded data removed]",
      "text/plain": [
       "<matplotlib.figure.Figure at 0x119c1a898>"
      ]
     },
     "metadata": {},
     "output_type": "display_data"
    }
   ],
   "source": [
    "import seaborn as sns\n",
    "sns.set_style(\"white\") # set a style for plot, nice and simple here\n",
    "sns.lmplot(x='Year', y='Time', data=data_in, fit_reg=False) # simple scatter plot, no fitted line\n",
    "plt.show()"
   ]
  },
  {
   "cell_type": "markdown",
   "metadata": {},
   "source": [
    "In the call to the ```lmplot``` function above we set the ```fit_reg``` argument to ```False``` to prevent plotting a best fit line through the data. This plot looks more attractive than the ```matplotlib``` basic plot above. We thought that the two distinct sets of points in this scatterplot probably represented the male and female times but we didn't visually explore that further. Let's re-create the scatterplot but colour the points by sex."
   ]
  },
  {
   "cell_type": "code",
   "execution_count": 15,
   "metadata": {
    "collapsed": false
   },
   "outputs": [
    {
     "data": {
      "image/png": "[encoded data removed]",
      "text/plain": [
       "<matplotlib.figure.Figure at 0x1189aa588>"
      ]
     },
     "metadata": {},
     "output_type": "display_data"
    }
   ],
   "source": [
    "sns.lmplot(x='Year', y='Time', hue='Gender', data=data_in, fit_reg=False) # simple scatter plot with colour by Gender\n",
    "plt.show()"
   ]
  },
  {
   "cell_type": "markdown",
   "metadata": {},
   "source": [
    "We can clearly see that the groups of points do indeed belong to men and women."
   ]
  },
  {
   "cell_type": "markdown",
   "metadata": {
    "collapsed": true
   },
   "source": [
    "Let's now re-create the barplots of mean times for men and women. The ```seaborn``` library contains a ```barplot``` function which is useful for creating simple barplots of data."
   ]
  },
  {
   "cell_type": "code",
   "execution_count": 17,
   "metadata": {
    "collapsed": false,
    "scrolled": true
   },
   "outputs": [
    {
     "data": {
      "image/png": "[encoded data removed]",
      "text/plain": [
       "<matplotlib.figure.Figure at 0x119bf82e8>"
      ]
     },
     "metadata": {},
     "output_type": "display_data"
    }
   ],
   "source": [
    "sns.barplot(x=\"Gender\", y=\"Time\", data=data_in, ci=68)\n",
    "plt.xlabel('Sex', size=14)\n",
    "plt.ylabel('Time (hrs)', size=14)\n",
    "plt.show()"
   ]
  },
  {
   "cell_type": "markdown",
   "metadata": {
    "collapsed": true
   },
   "source": [
    "The [```barplot```](http://stanford.edu/~mwaskom/software/seaborn/generated/seaborn.barplot.html) function can take several arguments, most of which you won't have to worry about. In the plot above we have supplied the categories for the x-axis, the values for the y-axis, the data to use (as a ```pandas``` DataFrame) and also the ```ci=68``` argument. This last argument sets the size of the error bars. The convention for showing uncertainty in data is to report the standard error of the mean. This statistic is equivalent to a 68% confidence interval and that's what the ```ci=68``` argument sets. The default in the ```barplot``` function is to show 95% CI around the mean - and technically this is a better thing to do... but no-one does it! The other default to be aware of is that ```barplot``` plots bars corresponding to the mean of the data. This can be changed using the ```estimator``` argument e.g. ```estimator=median```. Finally we have used calls to the underlying ```matplotlib.pyplot``` module (which we imported as ```plt```) to set the x and y labels.\n",
    "\n",
    "Creating boxplots with ```seaborn``` is very similar to creating barplots."
   ]
  },
  {
   "cell_type": "code",
   "execution_count": 18,
   "metadata": {
    "collapsed": false
   },
   "outputs": [
    {
     "data": {
      "image/png": "[encoded data removed]",
      "text/plain": [
       "<matplotlib.figure.Figure at 0x1199585f8>"
      ]
     },
     "metadata": {},
     "output_type": "display_data"
    }
   ],
   "source": [
    "sns.boxplot(x=\"Gender\", y=\"Time\", data=data_in)\n",
    "plt.xlabel('Sex', size=14)\n",
    "plt.ylabel('Time (hrs)', size=14)\n",
    "plt.show()"
   ]
  },
  {
   "cell_type": "markdown",
   "metadata": {},
   "source": [
    "We'll finish off by demonstrating the creation of histograms with ```seaborn```. Recall that a histogram is essentially a plot of the distribution of the data with counts of the number of data points that fit into pre-detemined bins. The ```seaborn``` function for generating histrograms is the ```distplot``` function. To generate histograms for the male and female data we need to subset out the data we want and generate the histograms individually. If we simply make a call to ```distplot``` and then show our plot the histograms are overplotted which may or may not be what you want."
   ]
  },
  {
   "cell_type": "code",
   "execution_count": 19,
   "metadata": {
    "collapsed": false
   },
   "outputs": [
    {
     "data": {
      "image/png": "[encoded data removed]",
      "text/plain": [
       "<matplotlib.figure.Figure at 0x1199d77f0>"
      ]
     },
     "metadata": {},
     "output_type": "display_data"
    }
   ],
   "source": [
    "sns.distplot(data_in[data_in['Gender'] == 'm']['Time'], kde=False)\n",
    "sns.distplot(data_in[data_in['Gender'] == 'f']['Time'], kde=False)\n",
    "plt.show()"
   ]
  },
  {
   "cell_type": "markdown",
   "metadata": {},
   "source": [
    "If you'd rather have two histrograms side-by-side then you can set up subplots in the plotting space and then fill those subplots sequentially. With ```subplot``` you can arrange plots in a grid. You need to specify the number of rows and columns and the number of the plot. So ```subplot(2,1,1)``` means 2 rows, 1 column and the next plot is the first plot. There are some useful notes [here](https://scipy-lectures.github.io/intro/matplotlib/matplotlib.html#figures-subplots-axes-and-ticks) in section 1.4.3.2. Let's see this in action."
   ]
  },
  {
   "cell_type": "code",
   "execution_count": 20,
   "metadata": {
    "collapsed": false
   },
   "outputs": [
    {
     "data": {
      "image/png": "[encoded data removed]",
      "text/plain": [
       "<matplotlib.figure.Figure at 0x119a5cc18>"
      ]
     },
     "metadata": {},
     "output_type": "display_data"
    }
   ],
   "source": [
    "plt.subplot(1,2,1) # one row, 2 cols, first plot\n",
    "sns.distplot(data_in[data_in['Gender'] == 'm']['Time'], kde=False, color='steelblue')\n",
    "plt.title('Male Times')\n",
    "plt.subplot(1,2,2) # one row, 2 cols, second plot\n",
    "sns.distplot(data_in[data_in['Gender'] == 'f']['Time'], kde=False, color='green')\n",
    "plt.title('Female Times')\n",
    "plt.show()"
   ]
  },
  {
   "cell_type": "markdown",
   "metadata": {},
   "source": [
    "In the example above we created subplots and then manually extracted the data we wanted to plot in each subplot. That was fine for two categories but what if we had 10 categories... tedious! Luckily there is a mechanism called faceting that comes to our rescue. When we create a faceted plot we are dividing our data along some pre-determined lines and plotting the individual subsets. ```seaborn``` provides a ```FacetGrid``` class that allows us to set up a ['data-aware' grid](http://stanford.edu/~mwaskom/software/seaborn/tutorial/axis_grids.html).\n",
    "\n",
    "First we have to set up a ```FacetGrid``` object. This requires providing a dataframe and the names of the variables that will form the row, column, and hue (if required) dimensions of the grid. The resulting grid is drawn but nothing is plotted on it yet. In the example below we have assigned our empty grid to a variable, ```g```."
   ]
  },
  {
   "cell_type": "code",
   "execution_count": 21,
   "metadata": {
    "collapsed": false
   },
   "outputs": [
    {
     "data": {
      "image/png": "[encoded data removed]",
      "text/plain": [
       "<matplotlib.figure.Figure at 0x119892208>"
      ]
     },
     "metadata": {},
     "output_type": "display_data"
    }
   ],
   "source": [
    "g = sns.FacetGrid(data_in, col=\"Gender\", hue='Gender', margin_titles=True)\n",
    "plt.show()"
   ]
  },
  {
   "cell_type": "markdown",
   "metadata": {},
   "source": [
    "To generate the plots that will fill the grid we make use of the ```FacetGrid.map()``` method. We provide the plotting function and the name(s) of variable(s) in the dataframe to plot. In the code below we ```.map()``` the ```plt.hist``` method and the Time variable of our dataset onto the grid we drew above."
   ]
  },
  {
   "cell_type": "code",
   "execution_count": 23,
   "metadata": {
    "collapsed": false
   },
   "outputs": [
    {
     "data": {
      "image/png": "[encoded data removed]",
      "text/plain": [
       "<matplotlib.figure.Figure at 0x119b8cb00>"
      ]
     },
     "metadata": {},
     "output_type": "display_data"
    }
   ],
   "source": [
    "g = sns.FacetGrid(data_in, col=\"Gender\", hue='Gender', margin_titles=True) # just repeating the code above\n",
    "g.map(plt.hist, \"Time\", lw=0)\n",
    "plt.show()"
   ]
  },
  {
   "cell_type": "markdown",
   "metadata": {
    "collapsed": true
   },
   "source": [
    "## Putting it together!\n",
    "\n",
    "At the 1976 Pro Bowl, Ray Guy, of the Oakland Raiders, kicked a ball that hung in the air long enough for officials to wonder whether the it was filled with helium. The ball was found to be filled with air, but since then many have tossed around the idea that a helium-filled football would outdistance an air-filled one. Students at Ohio State University conducted an experiment to test this myth. They used two identical footballs, one air filled with air and one filled with helium. Each football was kicked 39 times and the two footballs were alternated with each kick.\n",
    "\n",
    "Read the helium.txt (tab separated, again from [OpenIntro](https://www.openintro.org/)) file from the data folder. Create histograms and boxplots for these data using either ```matplotlib.pyplot``` or ```seaborn```. Comment on whether there are outliers or not. Carry out a statistical test (either $t$-test or Mann-Whitney) to decide if there is a statistically significant difference in the average height for the two balls. \n",
    "\n",
    "As a statistical aside - do you think these data should be analysed as independent samples or as paired data? The ```scipy.stats``` function for a paired $t$-test is [stats.ttest_rel](http://docs.scipy.org/doc/scipy-0.15.1/reference/generated/scipy.stats.ttest_rel.html).\n",
    "\n",
    "Hint: Data can be in [wide or long](https://en.wikipedia.org/wiki/Wide_and_narrow_data) format. In wide format there is a separate column for each data variable i.e. there can be more than one value column.\n",
    "\n",
    "e.g.\n",
    "\n",
    "| trial | air | helium |\n",
    "|-------|-----|--------|\n",
    "| 1     | 25  | 25     |\n",
    "| 2     | 23  | 16     |\n",
    "| 3     | 18  | 25     |\n",
    "| 4     | 16  | 14     |\n",
    "| 5     | 35  | 23     |\n",
    "\n",
    "In wide format each row may contain several observations. In the example above each row contains observations for 'air' and 'helium'.\n",
    "\n",
    "In long format there is only one value column and the other columns give the context of the value i.e. whether it's from an air or helium trial.\n",
    "\n",
    "e.g.\n",
    "\n",
    "| trial | variable | value |\n",
    "|-------|----------|-------|\n",
    "| 1     | helium   | 25    |\n",
    "| 2     | helium   | 16    |\n",
    "| 3     | helium   | 25    |\n",
    "| 4     | helium   | 14    |\n",
    "| 5     | helium   | 23    |\n",
    "| 1     | air      | 25    |\n",
    "| 2     | air      | 23    |\n",
    "| 3     | air      | 18    |\n",
    "| 4     | air      | 16    |\n",
    "| 5     | air      | 35    |\n",
    "\n",
    "In long format each row corresponds to one and only one observed value.\n",
    "\n",
    "To generate the plots in this exercise you should convert the data from wide to long format. In general this format makes it easier to split data by variables. The ```pandas``` [```melt()```](http://pandas.pydata.org/pandas-docs/stable/generated/pandas.melt.html) method allows us to do this - it 'melts' the data. For our purposes you only need to supply the ```id_vars``` argument telling ```melt()``` which variable identifies each row.\n",
    "\n",
    "e.g.\n",
    "```python\n",
    "heliumM = pd.melt(helium, id_vars=('trial'))\n",
    "```"
   ]
  },
  {
   "cell_type": "markdown",
   "metadata": {},
   "source": [
    "## Homework 1\n",
    "\n",
    "The energy.txt file (from the R package [ISwR](https://cran.r-project.org/web/packages/ISwR/index.html), but originally from [Practical Statistics for Medical Research](http://www.amazon.co.uk/Practical-Statistics-Medical-Research-Statistical/dp/0412276305)) contains data on energy expenditure (in MJ) and stature (obese or lean) from 22 women. \n",
    "\n",
    "Read the data into a ```pandas``` dataframe. \n",
    "\n",
    "How many are in each group? Create boxplots of this data by stature. Comment on these boxplots - i.e. what do you see? \n",
    "\n",
    "Examine the data for normality by creating histograms for each group. \n",
    "\n",
    "Print the mean energy expenditure for each group and create barplots with error bars showing the standard error (```ci=68```) of the mean energy expenditure for each group. \n",
    "\n",
    "Finally carry out a statistical test (you can choose $t$-test or MW test depending on your interpretation of the histograms) to examine whether mean energy expenditure is the same in each group."
   ]
  },
  {
   "cell_type": "markdown",
   "metadata": {},
   "source": [
    "## Homework 2 - optional\n",
    "\n",
    "The energy_intake.txt file, also originally from [Practical Statistics for Medical Research](http://www.amazon.co.uk/Practical-Statistics-Medical-Research-Statistical/dp/0412276305), contains paired data on the energy intake of 11 women pre and post menstruation. When we have two continuous variables like this we are often interested in the relationship between the variables and we might expect that pre and post energy intake would demonstrate a linear relationship. \n",
    "\n",
    "In this exercise you should read the data into a ```pandas``` dataframe from the data folder and generate a scatter plot with a line of best fit. Scatter plots are ideal for visualising the relationship between continuous variables. Above we used the ```seaborn.lmplot()``` function but set the argument that generates a best fit line to ```False```. In this exercise you will have to include the line of best fit. ```lmplot()``` also generates a confidence interval for the line (i.e. where the line could plausibly go if you repeated the experiment). You can keep this in or remove it from the plot depending on taste.\n",
    "\n",
    "Once you have generated the plot you can examine whether the relationship between pre- and post energy intake is a significant one by testing whether the slope of the best fit line is significantly different from zero. The function for this is [```scipy.stats.pearsonr```](http://docs.scipy.org/doc/scipy-0.15.1/reference/generated/scipy.stats.pearsonr.html). All you need to supply as arguments are the two variables you want the Pearson correlation for. The function returns the correlation coefficient and a $p$-value which tests whether the slope of the line is less than or greater than zero. What do the test and the plot tell you about the pre- and post energy intakes?\n",
    "\n",
    "Are the pre and post values different by Mann-Whitney Rank sum test?"
   ]
  }
 ],
 "metadata": {
  "kernelspec": {
   "display_name": "Python 3",
   "language": "python",
   "name": "python3"
  },
  "language_info": {
   "codemirror_mode": {
    "name": "ipython",
    "version": 3
   },
   "file_extension": ".py",
   "mimetype": "text/x-python",
   "name": "python",
   "nbconvert_exporter": "python",
   "pygments_lexer": "ipython3",
   "version": "3.5.1"
  }
 },
 "nbformat": 4,
 "nbformat_minor": 0
}
