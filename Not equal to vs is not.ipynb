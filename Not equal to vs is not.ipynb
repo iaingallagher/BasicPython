{
 "cells": [
  {
   "cell_type": "markdown",
   "metadata": {},
   "source": [
    "## The difference between ```is not``` and ```!=```\n",
    "\n",
    "This seems to be a fairly common misunderstanding.\n",
    "\n",
    "Comparing equality we are asking the question 'do these objects have the same value?' In the code below we define a ```while``` loop with:\n",
    "```\n",
    "while pw != st:\n",
    "```\n",
    "The question here is thus 'does the ```pw``` variable have the same value as the ```st``` variable. If ```pw``` and ```st``` have different values then this comparison evaluates to ```True``` - it is ```True``` that these 2 variables are not equal.\n",
    "\n",
    "We can make the comparison ```False``` by assigning the value ```scooby``` the the ```pw``` label. In other words we now have two locations in memory (one labelled by ```st``` & one labelled by ```pw```) and both contain the value ```scooby```. Now it is ```False``` that these two variables are not equal."
   ]
  },
  {
   "cell_type": "code",
   "execution_count": null,
   "metadata": {
    "collapsed": true
   },
   "outputs": [],
   "source": [
    "st = 'scooby'\n",
    "pw = input('Enter password: ')\n",
    "while pw != st: # asking about the equality of the value in 2 separate variables\n",
    "    print('System secure')\n",
    "    pw = input('Wrong password. Try again.\\n')\n",
    "    \n",
    "print('Success')"
   ]
  },
  {
   "cell_type": "markdown",
   "metadata": {},
   "source": [
    "In the code below we define our conditional for a ```while``` loop with:\n",
    "```\n",
    "while st is not pw:\n",
    "```\n",
    "This is a different question. Here we are asking 'does the st label point to the same 'box' in memory as the pw label?'. That is 'are these the same objects?'.\n",
    "\n",
    "Unless these two labels do point to the same location in memory this comparison will always evaluate to ```True```. The ```st``` and ```pw``` variables are not the same object. \n",
    "\n",
    "Since we define the ```pw``` variable using user input we are creating two different objects and the conditional is always ```True```."
   ]
  },
  {
   "cell_type": "code",
   "execution_count": null,
   "metadata": {
    "collapsed": true
   },
   "outputs": [],
   "source": [
    "st = 'scooby'\n",
    "pw = input('Enter password: ')\n",
    "while st is not pw: # asking whether the two variables are the same object in memory\n",
    "    print('System secure')\n",
    "    pw = input('Wrong password. Try again.\\n')\n",
    "    \n",
    "print('Success')"
   ]
  }
 ],
 "metadata": {
  "anaconda-cloud": {},
  "kernelspec": {
   "display_name": "Python [conda root]",
   "language": "python",
   "name": "conda-root-py"
  },
  "language_info": {
   "codemirror_mode": {
    "name": "ipython",
    "version": 3
   },
   "file_extension": ".py",
   "mimetype": "text/x-python",
   "name": "python",
   "nbconvert_exporter": "python",
   "pygments_lexer": "ipython3",
   "version": "3.5.2"
  }
 },
 "nbformat": 4,
 "nbformat_minor": 1
}
