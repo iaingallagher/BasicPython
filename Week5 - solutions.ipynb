{
 "cells": [
  {
   "cell_type": "markdown",
   "metadata": {},
   "source": [
    "## Putting it together!\n",
    "\n",
    "Write a script that will prompt the user for the file location of the ```elderlyHeightWeight.csv``` file and create a filehandle from the user input. Once you have a handle pointing at the file read the lines into a list, assign the first line to a variable called ```header``` and print this. Then use a loop to print the next five lines so they appear under the header. Make sure there are no extra lines between the lines you print from the file. Save your script as 'elderly_one.py'."
   ]
  },
  {
   "cell_type": "code",
   "execution_count": 1,
   "metadata": {},
   "outputs": [
    {
     "name": "stdout",
     "output_type": "stream",
     "text": [
      "Please enter a filepath: data/elderlyHeightWeight.csv\n",
      "Gender\tAge\tbody wt\tht\n",
      "F\t77\t63.8\t155.5\n",
      "F\t80\t56.4\t160.5\n",
      "F\t76\t55.2\t159.5\n",
      "F\t77\t58.5\t151\n",
      "F\t82\t64\t165.5\n"
     ]
    }
   ],
   "source": [
    "file_loc = input('Please enter a filepath: ') # data/elderlyHeightWeight.csv\n",
    "\n",
    "# create file handle and get column headers, remove trailing \\n\n",
    "f_hand = open(file_loc, 'r')\n",
    "header = f_hand.readline().strip()\n",
    "print(header)\n",
    "\n",
    "# get next 5 lines, removing trailing \\n\n",
    "for i in range(5):\n",
    "    print(f_hand.readline().strip())\n",
    "\n",
    "    \n",
    "f_hand.close() # close file once we're done"
   ]
  },
  {
   "cell_type": "markdown",
   "metadata": {},
   "source": [
    "## Putting it together!\n",
    "\n",
    "Write a script that uses the ```csv``` module to open a file after getting a filepath from the user. Use the script to open the ```elderlyHeightWeight.csv``` file. Write out a new file containing only male data. Remember to close all the files once you're done. In addition include a ```try\\except``` clause to handle the situation where the requested file doesn't exist.\n",
    "\n",
    "Hint: ```csv.reader``` objects contain lists. Recall how you ```.join()``` lists elements into a string."
   ]
  },
  {
   "cell_type": "code",
   "execution_count": 2,
   "metadata": {},
   "outputs": [
    {
     "name": "stdout",
     "output_type": "stream",
     "text": [
      "Please enter a filepath: data/elderlyHeightWeight.csv\n"
     ]
    }
   ],
   "source": [
    "import csv # load library\n",
    "\n",
    "# create file handles for read and write files\n",
    "f_loc = input('Please enter a filepath: ') # data/elderlyHeightWeight.csv\n",
    "f_hand = open(f_loc, 'r')\n",
    "male_data = open('data/male_data.tsv', 'w')\n",
    "try:\n",
    "    reader = csv.reader(f_hand, delimiter='\\t') # define the field delimiter\n",
    "except:\n",
    "    'The file does not exist.'\n",
    "\n",
    "# get the headers & write to new file, join header elements with \\t and append \\n at line end \n",
    "headers = next(reader)\n",
    "male_data.write('\\t'.join(headers)+'\\n')\n",
    "\n",
    "# parse through reader object, if we have a line beginning with 'M' write that line to new file\n",
    "for line in reader:\n",
    "    if line[0] == 'M':\n",
    "        male_data.write('\\t'.join(line)+'\\n') # join line elements with \\t and append \\n at line end\n",
    "\n",
    "# close all files once we're done\n",
    "male_data.close()\n",
    "f_hand.close()"
   ]
  },
  {
   "cell_type": "markdown",
   "metadata": {},
   "source": [
    "The above will write a new file, ```male_data.tsv``` to your ```data``` directory."
   ]
  },
  {
   "cell_type": "markdown",
   "metadata": {},
   "source": [
    "## Putting it together 1\n",
    "\n",
    "Open the ```elderlyHeightWeight.csv``` using the functions in the ```csv``` module and extract each column to a separate list. Use the height and weight data to calculate the BMI for each subject. Use ```zip()``` to create a list of data to write out and write all the phenotype data including BMI back to a new file.\n",
    "\n",
    "Hint - if you use the ```csv.reader()``` remember the issues with the ```str``` type in lists."
   ]
  },
  {
   "cell_type": "code",
   "execution_count": 3,
   "metadata": {},
   "outputs": [],
   "source": [
    "import csv\n",
    "\n",
    "# open required file handles\n",
    "f_hand = open('data/elderlyHeightWeight.csv', 'r')\n",
    "bmi_data = open('data/elderlyBMI.tsv', 'w')\n",
    "\n",
    "# define reader and writer objects\n",
    "writer = csv.writer(bmi_data, delimiter = '\\t') # define the field delimiter\n",
    "reader = csv.reader(f_hand, delimiter = '\\t') \n",
    "\n",
    "header = next(reader) # get header\n",
    "header.append('BMI') # add header for new column, BMI\n",
    "writer.writerow(header) # write header to the new file first\n",
    "\n",
    "sex = [] # lists to hold data\n",
    "age = []\n",
    "weight  = [] \n",
    "height = []\n",
    "\n",
    "# below we cycle through each value in each list in the reader object and grab the value\n",
    "# we have to use different names from the lists we created above\n",
    "\n",
    "for sx, aj, wgt, ht in reader: # can't use same names for two variables!\n",
    "    sex.append(sx)\n",
    "    age.append(aj)\n",
    "    weight.append(wgt)\n",
    "    height.append(ht)\n",
    "\n",
    "bmi = [] # create an empty list for the derived variable\n",
    "\n",
    "# calculate bmi\n",
    "for i in range(len(weight)):\n",
    "    bmi.append(float(weight[i]) / (float(height[i])/100)**2)\n",
    "\n",
    "# create list of lists to hold data\n",
    "data_out = zip(sex, age, weight, height, bmi) # use zip to create list of tuples for writing \n",
    "\n",
    "# iterate over data_out and write each tuple as a row to new file\n",
    "for row in data_out:\n",
    "    writer.writerow(row)\n",
    "    \n",
    "bmi_data.close() # close the files we used\n",
    "f_hand.close()"
   ]
  },
  {
   "cell_type": "markdown",
   "metadata": {},
   "source": [
    "The above will create a new file in your ```data``` directory called ```elderlyBMI.tsv```."
   ]
  },
  {
   "cell_type": "markdown",
   "metadata": {},
   "source": [
    "## Putting it together 2\n",
    "\n",
    "Read the file you just created back in and select only those trial participants who are obese. Print the sex, age and BMI of these people. Obese means a BMI of 30 or more."
   ]
  },
  {
   "cell_type": "code",
   "execution_count": 4,
   "metadata": {},
   "outputs": [
    {
     "name": "stdout",
     "output_type": "stream",
     "text": [
      "Gender Age BMI\n",
      "F 83 30.33\n",
      "M 75 32.95\n",
      "M 78 33.87\n"
     ]
    }
   ],
   "source": [
    "import csv # you don't have to import everytime in same session, here just for completeness\n",
    "\n",
    "f_loc = 'data/elderlyBMI.tsv'\n",
    "f_hand = open(f_loc, 'r')\n",
    "reader = csv.reader(f_hand, delimiter = '\\t')\n",
    "header = next(reader)\n",
    "\n",
    "print(header[0], header[1], header[4]) # print the required headers\n",
    "\n",
    "for ln in reader:\n",
    "    \n",
    "    if float(ln[4]) > 30.0: # conditional to select only obese\n",
    "        print(ln[0], int(ln[1]), \"%.2f\" % float(ln[4])) # print required fields\n",
    "\n",
    "f_hand.close() # close file once we're done"
   ]
  },
  {
   "cell_type": "markdown",
   "metadata": {},
   "source": [
    "## Homework\n",
    "\n",
    "The ```nhanes.tsv``` file in the ```data``` directory contains data on 4581 Americans aged from 20 to 70 from the 2011-2012 [NHANES](http://wwwn.cdc.gov/Nchs/Nhanes/Search/DataPage.aspx?Component=Demographics&CycleBeginYear=2011) survey. The data included is \n",
    "\n",
    "* individual number (unique ID for each individual in NHANES)\n",
    "* age (years) \n",
    "* sex (1 = M, 2 = F)\n",
    "* weight (kg)\n",
    "* height (cm). \n",
    "\n",
    "Write a script that will read this data and write out the number of males and females. How many individuals have a value of 'NA' in the weight and/or height columns?\n",
    "\n",
    "Calculate the BMI for each individual.\n",
    "\n",
    "Finally calculate the mean BMI for males and females and write these out as well (to 2 decimal places).\n",
    "\n",
    "Hint: In this exercise you should use the techniques you have learned to loop over the lines of a file and extract each variable into its' own list. You can then calculate the BMI values easily. However you won't be able to calculate a BMI for individuals with 'NA' in either weight or height columns. How can you use the ```continue``` keyword when you loop over your data to avoid collecting values for these individuals?"
   ]
  },
  {
   "cell_type": "code",
   "execution_count": 5,
   "metadata": {},
   "outputs": [
    {
     "name": "stdout",
     "output_type": "stream",
     "text": [
      "There are 4581 rows of data.\n",
      "There are 2237 males and 2288 females in the dataset.\n",
      "There are 56 NA values for height and weight in the dataset\n"
     ]
    }
   ],
   "source": [
    "import csv\n",
    "\n",
    "# open files for reading & writing\n",
    "f_hand = open('data/nhanes.csv', 'r')\n",
    "out_file = open('data/nhanes_bmi.tsv', 'w')\n",
    "\n",
    "# define reader and writer objects\n",
    "reader = csv.reader(f_hand, delimiter='\\t') # define the field delimiter \n",
    "writer = csv.writer(out_file, delimiter='\\t')\n",
    "\n",
    "# get column headers\n",
    "header =  next(reader) # get column headers\n",
    "header.append('BMI') # add BMI col header\n",
    "\n",
    "writer.writerow(header) # write header to file\n",
    "\n",
    "# lists to hold data\n",
    "counter = 0\n",
    "na_count = 0\n",
    "indiv = []\n",
    "age = []\n",
    "sex = [] \n",
    "weight  = [] \n",
    "height = []\n",
    "\n",
    "# extract column data\n",
    "for ind, aj, sx, wgt, ht in reader: # can't use same names for two variables!\n",
    "    \n",
    "    counter = counter + 1 # every time we process a row increment row counter\n",
    "    \n",
    "    if wgt == 'NA' or ht == 'NA':\n",
    "        na_count = na_count+1\n",
    "        continue # note use of continue to prevent these values being added to data for write out\n",
    "    \n",
    "    indiv.append(ind)\n",
    "    sex.append(sx)\n",
    "    age.append(aj)\n",
    "    weight.append(wgt)\n",
    "    height.append(ht)\n",
    "\n",
    "# count sexes\n",
    "m_count = 0\n",
    "for i in range(len(sex)):\n",
    "    \n",
    "    if int(sex[i]) == 1: # remember list items will be type str here so need to convert\n",
    "        m_count = m_count+1\n",
    "\n",
    "f_count = len(sex)-m_count    \n",
    "\n",
    "print('There are %d rows of data.' % counter)\n",
    "print('There are %d males and %d females in the dataset.' % (m_count, f_count))\n",
    "print('There are %d NA values for height and weight in the dataset' % na_count)\n",
    "\n",
    "f_hand.close() # close read only file"
   ]
  },
  {
   "cell_type": "markdown",
   "metadata": {},
   "source": [
    "Even though we have closed the original read only file the variables we created above are still available to use (if we're in the same session). We use these below to calculate and write out BMI values."
   ]
  },
  {
   "cell_type": "code",
   "execution_count": 6,
   "metadata": {},
   "outputs": [],
   "source": [
    "# calculate BMI\n",
    "bmi = []\n",
    "\n",
    "for i in range(len(weight)):\n",
    "        \n",
    "    bmi.append(float(weight[i]) / (float(height[i])/100)**2) # remember hgt is in cm in orig data\n",
    "    \n",
    "# print(bmi[:5]) # quick look at first few BMI values  \n",
    "\n",
    "# create list of lists to hold data\n",
    "data_out = zip(indiv, age, sex, weight, height, bmi) # use zip to create list of tuples for writing\n",
    "# iterate over data and write to file\n",
    "for row in data_out:\n",
    "    writer.writerow(row)\n",
    "    \n",
    "out_file.close() # close the file we wrote data to \n",
    "\n",
    "# print(data_out[:4]) # sanity check"
   ]
  },
  {
   "cell_type": "markdown",
   "metadata": {},
   "source": [
    "A file called ```nhanes_bmi.tsv``` will be written to your working directory.\n",
    "\n",
    "Again the variables created are still available (as long as we're in the same session)."
   ]
  },
  {
   "cell_type": "code",
   "execution_count": 7,
   "metadata": {},
   "outputs": [
    {
     "name": "stdout",
     "output_type": "stream",
     "text": [
      "The average male BMI is 28.31; the average female BMI is 29.52.\n"
     ]
    }
   ],
   "source": [
    "# calculate mean bmi per sex\n",
    "m_bmi = []\n",
    "f_bmi = []\n",
    "\n",
    "# male & female bmi values\n",
    "for i in range(len(sex)):\n",
    "    if int(sex[i])==1: # convert from str to int for conditional\n",
    "        m_bmi.append(bmi[i])\n",
    "    else:\n",
    "        f_bmi.append(bmi[i])\n",
    "        \n",
    "ave_male = sum(m_bmi)/len(m_bmi)\n",
    "ave_female = sum(f_bmi)/len(f_bmi)\n",
    "\n",
    "print('The average male BMI is %.2f; the average female BMI is %.2f.' % (ave_male, ave_female))"
   ]
  }
 ],
 "metadata": {
  "anaconda-cloud": {},
  "kernelspec": {
   "display_name": "Python 3",
   "language": "python",
   "name": "python3"
  },
  "language_info": {
   "codemirror_mode": {
    "name": "ipython",
    "version": 3
   },
   "file_extension": ".py",
   "mimetype": "text/x-python",
   "name": "python",
   "nbconvert_exporter": "python",
   "pygments_lexer": "ipython3",
   "version": "3.6.6"
  }
 },
 "nbformat": 4,
 "nbformat_minor": 1
}
