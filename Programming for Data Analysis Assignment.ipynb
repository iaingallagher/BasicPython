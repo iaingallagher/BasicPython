{
 "cells": [
  {
   "cell_type": "markdown",
   "metadata": {},
   "source": [
    "# Assignment Guidance\n",
    "\n",
    "Over the last few years the SPSU9C5 module has collected body composition data from third year students. The assignment for this programming course is to analyse and report that data. You will be expected to demonstrate that you can use python to\n",
    "\n",
    "* read the data\n",
    "* carry out visual analysis using plots\n",
    "* present summary statistics\n",
    "* carry out statistical tests on the data\n",
    "* report your analysis\n",
    "\n",
    "Your work should be presented in the form of a jupyter notebook. The code in each cell should be executable and carry out the reported analysis. The notebook should contain the whole analysis from start to finish. In other words I should be able to click through the notebook and exactly reproduce your analysis.\n",
    "\n",
    "The format of the report should be\n",
    "\n",
    "* brief introduction\n",
    "* simple exploratory analysis with explanations/observations\n",
    "* reporting of basic statistics\n",
    "* presentation and reporting of statistical analysis\n",
    "* brief discussion/conclusion\n",
    "\n",
    "This assignment is compulsory and the mark you get will be the mark for the half module. The proforma for this assignment has a word limit if 2000 **but** there is no word limit per se (because your code will probably run to >2000 words). The point is to demonstrate that you can use the techniques you have learned to carry out the task programmatically and in the spirit of reproducible research.\n",
    "\n",
    "You can start the assignment as soon as you feel able. We'll stop the formal teaching in Week 8 and use the last few sessions to assist anyone who has specific problems i.e. give you hints but not solve the problem for you.\n",
    "\n",
    "The data for the assignment is in the data folder in the github repository. \n",
    "\n",
    "* BODY_COMPOSITION_DATA_4_ASSIGNMENT.csv\n",
    "\n",
    "or\n",
    "\n",
    "* BODY_COMPOSITION_DATA_4_ASSIGNMENT.tsv\n",
    "\n",
    "\n",
    "A direct link is [here](https://raw.githubusercontent.com/iaingallagher/BasicPython/master/data/BODY_COMPOSITION_DATA_4_ASSIGNMENT.tsv)\n",
    "\n",
    "The column headers in the file are as follows:\n",
    "\n",
    "* sex - the sex of each subject\n",
    "* girths - percentage body fat calculated from limb/abdomen girths\n",
    "* bia - percentage body fat assessed by body impedence analysis\n",
    "* DW - percentage body fat assessed by the technique of Durnin and Womersley based on skinfolds\n",
    "* jackson - percentage body fat assessed by the Jackson nomogram based on skinfolds\n",
    "* HW - percentage body fat assessed by underwater weighing\n",
    "* skinfolds - sum of 7 skinfold measurements\n",
    "* BMI - body mass index \n",
    "* WHR - waist to hip ratio \n",
    "* Waist - waist circumference (cm)\n",
    "\n",
    "The proforma for the assignment contains weightings for:\n",
    "\n",
    "* Introduction (10%)\n",
    "* Code (50%)\n",
    "* Exploration (15%)\n",
    "* Statistical analysis (15%)\n",
    "* Discussion / Conclusions (10%)\n",
    "\n",
    "These weightings reflect the learning outcomes of the half module. I would like you to leave the module with some knowledge of how to write python code for data analysis, some insight into the importance of exploratory analysis (e.g. finding outliers, dealing with NA values etc), some understanding of the questions you can ask of data, the statistical methods to answer these questions and the ability to communicate your findings."
   ]
  }
 ],
 "metadata": {
  "anaconda-cloud": {},
  "kernelspec": {
   "display_name": "Python 3",
   "language": "python",
   "name": "python3"
  },
  "language_info": {
   "codemirror_mode": {
    "name": "ipython",
    "version": 3
   },
   "file_extension": ".py",
   "mimetype": "text/x-python",
   "name": "python",
   "nbconvert_exporter": "python",
   "pygments_lexer": "ipython3",
   "version": "3.6.0"
  }
 },
 "nbformat": 4,
 "nbformat_minor": 1
}
