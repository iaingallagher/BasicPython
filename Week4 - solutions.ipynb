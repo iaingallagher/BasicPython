{
 "cells": [
  {
   "cell_type": "markdown",
   "metadata": {},
   "source": [
    "# While loops\n",
    "\n",
    "## Putting it together! 1\n",
    "\n",
    "Write a ```while``` loop that will prompt the user for a password. Once they enter the password print something to let them know it was successful. In [pseudocode](http://www.bbc.co.uk/education/guides/z3bq7ty/revision/2) your program might look something like:\n",
    "\n",
    "```\n",
    "stored_password = 'password'\n",
    "pw = get a password\n",
    "while password is not stored_password:\n",
    "    pw = input('Enter password: ')\n",
    "    print \"System secure.\"\n",
    "print 'Welcome'\n",
    "```\n",
    "Hint - you might want to look over the boolean operators again."
   ]
  },
  {
   "cell_type": "code",
   "execution_count": 1,
   "metadata": {
    "collapsed": false
   },
   "outputs": [
    {
     "name": "stdout",
     "output_type": "stream",
     "text": [
      "Please enter your password: grooivicious\n",
      "Wrong password. System secure.\n",
      "Please enter your password: groovilicious\n",
      "Welcome. You have full access to the Mystery Gang database.\n"
     ]
    }
   ],
   "source": [
    "stored_pw = 'groovilicious'\n",
    "pw = input('Please enter your password: ')\n",
    "while pw != stored_pw:\n",
    "    print('Wrong password. System secure.')\n",
    "    pw = input('Please enter your password: ')\n",
    "print('Welcome. You have full access to the Mystery Gang database.')  "
   ]
  },
  {
   "cell_type": "code",
   "execution_count": 2,
   "metadata": {
    "collapsed": false
   },
   "outputs": [
    {
     "name": "stdout",
     "output_type": "stream",
     "text": [
      "Please enter your password: groovilicious\n",
      "Welcome. You have full system access to the Mystery Gang database.\n"
     ]
    }
   ],
   "source": [
    "# alternative\n",
    "stored_pw = 'groovilicious'\n",
    "while True:\n",
    "    pw = input('Please enter your password: ')\n",
    "    \n",
    "    if pw == stored_pw:\n",
    "        break\n",
    "    else:\n",
    "        print('Wrong password. System secure.')\n",
    "        \n",
    "print('Welcome. You have full system access to the Mystery Gang database.')"
   ]
  },
  {
   "cell_type": "markdown",
   "metadata": {},
   "source": [
    "## Putting it together! 2\n",
    "\n",
    "Write a ```while``` loop that asks the user for a DNA sequence and adds that sequence to a list of DNA sequences. Keep on adding the sequences until the list of sequences has 5 sequences in it and then print the list of sequences but with the sequences joined into one string.\n",
    "\n",
    "Hint - you might want to read about the ```.join()``` method again."
   ]
  },
  {
   "cell_type": "code",
   "execution_count": 2,
   "metadata": {
    "collapsed": false
   },
   "outputs": [
    {
     "name": "stdout",
     "output_type": "stream",
     "text": [
      "Enter a sequence: acgtga\n",
      "Enter a sequence: cgctga\n",
      "Enter a sequence: cgcgcgcg\n",
      "Enter a sequence: tgatgctgatg\n",
      "Enter a sequence: cgtg\n",
      "acgtgacgctgacgcgcgcgtgatgctgatgcgtg\n"
     ]
    }
   ],
   "source": [
    "seq_lst = []\n",
    "lst_len = len(seq_lst)\n",
    "while lst_len < 5:\n",
    "    seq = input('Enter a sequence: ')\n",
    "    seq_lst.append(seq)\n",
    "    lst_len = len(seq_lst)\n",
    "print(''.join(seq_lst))"
   ]
  },
  {
   "cell_type": "markdown",
   "metadata": {},
   "source": [
    "Modify the ```while``` loop you wrote above to ```break``` if the user enters ```finished``` instead of a DNA sequence. Make sure that ```finished``` does not get added to the list of DNA sequences."
   ]
  },
  {
   "cell_type": "code",
   "execution_count": 1,
   "metadata": {
    "collapsed": false
   },
   "outputs": [
    {
     "name": "stdout",
     "output_type": "stream",
     "text": [
      "Enter a sequence: atcgta\n",
      "Enter a sequence: cgtcgat\n",
      "Enter a sequence: cgtcgatgctagc\n",
      "Enter a sequence: finished\n",
      "atcgtacgtcgatcgtcgatgctagc\n"
     ]
    }
   ],
   "source": [
    "seq_lst = []\n",
    "lst_len = len(seq_lst)\n",
    "while True:\n",
    "    seq = input('Enter a sequence: ')\n",
    "    if seq == 'finished':\n",
    "        break\n",
    "    seq_lst.append(seq)\n",
    "    lst_len = len(seq_lst)\n",
    "print(''.join(seq_lst))"
   ]
  },
  {
   "cell_type": "markdown",
   "metadata": {},
   "source": [
    "# For loops\n",
    "\n",
    "## Putting it together! 1\n",
    "\n",
    "Given a list of numbers [10,20,30,40,50] use a ```for``` loop with a boolean comparison in the loop to find the largest value in the list. Print the largest value in an informative sentence using string formatting. \n",
    "\n",
    "Hint: you'll need to set up a variable to hold the largest value before you enter the loop."
   ]
  },
  {
   "cell_type": "code",
   "execution_count": 5,
   "metadata": {
    "collapsed": false
   },
   "outputs": [
    {
     "name": "stdout",
     "output_type": "stream",
     "text": [
      "The largest values is 50.\n"
     ]
    }
   ],
   "source": [
    "lst = [10,20,30,40,50]\n",
    "biggest = 0\n",
    "for val in lst:\n",
    "    if val > biggest:\n",
    "        biggest = val\n",
    "\n",
    "print('The largest values is %d.' % biggest)"
   ]
  },
  {
   "cell_type": "markdown",
   "metadata": {},
   "source": [
    "Add code to the script you just wrote to find the smallest value and print that as well."
   ]
  },
  {
   "cell_type": "code",
   "execution_count": 6,
   "metadata": {
    "collapsed": false
   },
   "outputs": [
    {
     "name": "stdout",
     "output_type": "stream",
     "text": [
      "The largest values is 50. The smallest value is 10\n"
     ]
    }
   ],
   "source": [
    "lst = [10,20,30,40,50]\n",
    "biggest = 0\n",
    "smallest = max(lst)\n",
    "\n",
    "for val in lst:\n",
    "    if val > biggest:\n",
    "        biggest = val\n",
    "    if val < smallest:\n",
    "        smallest = val\n",
    "\n",
    "print('The largest values is %d. The smallest value is %d' % (biggest, smallest))"
   ]
  },
  {
   "cell_type": "markdown",
   "metadata": {},
   "source": [
    "## Putting it together! 2\n",
    "\n",
    "The following is a list of scam email addresses from [here](http://pleasestopthespam.weebly.com/hall-of-shame.html). Write a script that will use a list comprehension to find the scam email addresses that come from the yahoo.com domain. Calculate the percentage of yahoo domain addresses. \n",
    "\n",
    "Hint - remember you'll be dealing with ```int``` for list lengths but you'll want ```float``` for calculating percentages.\n",
    "\n",
    "'riojasm66@yahoo.com', 'hdclive@live.com', 'terauau@gmail.com', 'jabu_moleketi@yahoo.com', 'soeungkheng34@yahoo.com', 'desk433@yahoo.com', 'caf432@ig.com.br', 'samanthakipkalya24@yahoo.in', 'cpt.jane@yahoo.com.ph', 'edwardbuma02@hotmail.com'\n",
    "\n",
    "Note that the \\ in list of emails in the code below allows breaking of long code sections over more than one line in the ipython notebook/jupyter notebook. This isn't necessary for your answer, it just makes things easier to read."
   ]
  },
  {
   "cell_type": "code",
   "execution_count": 4,
   "metadata": {
    "collapsed": false
   },
   "outputs": [
    {
     "name": "stdout",
     "output_type": "stream",
     "text": [
      "50.00% of the emails are from Yahoo.com addresses.\n"
     ]
    }
   ],
   "source": [
    "scam_addrs = ['riojasm66@yahoo.com', 'hdclive@live.com', 'terauau@gmail.com', 'jabu_moleketi@yahoo.com', \\\n",
    "              'soeungkheng34@yahoo.com', 'desk433@yahoo.com', 'caf432@ig.com.br', 'samanthakipkalya24@yahoo.in', \\\n",
    "              'cpt.jane@yahoo.com.ph', 'edwardbuma02@hotmail.com']\n",
    "\n",
    "yahoo = [addr for addr in scam_addrs if 'yahoo.com' in addr] # put addr in yahoo list if addr contains 'yahoo'\n",
    "\n",
    "perc_yahoo = (float(len(yahoo))/len(scam_addrs))*100\n",
    "\n",
    "print('%.2f%% of the emails are from Yahoo.com addresses.' % perc_yahoo)"
   ]
  },
  {
   "cell_type": "markdown",
   "metadata": {},
   "source": [
    "## Homework\n",
    "\n",
    "Write a program which repeatedly reads numbers until the user enters “done”. Once “done” is entered, print out the total, count, and average of the numbers. If the user enters anything other than a number, detect their mistake using ```try-except``` and skip to the next request for a number. \n",
    "\n",
    "Hint: You'll have to be careful about the placement of ```break``` and ```continue``` statements here. Remember that ```break``` stops the loop and goes to the main programme body again whilst ```continue``` jumps back to the start of the loop."
   ]
  },
  {
   "cell_type": "code",
   "execution_count": 8,
   "metadata": {
    "collapsed": false
   },
   "outputs": [
    {
     "name": "stdout",
     "output_type": "stream",
     "text": [
      "Please enter a number: 3\n",
      "Please enter a number: 4\n",
      "Please enter a number: 6\n",
      "Please enter a number: 2\n",
      "Please enter a number: 3\n",
      "Please enter a number: 7\n",
      "Please enter a number: 8\n",
      "Please enter a number: 1\n",
      "Please enter a number: done\n",
      "There are 8 numbers adding up to 34.0 with an average of 4.25.\n"
     ]
    }
   ],
   "source": [
    "lst = []\n",
    "while True:\n",
    "    num = input('Please enter a number: ')\n",
    "\n",
    "    if num == 'done':\n",
    "        break # break out of 'while True' loop to do list arithmetic\n",
    "\n",
    "    try: # catch the screw ups\n",
    "        num = float(num)\n",
    "    except:\n",
    "        print(\"You didn't enter a number.\")\n",
    "        continue\n",
    "\n",
    "    lst.append(num) # add number to our list of numbers\n",
    "\n",
    "tot = 0\n",
    "ct = 0\n",
    "\n",
    "for i in lst:\n",
    "    tot = tot+i\n",
    "    ct = ct+1\n",
    "\n",
    "ave = tot/ct\n",
    "\n",
    "print('There are %d numbers adding up to %.1f with an average of %.2f.' % (ct, tot, ave))"
   ]
  }
 ],
 "metadata": {
  "anaconda-cloud": {},
  "kernelspec": {
   "display_name": "Python [default]",
   "language": "python",
   "name": "python3"
  },
  "language_info": {
   "codemirror_mode": {
    "name": "ipython",
    "version": 3
   },
   "file_extension": ".py",
   "mimetype": "text/x-python",
   "name": "python",
   "nbconvert_exporter": "python",
   "pygments_lexer": "ipython3",
   "version": "3.5.2"
  }
 },
 "nbformat": 4,
 "nbformat_minor": 0
}
