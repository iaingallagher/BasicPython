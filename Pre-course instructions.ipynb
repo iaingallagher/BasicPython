{
 "cells": [
  {
   "cell_type": "markdown",
   "metadata": {},
   "source": [
    "# Pre-course instructions\n",
    "\n",
    "In this short course on programming for data analysis we’ll be using the Python programming language. All programming languages come as the basic language and a bunch of modules/libraries that extend the language and make it easier to use (easier is a relative term here - but python is pretty easy). \n",
    "\n",
    "The easiest way to get python up and running on your system is to install a ‘pre-packaged’ version that comes with bells and whistles. We’ll use the Anaconda Python distribution.\n",
    "\n",
    "Follow this link to the download page:\n",
    "\n",
    "http://continuum.io/downloads\n",
    "\n",
    "You should be offered the appropriate package for your system (mac or pc - if you’re using  linux I assume you mostly know what you’re doing and you’ll have python already on your system anyway). \n",
    "\n",
    "Select the graphical installer for Python 2.7 (not Python 3.4). \n",
    "\n",
    "Download and follow the prompts to install.\n",
    "\n",
    "After you’ve installed you should have an icon somewhere for the Launcher. Launch this and install any updates required using the 'Update' buttons.\n",
    "\n",
    "Finally launch the 'ipython-notebook'. This should open your web browser and display a page where you can enter notes and code. You'll learn more about how to use this during the course. In the first empty empty cell type:\n",
    "\n",
    "```\n",
    "print “Success”\n",
    "```\n",
    "\n",
    "Press the play button at the top of the notebook and you should see the word “Success” printed. If so, good… you have passed phase 1 and you can close the notebook and the terminal (if it’s open)! If not we’ll hopefully deal with that when the course starts.\n",
    "\n",
    "The other piece of software you need to install is the atom text editor. You can find this at:\n",
    "\n",
    "https://atom.io/\n",
    "\n",
    "Download the required package and install. Easy peasy.\n",
    "\n",
    "Finally it will help to set up a folder/directory for the course. So somewhere on your hard drive create a folder. We’ll use that to store the data we’ll deal with during the course.\n"
   ]
  }
 ],
 "metadata": {
  "kernelspec": {
   "display_name": "Python 2",
   "language": "python",
   "name": "python2"
  },
  "language_info": {
   "codemirror_mode": {
    "name": "ipython",
    "version": 2
   },
   "file_extension": ".py",
   "mimetype": "text/x-python",
   "name": "python",
   "nbconvert_exporter": "python",
   "pygments_lexer": "ipython2",
   "version": "2.7.10"
  }
 },
 "nbformat": 4,
 "nbformat_minor": 0
}
