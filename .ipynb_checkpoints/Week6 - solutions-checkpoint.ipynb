{
 "cells": [
  {
   "cell_type": "markdown",
   "metadata": {},
   "source": [
    "## Putting it together 1\n",
    "\n",
    "Write a function that will compute the square root of the sum of two numbers. \n",
    "\n",
    "Hint: The square root of a number is the same as the number raised to 0.5. Use the values 20 and 5 as input and you should get the value 5 back out."
   ]
  },
  {
   "cell_type": "code",
   "execution_count": 1,
   "metadata": {
    "collapsed": false
   },
   "outputs": [
    {
     "data": {
      "text/plain": [
       "5.0"
      ]
     },
     "execution_count": 1,
     "metadata": {},
     "output_type": "execute_result"
    }
   ],
   "source": [
    "# function definition, two arguments\n",
    "def sqrt_sum(a,b):\n",
    "    return (a+b)**0.5\n",
    "\n",
    "sqrt_sum(20,5) # call the function"
   ]
  },
  {
   "cell_type": "markdown",
   "metadata": {},
   "source": [
    "## Putting it together 2\n",
    "\n",
    "Write a function that can find the longest side of a right angled triangle. Test it with the values 3 and 4 for the other two sides. You should get 5 back out again. For those for whom it's been a while - Pythagoras theorem: $a^2 = b^2 + c^2$."
   ]
  },
  {
   "cell_type": "code",
   "execution_count": 2,
   "metadata": {
    "collapsed": false
   },
   "outputs": [
    {
     "data": {
      "text/plain": [
       "5.0"
      ]
     },
     "execution_count": 2,
     "metadata": {},
     "output_type": "execute_result"
    }
   ],
   "source": [
    "# function definition, two arguments\n",
    "\n",
    "def hypot(a,b):\n",
    "    hyp = (a**2 + b**2)**0.5\n",
    "    \n",
    "    return hyp\n",
    "\n",
    "hypot(3,4) # call the function"
   ]
  },
  {
   "cell_type": "markdown",
   "metadata": {},
   "source": [
    "## Homework\n",
    "\n",
    "Write a script containing a function to compute an average. \n",
    "\n",
    "Using ```raw_input()``` get the ```data/marathon.csv``` file from the user. Use the ```try/except``` construct to gracefully exit if the file doesn't exist. \n",
    "\n",
    "Once the file is acquired print the column headers and ask the user which one they would like the average of. Use a function to compute the average of that column (python already uses ```mean``` as a function name so don't use that name for your function). If the selected column is not numeric use ```try\\except``` to gracefully exit."
   ]
  },
  {
   "cell_type": "code",
   "execution_count": 5,
   "metadata": {
    "collapsed": false
   },
   "outputs": [
    {
     "name": "stdout",
     "output_type": "stream",
     "text": [
      "Please enter a file path: data/marathon.csv\n",
      "The column names are Year, Gender, Time.\n",
      "Which column would you like to calculate the average of?Time\n",
      "The average Time is 2.39.\n"
     ]
    }
   ],
   "source": [
    "# imports are always at the top of python scripts\n",
    "import csv\n",
    "\n",
    "# function definition, list as argument\n",
    "def average(lst):\n",
    "    l = len(lst) # how many elements\n",
    "    s = sum(lst) # sum of the elements\n",
    "    mn = s/l\n",
    "    return mn # hand back a value\n",
    "\n",
    "f_loc = raw_input('Please enter a file path: ')\n",
    "\n",
    "try:\n",
    "    f_hand = open(f_loc, 'r')\n",
    "except:\n",
    "    print 'That file does not exist.'\n",
    "\n",
    "# get the headers    \n",
    "header = f_hand.readline().strip().split(',')\n",
    "col_string = ', '.join(header) # .join method again to create string from list\n",
    "\n",
    "print 'The column names are %s.' % col_string\n",
    "# ask user what they want to apply our function to\n",
    "mn_col = raw_input('Which column would you like to calculate the average of?')\n",
    "# catch screw-ups\n",
    "try:\n",
    "\n",
    "    if mn_col in col_string:\n",
    "        ind = header.index(mn_col) # index for column we want\n",
    "        \n",
    "except:\n",
    "    print 'Cannot find the required column.'\n",
    "\n",
    "# initialse empty list and fill it with values from required column    \n",
    "mn_data = []\n",
    " \n",
    "for line in f_hand:\n",
    "    try:\n",
    "        data_point = float(line.strip().split(',')[ind])\n",
    "    except:\n",
    "        'Cannot convert data points to floats.'\n",
    "        \n",
    "    mn_data.append(data_point)\n",
    "    \n",
    "ave = average(mn_data) # apply our function\n",
    "    \n",
    "print 'The average %s is %.2f.' % (mn_col, ave)\n"
   ]
  },
  {
   "cell_type": "markdown",
   "metadata": {},
   "source": [
    "## Putting it together 1\n",
    "Using the table below create a python dictionary object with the column headers as keys and the contents as values. You've already seen this technique above. Use this dictionary to create a ```pandas DataFrame``` variable called ```old_samp```.\n",
    "\n",
    "| Gender | Age | body wt | ht    |\n",
    "|--------|-----|---------|-------|\n",
    "| F      | 77  | 63.8    | 155.5 |\n",
    "| F      | 80  | 56.4    | 160.5 |\n",
    "| M      | 79  | 75.5    | 171   |\n",
    "| M      | 75  | 83.9    | 178.5 |\n",
    "\n",
    "Use the ```pandas describe()``` method on this ```DataFrame```. What is the output from ```describe()``` telling you? Which column from the original data is missing from this output and why? Use the techniques for filtering data described above to get only the male data, only the female data. "
   ]
  },
  {
   "cell_type": "code",
   "execution_count": 7,
   "metadata": {
    "collapsed": false
   },
   "outputs": [
    {
     "name": "stdout",
     "output_type": "stream",
     "text": [
      "Male data \n",
      "\n",
      "   age     ht sex   wgt\n",
      "2   79  171.0   M  75.5\n",
      "3   75  178.5   M  83.9\n",
      "\n",
      "Female data \n",
      "\n",
      "   age     ht sex   wgt\n",
      "0   77  155.5   F  63.8\n",
      "1   80  160.5   F  56.4\n",
      "\n",
      "             age          ht        wgt\n",
      "count   4.000000    4.000000   4.000000\n",
      "mean   77.750000  166.375000  69.900000\n",
      "std     2.217356   10.347101  12.204098\n",
      "min    75.000000  155.500000  56.400000\n",
      "25%    76.500000  159.250000  61.950000\n",
      "50%    78.000000  165.750000  69.650000\n",
      "75%    79.250000  172.875000  77.600000\n",
      "max    80.000000  178.500000  83.900000\n"
     ]
    }
   ],
   "source": [
    "import pandas as pd\n",
    "# create dict\n",
    "dct = {'sex':['F', 'F', 'M', 'M'], 'age':[77,80,79,75], 'wgt':[63.8,56.4,75.5,83.9], \\\n",
    "       'ht':[155.5,160.5,171,178.5]}\n",
    "\n",
    "# create pandas DataFrame\n",
    "old_samp = pd.DataFrame(dct)\n",
    "\n",
    "# filtering\n",
    "print 'Male data \\n'\n",
    "print old_samp[old_samp['sex']=='M']\n",
    "\n",
    "print # blank line\n",
    "\n",
    "print 'Female data \\n'\n",
    "print old_samp[old_samp['sex']=='F']\n",
    "print\n",
    "\n",
    "print old_samp.describe()\n",
    "# output summarises all the numerical data, that's why sex is missing\n",
    "# sex is categorical data and has no meaningful mean, etc"
   ]
  },
  {
   "cell_type": "markdown",
   "metadata": {},
   "source": [
    "## Putting it together 2\n",
    "\n",
    "Using ```pandas``` read in the ```elderlyHeightWeight.csv``` file from the data directory and calculate an overall mean and sex specific means for height and weight."
   ]
  },
  {
   "cell_type": "code",
   "execution_count": 11,
   "metadata": {
    "collapsed": false
   },
   "outputs": [
    {
     "name": "stdout",
     "output_type": "stream",
     "text": [
      "  Gender  Age  body wt     ht\n",
      "0      F   77     63.8  155.5\n",
      "1      F   80     56.4  160.5\n",
      "2      F   76     55.2  159.5\n",
      "3      F   77     58.5  151.0\n",
      "4      F   82     64.0  165.5\n",
      "\n",
      "The mean height is 165.75cm; the mean weight is 69.12kg\n"
     ]
    }
   ],
   "source": [
    "import pandas as pd\n",
    "# point pandas at out file\n",
    "data_in = pd.read_csv('data/elderlyHeightWeight.csv', sep='\\t')\n",
    "print data_in.head() # quick look\n",
    "print\n",
    "\n",
    "mn_height = data_in['ht'].mean()\n",
    "mn_weight = data_in['body wt'].mean()\n",
    "print 'The mean height is %.2fcm; the mean weight is %.2fkg' % (mn_height, mn_weight)"
   ]
  },
  {
   "cell_type": "code",
   "execution_count": 9,
   "metadata": {
    "collapsed": false
   },
   "outputs": [
    {
     "name": "stdout",
     "output_type": "stream",
     "text": [
      "The mean height for females is 158.25cm; the mean height for males is 171.75cm\n",
      "The mean weight for females is 59.39kg; the mean weight for males is 76.91kg\n"
     ]
    }
   ],
   "source": [
    "# easy split-combine-apply with groupby method\n",
    "grouped_ht = data_in.groupby('Gender')['ht'].mean()\n",
    "grouped_wt = data_in.groupby('Gender')['body wt'].mean()\n",
    "\n",
    "print 'The mean height for females is %.2fcm; the mean height for males is %.2fcm' % \\\n",
    "(grouped_ht[0], grouped_ht[1]) # get values by subsetting\n",
    "print 'The mean weight for females is %.2fkg; the mean weight for males is %.2fkg' % \\\n",
    "(grouped_wt[0], grouped_wt[1])"
   ]
  },
  {
   "cell_type": "markdown",
   "metadata": {},
   "source": [
    "## Homework\n",
    "\n",
    "The run10.txt file in the data directory contains *tab separated* results from the Cherry Blossom 10 mile run in Washington DC from 2012 (see [OpenIntro book](https://www.openintro.org/download.php?file=os3&referrer=/stat/textbook.php), section 4.1.3). Read this data into a ```pandas``` DataFrame using the read_csv function. How many data points (rows) are there? \n",
    "\n",
    "The data include:\n",
    "\n",
    "* Finishing Position\n",
    "* Time\n",
    "* Age\n",
    "* Gender\n",
    "* State of Origin\n",
    "\n",
    "What was the average time for the race? What was the median time for each sex? What was the time for the fastest and slowest runners? Which state was represented by the most runners?\n",
    "\n",
    "Hint: For the last question you might consider extracting the state data and using the [```value_counts```](http://pandas.pydata.org/pandas-docs/stable/generated/pandas.Series.value_counts.html) and [```idxmax```](http://pandas.pydata.org/pandas-docs/stable/generated/pandas.Series.idxmax.html?highlight=idxmax#pandas.Series.idxmax) functions."
   ]
  },
  {
   "cell_type": "code",
   "execution_count": 16,
   "metadata": {
    "collapsed": false
   },
   "outputs": [
    {
     "name": "stdout",
     "output_type": "stream",
     "text": [
      "   place    time    pace  age gender state\n",
      "0   4494   92.25   9.225   38      M    MD\n",
      "1   6298  106.35  10.635   33      M    DC\n",
      "2   2502   89.33   8.933   55      F    VA\n",
      "3   8176  113.50  11.350   24      F    VA\n",
      "4   3413   86.52   8.652   54      M    CA\n",
      "\n",
      "There are 16924 rows in the data.\n",
      "The average time was 94.52.\n",
      "The median times by sex were:\n",
      "gender\n",
      "F    98.03\n",
      "M    87.47\n",
      "Name: time, dtype: float64\n"
     ]
    }
   ],
   "source": [
    "import pandas as pd\n",
    "\n",
    "run_data = pd.read_csv('data/run10.txt', sep='\\t')\n",
    "print run_data.head()\n",
    "print\n",
    "print 'There are %d rows in the data.' % len(run_data) # how many rows\n",
    "ave_time = run_data['time'].mean()\n",
    "print 'The average time was %.2f.' % ave_time\n",
    "print 'The median times by sex were:'\n",
    "print run_data.groupby('gender')['time'].median()"
   ]
  },
  {
   "cell_type": "code",
   "execution_count": 4,
   "metadata": {
    "collapsed": false
   },
   "outputs": [
    {
     "name": "stdout",
     "output_type": "stream",
     "text": [
      "i_a_i_n\n"
     ]
    }
   ],
   "source": [
    "lst = ['i', 'a', 'i', 'n']\n",
    "string = '_'.join(lst)\n",
    "print string\n",
    "#print string.index('a')"
   ]
  },
  {
   "cell_type": "code",
   "execution_count": 17,
   "metadata": {
    "collapsed": false
   },
   "outputs": [
    {
     "name": "stdout",
     "output_type": "stream",
     "text": [
      "7749    45.25\n",
      "Name: time, dtype: float64\n",
      "997    170.97\n",
      "Name: time, dtype: float64\n",
      "VA\n"
     ]
    }
   ],
   "source": [
    "# which row contains the minimum time i.e. which person was fastest\n",
    "print run_data['time'][run_data['time']==min(run_data['time'])] # fastest = 45 mins\n",
    "# which row contains the maximum time i.e. which person was slowest\n",
    "print run_data['time'][run_data['time']==max(run_data['time'])] # slowest = 171 mins\n",
    "\n",
    "# last bit is trickier\n",
    "# count the 'state' values using value_counts(), this returns a long pandas Series (see below), the index is\n",
    "# the two letter abbr for state and the new value is the count\n",
    "# then, chaining methods I ask for the index (i.e. two letter abbr) which references \n",
    "# the maximum value\n",
    "# so complex(ish) but soooooo neat! :)\n",
    "print run_data['state'].value_counts().idxmax()"
   ]
  },
  {
   "cell_type": "code",
   "execution_count": 19,
   "metadata": {
    "collapsed": false
   },
   "outputs": [
    {
     "name": "stdout",
     "output_type": "stream",
     "text": [
      "VA    5821\n",
      "DC    3986\n",
      "MD    3881\n",
      "PA     751\n",
      "NY     716\n",
      "Name: state, dtype: int64\n"
     ]
    }
   ],
   "source": [
    "# just illustrating the nature of the Series from value_counts()\n",
    "print run_data['state'].value_counts().head()"
   ]
  }
 ],
 "metadata": {
  "kernelspec": {
   "display_name": "Python 2",
   "language": "python",
   "name": "python2"
  },
  "language_info": {
   "codemirror_mode": {
    "name": "ipython",
    "version": 2
   },
   "file_extension": ".py",
   "mimetype": "text/x-python",
   "name": "python",
   "nbconvert_exporter": "python",
   "pygments_lexer": "ipython2",
   "version": "2.7.10"
  }
 },
 "nbformat": 4,
 "nbformat_minor": 0
}
