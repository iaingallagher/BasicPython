{
 "metadata": {
  "name": ""
 },
 "nbformat": 3,
 "nbformat_minor": 0,
 "worksheets": [
  {
   "cells": [
    {
     "cell_type": "markdown",
     "metadata": {},
     "source": [
      "You should already have python and the sublime text editor installed. If you haven't done this already then see the relevant podcast lecture. "
     ]
    },
    {
     "cell_type": "markdown",
     "metadata": {},
     "source": [
      "# Interactive mode"
     ]
    },
    {
     "cell_type": "markdown",
     "metadata": {},
     "source": [
      "In this short example we'll show you some very basic moves with python. In the grand tradition of basic programming tutorials everywhere we'll start with a ```Hello World!``` programme. \n",
      "\n",
      "* Windows - start the Command prompt (Accessories -> Command prompt) and type ```python```. Then type the text below pressing enter after each line.\n",
      "\n",
      "* OSX - start the terminal (Applications -> Utilities -> Terminal) and type ```python```. Then type the text below pressing enter after each line.\n",
      "\n",
      "* Linux - start your terminal of choice and type ```python```. Then type the text below pressing enter after each line."
     ]
    },
    {
     "cell_type": "code",
     "collapsed": false,
     "input": [
      "print \"Hello World!\"\n",
      "3 + 5\n",
      "x = 3\n",
      "y = 5\n",
      "z = x+y\n",
      "print z\n",
      "phrase = 'Lots of python.\"\n",
      "print phrase * z"
     ],
     "language": "python",
     "metadata": {},
     "outputs": []
    },
    {
     "cell_type": "markdown",
     "metadata": {},
     "source": [
      "Running python at the command line (as you did above) is termed 'interactive mode'. You type some instructions and python executes them immediately and (often) returns some value to you. In the examples above you typed some text, carried out some basic arithmetic and finally (last two) assigned values to variables and then manipulated those variables. Running python in interactive mode like this is fine for experimenting but often you want to capture your python commands so you can re-use them. In other words you want to write a program."
     ]
    },
    {
     "cell_type": "markdown",
     "metadata": {},
     "source": [
      "# Writing a program"
     ]
    },
    {
     "cell_type": "markdown",
     "metadata": {},
     "source": [
      "To write a program you have to capture the instructions you want to issue in a text file. Open the ```sublime``` text editor and type the following. "
     ]
    },
    {
     "cell_type": "code",
     "collapsed": false,
     "input": [
      "#!/usr/bin/env python\n",
      "\n",
      "print \"Hello from python!\"\n",
      "print \"Now we're running from a file of commands.\"\n",
      "print \"A proper programme!\"\n",
      "\n",
      "a = 54\n",
      "b = 2\n",
      "c = a**b\n",
      "\n",
      "print \"54 squared is %d which is rather large.\" % c"
     ],
     "language": "python",
     "metadata": {},
     "outputs": []
    },
    {
     "cell_type": "markdown",
     "metadata": {},
     "source": [
      "Save this file as ```example1.py``` in the ```examples->week1``` folder of your ```pymodule``` folder. Now open the Command prompt (Win) or Terminal (OSX) and change directory so you are in the ```pymodule->examples->week1``` folder. Finally type the text below at the commandline prompt:"
     ]
    },
    {
     "cell_type": "code",
     "collapsed": false,
     "input": [
      "python example1.py"
     ],
     "language": "python",
     "metadata": {},
     "outputs": []
    },
    {
     "cell_type": "markdown",
     "metadata": {},
     "source": [
      "You should see the text below."
     ]
    },
    {
     "cell_type": "code",
     "collapsed": false,
     "input": [
      "print \"Hello from python!\"\n",
      "print \"Now we're running from a file of commands.\"\n",
      "print \"A proper programme!\"\n",
      "\n",
      "a = 54\n",
      "b = 2\n",
      "c = a**b\n",
      "\n",
      "print \"54 squared is %d which is rather large.\" % c"
     ],
     "language": "python",
     "metadata": {},
     "outputs": [
      {
       "output_type": "stream",
       "stream": "stdout",
       "text": [
        "Hello from python!\n",
        "Now we're running from a file of commands.\n",
        "A proper programme!\n",
        "54 squared is 2916 which is rather large.\n"
       ]
      }
     ],
     "prompt_number": 1
    },
    {
     "cell_type": "markdown",
     "metadata": {},
     "source": [
      "In this example you have recorded the python commands you want to run in a script and then told python to read that script and run those commands. This is very useful if you have to run the same commands over and over again o different files that you get at different times. We'll see an example of this later in the module when we use python to process some datafiles from quantitative polymerase chain reaction (qPCR) experiments."
     ]
    }
   ],
   "metadata": {}
  }
 ]
}