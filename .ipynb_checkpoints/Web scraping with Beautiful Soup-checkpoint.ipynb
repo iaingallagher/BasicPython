{
 "cells": [
  {
   "cell_type": "code",
   "execution_count": 43,
   "metadata": {
    "collapsed": false
   },
   "outputs": [
    {
     "ename": "URLError",
     "evalue": "<urlopen error [Errno 8] nodename nor servname provided, or not known>",
     "output_type": "error",
     "traceback": [
      "\u001b[0;31m---------------------------------------------------------------------------\u001b[0m",
      "\u001b[0;31mURLError\u001b[0m                                  Traceback (most recent call last)",
      "\u001b[0;32m<ipython-input-43-91f49af7bec7>\u001b[0m in \u001b[0;36m<module>\u001b[0;34m()\u001b[0m\n\u001b[1;32m     10\u001b[0m \u001b[0;31m# URL pasted in\u001b[0m\u001b[0;34m\u001b[0m\u001b[0;34m\u001b[0m\u001b[0m\n\u001b[1;32m     11\u001b[0m \u001b[0mrequest_object\u001b[0m \u001b[0;34m=\u001b[0m \u001b[0mRequest\u001b[0m\u001b[0;34m(\u001b[0m\u001b[0;34m'http://www.soccerstats.com/latest.asp?league=scotland'\u001b[0m\u001b[0;34m)\u001b[0m\u001b[0;34m\u001b[0m\u001b[0m\n\u001b[0;32m---> 12\u001b[0;31m \u001b[0mpage\u001b[0m \u001b[0;34m=\u001b[0m \u001b[0murlopen\u001b[0m\u001b[0;34m(\u001b[0m\u001b[0mrequest_object\u001b[0m\u001b[0;34m)\u001b[0m\u001b[0;34m\u001b[0m\u001b[0m\n\u001b[0m\u001b[1;32m     13\u001b[0m \u001b[0msoup\u001b[0m \u001b[0;34m=\u001b[0m \u001b[0mBeautifulSoup\u001b[0m\u001b[0;34m(\u001b[0m\u001b[0mpage\u001b[0m\u001b[0;34m)\u001b[0m\u001b[0;34m\u001b[0m\u001b[0m\n\u001b[1;32m     14\u001b[0m \u001b[0;34m\u001b[0m\u001b[0m\n",
      "\u001b[0;32m/Applications/anaconda/lib/python2.7/urllib2.pyc\u001b[0m in \u001b[0;36murlopen\u001b[0;34m(url, data, timeout, cafile, capath, cadefault, context)\u001b[0m\n\u001b[1;32m    152\u001b[0m     \u001b[0;32melse\u001b[0m\u001b[0;34m:\u001b[0m\u001b[0;34m\u001b[0m\u001b[0m\n\u001b[1;32m    153\u001b[0m         \u001b[0mopener\u001b[0m \u001b[0;34m=\u001b[0m \u001b[0m_opener\u001b[0m\u001b[0;34m\u001b[0m\u001b[0m\n\u001b[0;32m--> 154\u001b[0;31m     \u001b[0;32mreturn\u001b[0m \u001b[0mopener\u001b[0m\u001b[0;34m.\u001b[0m\u001b[0mopen\u001b[0m\u001b[0;34m(\u001b[0m\u001b[0murl\u001b[0m\u001b[0;34m,\u001b[0m \u001b[0mdata\u001b[0m\u001b[0;34m,\u001b[0m \u001b[0mtimeout\u001b[0m\u001b[0;34m)\u001b[0m\u001b[0;34m\u001b[0m\u001b[0m\n\u001b[0m\u001b[1;32m    155\u001b[0m \u001b[0;34m\u001b[0m\u001b[0m\n\u001b[1;32m    156\u001b[0m \u001b[0;32mdef\u001b[0m \u001b[0minstall_opener\u001b[0m\u001b[0;34m(\u001b[0m\u001b[0mopener\u001b[0m\u001b[0;34m)\u001b[0m\u001b[0;34m:\u001b[0m\u001b[0;34m\u001b[0m\u001b[0m\n",
      "\u001b[0;32m/Applications/anaconda/lib/python2.7/urllib2.pyc\u001b[0m in \u001b[0;36mopen\u001b[0;34m(self, fullurl, data, timeout)\u001b[0m\n\u001b[1;32m    429\u001b[0m             \u001b[0mreq\u001b[0m \u001b[0;34m=\u001b[0m \u001b[0mmeth\u001b[0m\u001b[0;34m(\u001b[0m\u001b[0mreq\u001b[0m\u001b[0;34m)\u001b[0m\u001b[0;34m\u001b[0m\u001b[0m\n\u001b[1;32m    430\u001b[0m \u001b[0;34m\u001b[0m\u001b[0m\n\u001b[0;32m--> 431\u001b[0;31m         \u001b[0mresponse\u001b[0m \u001b[0;34m=\u001b[0m \u001b[0mself\u001b[0m\u001b[0;34m.\u001b[0m\u001b[0m_open\u001b[0m\u001b[0;34m(\u001b[0m\u001b[0mreq\u001b[0m\u001b[0;34m,\u001b[0m \u001b[0mdata\u001b[0m\u001b[0;34m)\u001b[0m\u001b[0;34m\u001b[0m\u001b[0m\n\u001b[0m\u001b[1;32m    432\u001b[0m \u001b[0;34m\u001b[0m\u001b[0m\n\u001b[1;32m    433\u001b[0m         \u001b[0;31m# post-process response\u001b[0m\u001b[0;34m\u001b[0m\u001b[0;34m\u001b[0m\u001b[0m\n",
      "\u001b[0;32m/Applications/anaconda/lib/python2.7/urllib2.pyc\u001b[0m in \u001b[0;36m_open\u001b[0;34m(self, req, data)\u001b[0m\n\u001b[1;32m    447\u001b[0m         \u001b[0mprotocol\u001b[0m \u001b[0;34m=\u001b[0m \u001b[0mreq\u001b[0m\u001b[0;34m.\u001b[0m\u001b[0mget_type\u001b[0m\u001b[0;34m(\u001b[0m\u001b[0;34m)\u001b[0m\u001b[0;34m\u001b[0m\u001b[0m\n\u001b[1;32m    448\u001b[0m         result = self._call_chain(self.handle_open, protocol, protocol +\n\u001b[0;32m--> 449\u001b[0;31m                                   '_open', req)\n\u001b[0m\u001b[1;32m    450\u001b[0m         \u001b[0;32mif\u001b[0m \u001b[0mresult\u001b[0m\u001b[0;34m:\u001b[0m\u001b[0;34m\u001b[0m\u001b[0m\n\u001b[1;32m    451\u001b[0m             \u001b[0;32mreturn\u001b[0m \u001b[0mresult\u001b[0m\u001b[0;34m\u001b[0m\u001b[0m\n",
      "\u001b[0;32m/Applications/anaconda/lib/python2.7/urllib2.pyc\u001b[0m in \u001b[0;36m_call_chain\u001b[0;34m(self, chain, kind, meth_name, *args)\u001b[0m\n\u001b[1;32m    407\u001b[0m             \u001b[0mfunc\u001b[0m \u001b[0;34m=\u001b[0m \u001b[0mgetattr\u001b[0m\u001b[0;34m(\u001b[0m\u001b[0mhandler\u001b[0m\u001b[0;34m,\u001b[0m \u001b[0mmeth_name\u001b[0m\u001b[0;34m)\u001b[0m\u001b[0;34m\u001b[0m\u001b[0m\n\u001b[1;32m    408\u001b[0m \u001b[0;34m\u001b[0m\u001b[0m\n\u001b[0;32m--> 409\u001b[0;31m             \u001b[0mresult\u001b[0m \u001b[0;34m=\u001b[0m \u001b[0mfunc\u001b[0m\u001b[0;34m(\u001b[0m\u001b[0;34m*\u001b[0m\u001b[0margs\u001b[0m\u001b[0;34m)\u001b[0m\u001b[0;34m\u001b[0m\u001b[0m\n\u001b[0m\u001b[1;32m    410\u001b[0m             \u001b[0;32mif\u001b[0m \u001b[0mresult\u001b[0m \u001b[0;32mis\u001b[0m \u001b[0;32mnot\u001b[0m \u001b[0mNone\u001b[0m\u001b[0;34m:\u001b[0m\u001b[0;34m\u001b[0m\u001b[0m\n\u001b[1;32m    411\u001b[0m                 \u001b[0;32mreturn\u001b[0m \u001b[0mresult\u001b[0m\u001b[0;34m\u001b[0m\u001b[0m\n",
      "\u001b[0;32m/Applications/anaconda/lib/python2.7/urllib2.pyc\u001b[0m in \u001b[0;36mhttp_open\u001b[0;34m(self, req)\u001b[0m\n\u001b[1;32m   1225\u001b[0m \u001b[0;34m\u001b[0m\u001b[0m\n\u001b[1;32m   1226\u001b[0m     \u001b[0;32mdef\u001b[0m \u001b[0mhttp_open\u001b[0m\u001b[0;34m(\u001b[0m\u001b[0mself\u001b[0m\u001b[0;34m,\u001b[0m \u001b[0mreq\u001b[0m\u001b[0;34m)\u001b[0m\u001b[0;34m:\u001b[0m\u001b[0;34m\u001b[0m\u001b[0m\n\u001b[0;32m-> 1227\u001b[0;31m         \u001b[0;32mreturn\u001b[0m \u001b[0mself\u001b[0m\u001b[0;34m.\u001b[0m\u001b[0mdo_open\u001b[0m\u001b[0;34m(\u001b[0m\u001b[0mhttplib\u001b[0m\u001b[0;34m.\u001b[0m\u001b[0mHTTPConnection\u001b[0m\u001b[0;34m,\u001b[0m \u001b[0mreq\u001b[0m\u001b[0;34m)\u001b[0m\u001b[0;34m\u001b[0m\u001b[0m\n\u001b[0m\u001b[1;32m   1228\u001b[0m \u001b[0;34m\u001b[0m\u001b[0m\n\u001b[1;32m   1229\u001b[0m     \u001b[0mhttp_request\u001b[0m \u001b[0;34m=\u001b[0m \u001b[0mAbstractHTTPHandler\u001b[0m\u001b[0;34m.\u001b[0m\u001b[0mdo_request_\u001b[0m\u001b[0;34m\u001b[0m\u001b[0m\n",
      "\u001b[0;32m/Applications/anaconda/lib/python2.7/urllib2.pyc\u001b[0m in \u001b[0;36mdo_open\u001b[0;34m(self, http_class, req, **http_conn_args)\u001b[0m\n\u001b[1;32m   1195\u001b[0m         \u001b[0;32mexcept\u001b[0m \u001b[0msocket\u001b[0m\u001b[0;34m.\u001b[0m\u001b[0merror\u001b[0m\u001b[0;34m,\u001b[0m \u001b[0merr\u001b[0m\u001b[0;34m:\u001b[0m \u001b[0;31m# XXX what error?\u001b[0m\u001b[0;34m\u001b[0m\u001b[0m\n\u001b[1;32m   1196\u001b[0m             \u001b[0mh\u001b[0m\u001b[0;34m.\u001b[0m\u001b[0mclose\u001b[0m\u001b[0;34m(\u001b[0m\u001b[0;34m)\u001b[0m\u001b[0;34m\u001b[0m\u001b[0m\n\u001b[0;32m-> 1197\u001b[0;31m             \u001b[0;32mraise\u001b[0m \u001b[0mURLError\u001b[0m\u001b[0;34m(\u001b[0m\u001b[0merr\u001b[0m\u001b[0;34m)\u001b[0m\u001b[0;34m\u001b[0m\u001b[0m\n\u001b[0m\u001b[1;32m   1198\u001b[0m         \u001b[0;32melse\u001b[0m\u001b[0;34m:\u001b[0m\u001b[0;34m\u001b[0m\u001b[0m\n\u001b[1;32m   1199\u001b[0m             \u001b[0;32mtry\u001b[0m\u001b[0;34m:\u001b[0m\u001b[0;34m\u001b[0m\u001b[0m\n",
      "\u001b[0;31mURLError\u001b[0m: <urlopen error [Errno 8] nodename nor servname provided, or not known>"
     ]
    }
   ],
   "source": [
    "# first import the libs we need\n",
    "import urllib2 \n",
    "from bs4 import BeautifulSoup\n",
    "import pandas as pd\n",
    "import matplotlib.pyplot as plt\n",
    "%matplotlib inline\n",
    "import seaborn as sns\n",
    "\n",
    "# Set up URL and get file\n",
    "# URL pasted in\n",
    "request_object = Request('http://www.soccerstats.com/latest.asp?league=scotland')\n",
    "page = urlopen(request_object)\n",
    "soup = BeautifulSoup(page)\n",
    "\n",
    "# table we want has class=sortable\n",
    "table = soup.find(\"table\", { \"class\" : \"sortable\" })\n",
    "\n",
    "# get the headers\n",
    "test = table.findAll('th')"
   ]
  },
  {
   "cell_type": "code",
   "execution_count": 49,
   "metadata": {
    "collapsed": false
   },
   "outputs": [
    {
     "name": "stdout",
     "output_type": "stream",
     "text": [
      "Ranking\n",
      "[<th height=\"25\"><span title=\"Ranking\"><font size=\"1\">Rk</font></span></th>, <th width=\"110\">\\xa0</th>, <th><span title=\"Games played\"><font size=\"1\">GP</font></span></th>, <th><span title=\"Games won\"><font size=\"1\">W</font></span></th>, <th><span title=\"Draws\"><font size=\"1\">D</font></span></th>, <th><span title=\"Games lost\"><font size=\"1\">L</font></span></th>, <th><span title=\"Goals For\"><font size=\"1\">GF</font></span></th>, <th><span title=\"Goals Against\"><font size=\"1\">GA</font></span></th>, <th><span title=\"Goal Difference\"><font size=\"1\">GD</font></span></th>, <th><span title=\"Points\"><font size=\"1\">Pts</font></span></th>, <th class=\"sorttable_nosort\"><span title=\"Last 6 results in the league (from most recent result to oldest)\"><font size=\"1\">form</font></span></th>, <th><span title=\"Points Per Game\"><font size=\"1\">ppg</font></span></th>, <th><span title=\"% clean sheets (matches with no goal conceded)\"><font size=\"1\">cs</font></span></th>, <th><span title=\"% failed to score (matches with no goal scored)\"><font size=\"1\">fts</font></span></th>]\n"
     ]
    }
   ],
   "source": [
    "test2 = test[0]\n",
    "print test2.span['title']\n",
    "print test"
   ]
  },
  {
   "cell_type": "code",
   "execution_count": 51,
   "metadata": {
    "collapsed": false
   },
   "outputs": [
    {
     "data": {
      "text/plain": [
       "<th width=\"110\">\\xa0</th>"
      ]
     },
     "execution_count": 51,
     "metadata": {},
     "output_type": "execute_result"
    }
   ],
   "source": []
  },
  {
   "cell_type": "code",
   "execution_count": 54,
   "metadata": {
    "collapsed": false
   },
   "outputs": [
    {
     "name": "stdout",
     "output_type": "stream",
     "text": [
      "['Ranking', 'Games played', 'Games won', 'Draws', 'Games lost', 'Goals For', 'Goals Against', 'Goal Difference', 'Points', 'Last 6 results in the league (from most recent result to oldest)', 'Points Per Game', '% clean sheets (matches with no goal conceded)', '% failed to score (matches with no goal scored)']\n",
      "[u'Rk', u'GP', u'W', u'D', u'L', u'GF', u'GA', u'GD', u'Pts', u'form', u'ppg', u'cs', u'fts']\n"
     ]
    }
   ],
   "source": [
    "# get titles for headers\n",
    "hdrs = []\n",
    "for e in test:\n",
    "    if e.span != None: # test[1] has no span so we have to make exception\n",
    "        hdrs.append(e.span['title'])\n",
    "print hdrs\n",
    "\n",
    "hdrs2 = []\n",
    "\n",
    "# or get the text in the span element\n",
    "for e in test:\n",
    "    if e.span != None:\n",
    "        hdrs2.append(e.span.text)\n",
    "print hdrs2        "
   ]
  },
  {
   "cell_type": "code",
   "execution_count": 79,
   "metadata": {
    "collapsed": false
   },
   "outputs": [
    {
     "data": {
      "text/plain": [
       "[u'\\r\\n\\xa0',\n",
       " <a href=\"team.asp?league=scotland&amp;teamid=1\" target=\"_top\">Celtic</a>,\n",
       " u'\\n']"
      ]
     },
     "execution_count": 79,
     "metadata": {},
     "output_type": "execute_result"
    }
   ],
   "source": [
    "test2 = table.find_all('td')\n",
    "test2[1].contents"
   ]
  },
  {
   "cell_type": "code",
   "execution_count": 90,
   "metadata": {
    "collapsed": false
   },
   "outputs": [
    {
     "name": "stdout",
     "output_type": "stream",
     "text": [
      "u'\\r\\n\\xa0'\n",
      "u'Celtic'\n",
      "u'\\n'\n"
     ]
    }
   ],
   "source": [
    "for string in test2[1].strings:\n",
    "    print repr(string)"
   ]
  },
  {
   "cell_type": "code",
   "execution_count": 105,
   "metadata": {
    "collapsed": false
   },
   "outputs": [
    {
     "data": {
      "text/plain": [
       "[<td align=\"center\">\\n<b>1</b>\\n</td>,\n",
       " <td align=\"left\" width=\"110\">\\r\\n\\xa0<a href=\"team.asp?league=scotland&amp;teamid=1\" target=\"_top\">Celtic</a>\\n</td>,\n",
       " <td align=\"center\">\\n<font color=\"green\">13</font>\\n</td>,\n",
       " <td align=\"center\">\\r\\n10\\r\\n</td>,\n",
       " <td align=\"center\">\\r\\n2\\r\\n</td>,\n",
       " <td align=\"center\">\\r\\n1\\r\\n</td>,\n",
       " <td align=\"center\">\\n<font color=\"blue\">34</font>\\n</td>,\n",
       " <td align=\"center\">\\n<font color=\"red\">10</font>\\n</td>,\n",
       " <td align=\"center\">\\n<font color=\"gray\" size=\"1\">+24</font>\\n</td>,\n",
       " <td align=\"center\">\\n<font size=\"2\">\\n<b>32</b>\\n</font>\\n</td>,\n",
       " <td align=\"left\">\\n<a class=\"tooltip2\" href=\"#\">\\n<div>\\n<div class=\"dgreen\"></div>\\n<div class=\"dgreen\"></div>\\n<div class=\"dgreen\"></div>\\n<div class=\"dgreen\"></div>\\n<div class=\"dorange\"></div>\\n<div class=\"dgreen\"></div>\\n</div>\\n<span>\\n<div style=\"text-align:left;\">\\n<table border=\"0\" cellpadding=\"2\" cellspacing=\"0\" width=\"99%\">\\n<tr class=\"odd\">\\n<td align=\"right\" bgcolor=\"green\" height=\"20\">\\n<font color=\"gray\" size=\"1\">31 Oct</font>\\n</td><td>\\n<font color=\"green\">\\n<b>\\r\\nCeltic\\r\\n</b>\\r\\n - \\r\\nAberdeen\\r\\n</font>\\n</td><td align=\"center\">\\n<b>3-1</b>\\n</td>\\n</tr>\\n<tr class=\"odd\">\\n<td align=\"right\" bgcolor=\"green\" height=\"20\">\\n<font color=\"gray\" size=\"1\">25 Oct</font>\\n</td><td>\\n<font color=\"green\">\\n<b>\\r\\nCeltic\\r\\n</b>\\r\\n - \\r\\nDundee Utd\\r\\n</font>\\n</td><td align=\"center\">\\n<b>5-0</b>\\n</td>\\n</tr>\\n<tr class=\"odd\">\\n<td align=\"right\" bgcolor=\"green\" height=\"20\">\\n<font color=\"gray\" size=\"1\">17 Oct</font>\\n</td><td>\\n<font color=\"green\">\\r\\n \\r\\nMotherwell\\r\\n - \\r\\n<b>\\r\\nCeltic\\r\\n</b>\\n</font>\\n</td><td align=\"center\">\\n<b>0-1</b>\\n</td>\\n</tr>\\n<tr class=\"odd\">\\n<td align=\"right\" bgcolor=\"green\" height=\"20\">\\n<font color=\"gray\" size=\"1\">4 Oct</font>\\n</td><td>\\n<font color=\"green\">\\r\\n \\r\\nHamilton\\r\\n - \\r\\n<b>\\r\\nCeltic\\r\\n</b>\\n</font>\\n</td><td align=\"center\">\\n<b>1-2</b>\\n</td>\\n</tr>\\n<tr class=\"odd\">\\n<td align=\"right\" bgcolor=\"darkorange\" height=\"20\">\\n<font color=\"gray\" size=\"1\">26 Sep</font>\\n</td><td>\\n<font color=\"darkorange\">\\n<b>\\r\\nCeltic\\r\\n</b>\\r\\n - \\r\\nHearts\\r\\n</font>\\n</td><td align=\"center\">\\n<b>0-0</b>\\n</td>\\n</tr>\\n<tr class=\"odd\">\\n<td align=\"right\" bgcolor=\"green\" height=\"20\">\\n<font color=\"gray\" size=\"1\">20 Sep</font>\\n</td><td>\\n<font color=\"green\">\\n<b>\\r\\nCeltic\\r\\n</b>\\r\\n - \\r\\nDundee FC\\r\\n</font>\\n</td><td align=\"center\">\\n<b>6-0</b>\\n</td>\\n</tr>\\n</table>\\n</div>\\n</span>\\n</a>\\n</td>,\n",
       " <td align=\"right\" bgcolor=\"green\" height=\"20\">\\n<font color=\"gray\" size=\"1\">31 Oct</font>\\n</td>,\n",
       " <td>\\n<font color=\"green\">\\n<b>\\r\\nCeltic\\r\\n</b>\\r\\n - \\r\\nAberdeen\\r\\n</font>\\n</td>,\n",
       " <td align=\"center\">\\n<b>3-1</b>\\n</td>,\n",
       " <td align=\"right\" bgcolor=\"green\" height=\"20\">\\n<font color=\"gray\" size=\"1\">25 Oct</font>\\n</td>]"
      ]
     },
     "execution_count": 105,
     "metadata": {},
     "output_type": "execute_result"
    }
   ],
   "source": [
    "test2[:15]\n"
   ]
  },
  {
   "cell_type": "code",
   "execution_count": 104,
   "metadata": {
    "collapsed": false
   },
   "outputs": [
    {
     "data": {
      "text/plain": [
       "list"
      ]
     },
     "execution_count": 104,
     "metadata": {},
     "output_type": "execute_result"
    }
   ],
   "source": [
    "type(test2[:10])"
   ]
  },
  {
   "cell_type": "code",
   "execution_count": 107,
   "metadata": {
    "collapsed": false
   },
   "outputs": [
    {
     "name": "stdout",
     "output_type": "stream",
     "text": [
      "\n",
      "\n",
      "1\n",
      "\n",
      "\n",
      "\r\n",
      " \n",
      "Celtic\n",
      "\n",
      "\n",
      "\n",
      "\n",
      "13\n",
      "\n",
      "\n",
      "\r\n",
      "10\r\n",
      "\n",
      "\r\n",
      "2\r\n",
      "\n",
      "\r\n",
      "1\r\n",
      "\n",
      "\n",
      "\n",
      "34\n",
      "\n",
      "\n",
      "\n",
      "\n",
      "10\n",
      "\n",
      "\n",
      "\n",
      "\n",
      "+24\n",
      "\n",
      "\n",
      "\n",
      "\n",
      "\n",
      "\n",
      "32\n",
      "\n",
      "\n",
      "\n",
      "\n"
     ]
    }
   ],
   "source": [
    "for i in range(10):\n",
    "    data = test2[i].strings\n",
    "    for string in data:\n",
    "        print string"
   ]
  },
  {
   "cell_type": "code",
   "execution_count": null,
   "metadata": {
    "collapsed": true
   },
   "outputs": [],
   "source": []
  }
 ],
 "metadata": {
  "kernelspec": {
   "display_name": "Python 2",
   "language": "python",
   "name": "python2"
  },
  "language_info": {
   "codemirror_mode": {
    "name": "ipython",
    "version": 2
   },
   "file_extension": ".py",
   "mimetype": "text/x-python",
   "name": "python",
   "nbconvert_exporter": "python",
   "pygments_lexer": "ipython2",
   "version": "2.7.10"
  }
 },
 "nbformat": 4,
 "nbformat_minor": 0
}
