{
 "cells": [
  {
   "cell_type": "code",
   "execution_count": 1,
   "metadata": {},
   "outputs": [
    {
     "name": "stdout",
     "output_type": "stream",
     "text": [
      "Please enter your BMI: 26.4\n",
      "Your BMI is 26.40.\n",
      "You have a high BMI.\n"
     ]
    }
   ],
   "source": [
    "bmi= input('Please enter your BMI: ') # bmi starts as a string\n",
    "bmi = float(bmi)\n",
    "    \n",
    "print('Your BMI is %.2f.' % bmi)\n",
    "\n",
    "if bmi <= 25.0: # less than or equal to 25?\n",
    "    print('You have a normal BMI.')\n",
    "if bmi > 25.0: # more than 25?\n",
    "    print('You have a high BMI.')"
   ]
  },
  {
   "cell_type": "markdown",
   "metadata": {},
   "source": [
    "## Putting it all together!\n",
    "\n",
    "Rewrite the code above so that it also tells the user whether they are obese (BMI > 30) or underweight (BMI < 18). \n",
    "\n",
    "Hint: You'll need to add further ```if``` statements and you'll need to use the boolean keyword ```and``` in those if statements. Test your code with different values for BMI."
   ]
  },
  {
   "cell_type": "code",
   "execution_count": 3,
   "metadata": {},
   "outputs": [
    {
     "name": "stdout",
     "output_type": "stream",
     "text": [
      "Please enter your BMI: 26.5\n",
      "Your BMI is 26.50.\n",
      "You have a high BMI.\n"
     ]
    }
   ],
   "source": [
    "# solution\n",
    "bmi = input('Please enter your BMI: ')\n",
    "bmi = float(bmi)\n",
    "    \n",
    "print('Your BMI is %.2f.' % bmi)\n",
    "\n",
    "if bmi < 18:\n",
    "    print('You have a low BMI.')\n",
    "if bmi >18 and bmi <=25:\n",
    "    print('You have a normal BMI.')\n",
    "if bmi > 25.0 and bmi <= 30:\n",
    "    print('You have a high BMI.')\n",
    "if bmi > 30:\n",
    "    print('You have a very high BMI.')"
   ]
  },
  {
   "cell_type": "markdown",
   "metadata": {},
   "source": [
    "## Putting it together!\n",
    "\n",
    "Write a python programme that uses the ```input``` function to prompt a user for their height and weight. Your programme should then calculate the users BMI and print this out to one decimal place along with a message telling them whether their BMI is high or low."
   ]
  },
  {
   "cell_type": "code",
   "execution_count": 5,
   "metadata": {},
   "outputs": [
    {
     "name": "stdout",
     "output_type": "stream",
     "text": [
      "Please enter your height in meters: 1.81\n",
      "Please enter your weight in kilograms: 82\n",
      "Your BMI is 25.03.\n",
      "Your BMI is high.\n"
     ]
    }
   ],
   "source": [
    "# solution\n",
    "ht = input('Please enter your height in meters: ')\n",
    "wt = input('Please enter your weight in kilograms: ')\n",
    "\n",
    "ht = float(ht)\n",
    "wt = float(wt)\n",
    "\n",
    "bmi = wt/ht**2 # calc bmi\n",
    "\n",
    "print('Your BMI is %.2f.' % bmi)\n",
    "\n",
    "if bmi < 18:\n",
    "    print('Your BMI is low.')\n",
    "elif bmi > 25:\n",
    "    print('Your BMI is high.')"
   ]
  },
  {
   "cell_type": "markdown",
   "metadata": {},
   "source": [
    "## Putting it together!\n",
    "\n",
    "Rewrite your BMI programme using a ```try``` and ```except``` statements to catch inappropriate data entry by the user and a guardian pattern to prevent potential crashes due to zero division."
   ]
  },
  {
   "cell_type": "code",
   "execution_count": 8,
   "metadata": {},
   "outputs": [
    {
     "name": "stdout",
     "output_type": "stream",
     "text": [
      "Please enter your weight in kilograms: 76\n",
      "Please enter your height in meters: 1.72\n",
      "Your BMI is high.\n"
     ]
    }
   ],
   "source": [
    "# solution\n",
    "wt = input('Please enter your weight in kilograms: ')\n",
    "\n",
    "try:\n",
    "    wt = float(wt)\n",
    "except:\n",
    "    print('Please enter a numeric value for weight.')\n",
    "\n",
    "ht = input('Please enter your height in meters: ')\n",
    "\n",
    "try:    \n",
    "    ht = float(ht)\n",
    "except:\n",
    "    print('Please enter a numeric value for height.')\n",
    "\n",
    "if ht != 0 and wt != 0:\n",
    "    try:\n",
    "        bmi = wt/ht**2 # calc bmi\n",
    "    except:\n",
    "        print(\"Calculation failed.\")\n",
    "    \n",
    "    if bmi < 18:\n",
    "        print('Your BMI is low.')\n",
    "    elif bmi > 25:\n",
    "        print('Your BMI is high.')\n",
    "else:\n",
    "    print('Height and/or weight cannot be zero.')"
   ]
  },
  {
   "cell_type": "markdown",
   "metadata": {},
   "source": [
    "## Homework\n",
    "Write a script that will prompt the user for their waist measurement (in cm) and hip measurement (in cm). Use ```try-except``` statements to make sure numeric values are entered. Print the waist and hip measurements out. Using these values calculate the waist-to-hip ratio (WHR) and print this value to one decimal place as part of a message telling the user whether their health is not at risk, moderately at risk or at high risk based on the WHR you have calculated.\n",
    "\n",
    "There are guidelines you can use for your cutoffs [here](http://www.bmi-calculator.net/waist-to-hip-ratio-calculator/waist-to-hip-ratio-chart.php).\n",
    "\n",
    "The output from your script should look something like:\n",
    "\n",
    "```\n",
    "The waist measurement is 101.3cm.\n",
    "The hip measurement is 99.7cm.\n",
    "\n",
    "The waist to hip ratio is 1.02 and there is a high risk to health.\n",
    "```"
   ]
  },
  {
   "cell_type": "code",
   "execution_count": 7,
   "metadata": {},
   "outputs": [
    {
     "name": "stdout",
     "output_type": "stream",
     "text": [
      "Please enter your waist measurement in cm: 95\n",
      "Please enter your hip measurement in cm: 85\n",
      "The waist measurement is 95.00.\n",
      "The hip measurement is 85.00.\n",
      "The waist to hip ratio is 1.12 and there is a high risk to health.\n"
     ]
    }
   ],
   "source": [
    "# solution\n",
    "\n",
    "ws = input('Please enter your waist measurement in cm: ')\n",
    "hp = input('Please enter your hip measurement in cm: ')\n",
    "\n",
    "try:\n",
    "    ws = float(ws)\n",
    "except:\n",
    "    print('Please enter a numeric value for your waist measurement.')\n",
    "\n",
    "try:\n",
    "    hp = float(hp)\n",
    "except:\n",
    "    print('Please enter a numeric value for your hip measurement.')\n",
    "    \n",
    "print('The waist measurement is %.2f.' % ws)\n",
    "print('The hip measurement is %.2f.' % hp)\n",
    "\n",
    "if ws != 0 and hp != 0:\n",
    "\n",
    "    ratio = ws / hp\n",
    "    \n",
    "    if ratio <= 0.95:\n",
    "        print('The waist to hip ratio is %.2f and there is a low risk to health.' % ratio)\n",
    "    elif 0.96 < ratio and ratio < 1:\n",
    "        print('The waist to hip ratio is %.2f and there is a moderate risk to health.' % ratio)\n",
    "    else:\n",
    "        print('The waist to hip ratio is %.2f and there is a high risk to health.' % ratio)  \n",
    "else:\n",
    "    print('Please enter non-zero measurements.')"
   ]
  }
 ],
 "metadata": {
  "anaconda-cloud": {},
  "kernelspec": {
   "display_name": "Python 3",
   "language": "python",
   "name": "python3"
  },
  "language_info": {
   "codemirror_mode": {
    "name": "ipython",
    "version": 3
   },
   "file_extension": ".py",
   "mimetype": "text/x-python",
   "name": "python",
   "nbconvert_exporter": "python",
   "pygments_lexer": "ipython3",
   "version": "3.6.6"
  }
 },
 "nbformat": 4,
 "nbformat_minor": 1
}
