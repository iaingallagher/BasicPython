{
 "cells": [
  {
   "cell_type": "markdown",
   "metadata": {},
   "source": [
    "## Putting it together - lists\n",
    "\n",
    "The [```range```](https://docs.python.org/2/library/functions.html#range) function takes a number (n) and returns a list of numbers starting at 0 and going to n-1. \n",
    "\n",
    "```\n",
    "rg = range(5)\n",
    "print rg\n",
    "[0,1,2,3,4]\n",
    "```\n",
    "\n",
    "Using this function assign a list of the numbers 0 to 10 to a variable. Use subsetting with a step of 2 to extract the even numbers. Check that the modulo of the 4th element in this new list is zero. Remember that python counts the first object in a list as object zero. Finally sort the new list of even numbers in reverse order (you might want to recap the difference between the ```sort()``` method and the ```sorted``` function)."
   ]
  },
  {
   "cell_type": "code",
   "execution_count": 2,
   "metadata": {
    "collapsed": false
   },
   "outputs": [
    {
     "name": "stdout",
     "output_type": "stream",
     "text": [
      "[0, 1, 2, 3, 4, 5, 6, 7, 8, 9, 10]\n",
      "0\n",
      "[0, 2, 4, 6, 8, 10]\n",
      "[10, 8, 6, 4, 2, 0]\n"
     ]
    }
   ],
   "source": [
    "num_rnge = range(11) # set up range, returns a list\n",
    "print num_rnge\n",
    "\n",
    "evens = num_rnge[::2] # get the evens, subset with step value\n",
    "print evens[3]%2 # does fourth value divide cleanly by 2?\n",
    "print evens\n",
    "\n",
    "print sorted(evens, reverse=True) # reversed"
   ]
  },
  {
   "cell_type": "markdown",
   "metadata": {},
   "source": [
    "Bonus - Create a string variable. What do you get if you use the ```list``` function on that variable? Look up the [```join()```](http://www.tutorialspoint.com/python/string_join.htm) method for strings and use that to put your string back together. For this last bit remember the list is the *sequence* you want to join together! \n",
    "\n",
    "I will warn you now the ```join``` method looks completely unintuitive! Think of it as a sequence instructions from left to right - 'use this character to *join* the stuff in this object together into a ```string```'."
   ]
  },
  {
   "cell_type": "code",
   "execution_count": 3,
   "metadata": {
    "collapsed": false
   },
   "outputs": [
    {
     "name": "stdout",
     "output_type": "stream",
     "text": [
      "['i', 'a', 'i', 'n']\n",
      "iain\n"
     ]
    }
   ],
   "source": [
    "s = 'iain' # create variable\n",
    "lst = list(s) # list func on a string returns a list of the string characters\n",
    "print lst\n",
    "print ''.join(lst) # join the list of chars back together with nothing between the list elements\n",
    "\n",
    "# print '+'.join(lst) would give you i+a+i+n"
   ]
  },
  {
   "cell_type": "markdown",
   "metadata": {},
   "source": [
    "## Putting it together  - dicts\n",
    "\n",
    "A date of the form 8-MAR-85 includes the name of the month, which must be translated to a number. Write a script that will translate from the name of a month to the number using a ```dict```.\n",
    "\n",
    "Hint: In your script create a ```dict``` suitable for decoding month names to numbers (e.g. MAR would be 3). Use the string ```split()``` method to create a ```list``` from your ```string``` and use the ```dict``` to look up the number for the month in the input data using list indexing. Finally use string formatting to print an informative message relating the month name and number."
   ]
  },
  {
   "cell_type": "code",
   "execution_count": 5,
   "metadata": {
    "collapsed": false
   },
   "outputs": [
    {
     "name": "stdout",
     "output_type": "stream",
     "text": [
      "The month number for MAR is 3.\n"
     ]
    }
   ],
   "source": [
    "dt = '8-MAR-85' # date string\n",
    "dts = dt.split('-') # split the string on the '-' character, get a list back, ['8', 'MAR', '85']\n",
    "\n",
    "# dict for tranlation, month name is key, month number is value\n",
    "dct = {'JAN':1, 'FEB':2, 'MAR':3, 'APR':4, 'MAY':5, 'JUN':6, 'JUL':7, 'AUG':8, 'SEP':9, 'OCT':10, 'NOV':11, 'DEC':12}\n",
    "\n",
    "# look up month name we have in our string\n",
    "month_num = dct[dts[1]]\n",
    "print 'The month number for %s is %d.' % (dts[1], month_num) # print message with string formatting"
   ]
  },
  {
   "cell_type": "markdown",
   "metadata": {},
   "source": [
    "## Homework\n",
    "\n",
    "This weeks homework is similar to last weeks. We again have the sequence for human PPARG in FASTA format. As you did last week you'll need to create a string variable from this. We also have the DNA triplets and the amino acids they code for. You can paste these into two lists and create a translation dictionary from them that will allow you to look up an amino acid given the DNA triplet that codes for that amino acid.\n",
    "\n",
    "Using these data write a script that will look for the start codon and one of the stop codons ('TAG'). Print an informative message with the position of these two codons. Using these positions extract the proposed actual coding sequence (be careful with slicing positions here). Use the modulo operator to check whether this proposed coding sequence is in frame i.e. is it formed of 3 base codons only. \n",
    "\n",
    "Print out the first 3 and last 3 codons. Finally use your newly created translation dictionary to look up the first and last amino acids. Again be careful with the indices for slicing.\n",
    "\n",
    "The output from your script shoould be something like:\n",
    "\n",
    "```The coding sequence begins at xxx and ends at xxx.```\n",
    "\n",
    "```The first 3 codons are xxxxxxxxx.```\n",
    "\n",
    "```The last 3 codons are xxxxxxxxx.```\n",
    "\n",
    "```The first amino acid is x.```\n",
    "\n",
    "```The last amino acid is x.```"
   ]
  },
  {
   "cell_type": "raw",
   "metadata": {},
   "source": [
    ">gi|116284367|ref|NM_005037.5| Homo sapiens peroxisome proliferator-activated receptor gamma (PPARG), transcript variant 4, mRNA\n",
    "GGCGCCCGCGCCCGCCCCCGCGCCGGGCCCGGCTCGGCCCGACCCGGCTCCGCCGCGGGCAGGCGGGGCC\n",
    "CAGCGCACTCGGAGCCCGAGCCCGAGCCGCAGCCGCCGCCTGGGGCGCTTGGGTCGGCCTCGAGGACACC\n",
    "GGAGAGGGGCGCCACGCCGCCGTGGCCGCAGAAATGACCATGGTTGACACAGAGATGCCATTCTGGCCCA\n",
    "CCAACTTTGGGATCAGCTCCGTGGATCTCTCCGTAATGGAAGACCACTCCCACTCCTTTGATATCAAGCC\n",
    "CTTCACTACTGTTGACTTCTCCAGCATTTCTACTCCACATTACGAAGACATTCCATTCACAAGAACAGAT\n",
    "CCAGTGGTTGCAGATTACAAGTATGACCTGAAACTTCAAGAGTACCAAAGTGCAATCAAAGTGGAGCCTG\n",
    "CATCTCCACCTTATTATTCTGAGAAGACTCAGCTCTACAATAAGCCTCATGAAGAGCCTTCCAACTCCCT\n",
    "CATGGCAATTGAATGTCGTGTCTGTGGAGATAAAGCTTCTGGATTTCACTATGGAGTTCATGCTTGTGAA\n",
    "GGATGCAAGGGTTTCTTCCGGAGAACAATCAGATTGAAGCTTATCTATGACAGATGTGATCTTAACTGTC\n",
    "GGATCCACAAAAAAAGTAGAAATAAATGTCAGTACTGTCGGTTTCAGAAATGCCTTGCAGTGGGGATGTC\n",
    "TCATAATGCCATCAGGTTTGGGCGGATGCCACAGGCCGAGAAGGAGAAGCTGTTGGCGGAGATCTCCAGT\n",
    "GATATCGACCAGCTGAATCCAGAGTCCGCTGACCTCCGGGCCCTGGCAAAACATTTGTATGACTCATACA\n",
    "TAAAGTCCTTCCCGCTGACCAAAGCAAAGGCGAGGGCGATCTTGACAGGAAAGACAACAGACAAATCACC\n",
    "ATTCGTTATCTATGACATGAATTCCTTAATGATGGGAGAAGATAAAATCAAGTTCAAACACATCACCCCC\n",
    "CTGCAGGAGCAGAGCAAAGAGGTGGCCATCCGCATCTTTCAGGGCTGCCAGTTTCGCTCCGTGGAGGCTG\n",
    "TGCAGGAGATCACAGAGTATGCCAAAAGCATTCCTGGTTTTGTAAATCTTGACTTGAACGACCAAGTAAC\n",
    "TCTCCTCAAATATGGAGTCCACGAGATCATTTACACAATGCTGGCCTCCTTGATGAATAAAGATGGGGTT\n",
    "CTCATATCCGAGGGCCAAGGCTTCATGACAAGGGAGTTTCTAAAGAGCCTGCGAAAGCCTTTTGGTGACT\n",
    "TTATGGAGCCCAAGTTTGAGTTTGCTGTGAAGTTCAATGCACTGGAATTAGATGACAGCGACTTGGCAAT\n",
    "ATTTATTGCTGTCATTATTCTCAGTGGAGACCGCCCAGGTTTGCTGAATGTGAAGCCCATTGAAGACATT\n",
    "CAAGACAACCTGCTACAAGCCCTGGAGCTCCAGCTGAAGCTGAACCACCCTGAGTCCTCACAGCTGTTTG\n",
    "CCAAGCTGCTCCAGAAAATGACAGACCTCAGACAGATTGTCACGGAACACGTGCAGCTACTGCAGGTGAT\n",
    "CAAGAAGACGGAGACAGACATGAGTCTTCACCCGCTCCTGCAGGAGATCTACAAGGACTTGTACTAGCAG\n",
    "AGAGTCCTGAGCCACTGCCAACATTTCCCTTCTTCCAGTTGCACTATTCTGAGGGAAAATCTGACACCTA\n",
    "AGAAATTTACTGTGAAAAAGCATTTTAAAAAGAAAAGGTTTTAGAATATGATCTATTTTATGCATATTGT\n",
    "TTATAAAGACACATTTACAATTTACTTTTAATATTAAAAATTACCATATTATGAAATTGCTGATAGTA\n",
    "\n",
    "codons: 'TTT','TTC','TTA','TTG','CTT','CTC','CTA','CTG','ATT','ATC','ATA','ATG','GTT','GTC','GTA','GTG','TCT','TCC','TCA','TCG','CCT','CCC','CCA','CCG','ACT','ACC','ACA','ACG','GCT','GCC','GCA','GCG','TAT','TAC','TAA','TAG','CAT','CAC','CAA','CAG','AAT','AAC','AAA','AAG','GAT','GAC','GAA','GAG','TGT','TGC','TGA','TGG','CGT','CGC','CGA','CGG','AGT','AGC','AGA','AGG','GGT','GGC','GGA','GGG'\n",
    "\n",
    "amino acids: \"F\",\"F\",\"L\",\"L\",\"L\",\"L\",\"L\",\"L\",\"I\",\"I\",\"I\",\"M\",\"V\",\"V\",\"V\",\"V\",\"S\",\"S\",\"S\",\"S\",\"P\",\"P\",\"P\",\"P\",\"T\",\"T\",\"T\",\"T\",\"A\",\"A\",\"A\",\"A\",\"Y\",\"Y\",\"STOP\",\"STOP\",\"H\",\"H\",\"Q\",\"Q\",\"N\",\"N\",\"K\",\"K\",\"D\",\"D\",\"E\",\"E\",\"C\",\"C\",\"STOP\",\"W\",\"R\",\"R\",\"R\",\"R\",\"S\",\"S\",\"R\",\"R\",\"G\",\"G\",\"G\",\"G\""
   ]
  },
  {
   "cell_type": "code",
   "execution_count": 6,
   "metadata": {
    "collapsed": false
   },
   "outputs": [
    {
     "name": "stdout",
     "output_type": "stream",
     "text": [
      "The coding sequence begins at 175 and ends at 655.\n",
      "0\n",
      "The first 3 codons are ATGACCATGG.\n",
      "The last three codons are AAAAAAGTAG.\n",
      "The first amino acid is M.\n",
      "The last amino acid is STOP.\n"
     ]
    }
   ],
   "source": [
    "# sequence pasted from above into multiline string\n",
    "\n",
    "seq = '''GGCGCCCGCGCCCGCCCCCGCGCCGGGCCCGGCTCGGCCCGACCCGGCTCCGCCGCGGGCAGGCGGGGCC\n",
    "CAGCGCACTCGGAGCCCGAGCCCGAGCCGCAGCCGCCGCCTGGGGCGCTTGGGTCGGCCTCGAGGACACC\n",
    "GGAGAGGGGCGCCACGCCGCCGTGGCCGCAGAAATGACCATGGTTGACACAGAGATGCCATTCTGGCCCA\n",
    "CCAACTTTGGGATCAGCTCCGTGGATCTCTCCGTAATGGAAGACCACTCCCACTCCTTTGATATCAAGCC\n",
    "CTTCACTACTGTTGACTTCTCCAGCATTTCTACTCCACATTACGAAGACATTCCATTCACAAGAACAGAT\n",
    "CCAGTGGTTGCAGATTACAAGTATGACCTGAAACTTCAAGAGTACCAAAGTGCAATCAAAGTGGAGCCTG\n",
    "CATCTCCACCTTATTATTCTGAGAAGACTCAGCTCTACAATAAGCCTCATGAAGAGCCTTCCAACTCCCT\n",
    "CATGGCAATTGAATGTCGTGTCTGTGGAGATAAAGCTTCTGGATTTCACTATGGAGTTCATGCTTGTGAA\n",
    "GGATGCAAGGGTTTCTTCCGGAGAACAATCAGATTGAAGCTTATCTATGACAGATGTGATCTTAACTGTC\n",
    "GGATCCACAAAAAAAGTAGAAATAAATGTCAGTACTGTCGGTTTCAGAAATGCCTTGCAGTGGGGATGTC\n",
    "TCATAATGCCATCAGGTTTGGGCGGATGCCACAGGCCGAGAAGGAGAAGCTGTTGGCGGAGATCTCCAGT\n",
    "GATATCGACCAGCTGAATCCAGAGTCCGCTGACCTCCGGGCCCTGGCAAAACATTTGTATGACTCATACA\n",
    "TAAAGTCCTTCCCGCTGACCAAAGCAAAGGCGAGGGCGATCTTGACAGGAAAGACAACAGACAAATCACC\n",
    "ATTCGTTATCTATGACATGAATTCCTTAATGATGGGAGAAGATAAAATCAAGTTCAAACACATCACCCCC\n",
    "CTGCAGGAGCAGAGCAAAGAGGTGGCCATCCGCATCTTTCAGGGCTGCCAGTTTCGCTCCGTGGAGGCTG\n",
    "TGCAGGAGATCACAGAGTATGCCAAAAGCATTCCTGGTTTTGTAAATCTTGACTTGAACGACCAAGTAAC\n",
    "TCTCCTCAAATATGGAGTCCACGAGATCATTTACACAATGCTGGCCTCCTTGATGAATAAAGATGGGGTT\n",
    "CTCATATCCGAGGGCCAAGGCTTCATGACAAGGGAGTTTCTAAAGAGCCTGCGAAAGCCTTTTGGTGACT\n",
    "TTATGGAGCCCAAGTTTGAGTTTGCTGTGAAGTTCAATGCACTGGAATTAGATGACAGCGACTTGGCAAT\n",
    "ATTTATTGCTGTCATTATTCTCAGTGGAGACCGCCCAGGTTTGCTGAATGTGAAGCCCATTGAAGACATT\n",
    "CAAGACAACCTGCTACAAGCCCTGGAGCTCCAGCTGAAGCTGAACCACCCTGAGTCCTCACAGCTGTTTG\n",
    "CCAAGCTGCTCCAGAAAATGACAGACCTCAGACAGATTGTCACGGAACACGTGCAGCTACTGCAGGTGAT\n",
    "CAAGAAGACGGAGACAGACATGAGTCTTCACCCGCTCCTGCAGGAGATCTACAAGGACTTGTACTAGCAG\n",
    "AGAGTCCTGAGCCACTGCCAACATTTCCCTTCTTCCAGTTGCACTATTCTGAGGGAAAATCTGACACCTA\n",
    "AGAAATTTACTGTGAAAAAGCATTTTAAAAAGAAAAGGTTTTAGAATATGATCTATTTTATGCATATTGT\n",
    "TTATAAAGACACATTTACAATTTACTTTTAATATTAAAAATTACCATATTATGAAATTGCTGATAGTA'''\n",
    "\n",
    "# lists created by pasting in values above\n",
    "codons = ['TTT','TTC','TTA','TTG','CTT','CTC','CTA','CTG','ATT','ATC','ATA','ATG','GTT','GTC','GTA','GTG','TCT','TCC','TCA','TCG','CCT','CCC','CCA','CCG','ACT','ACC','ACA','ACG','GCT','GCC','GCA','GCG','TAT','TAC','TAA','TAG','CAT','CAC','CAA','CAG','AAT','AAC','AAA','AAG','GAT','GAC','GAA','GAG','TGT','TGC','TGA','TGG','CGT','CGC','CGA','CGG','AGT','AGC','AGA','AGG','GGT','GGC','GGA','GGG']\n",
    "aa = [\"F\",\"F\",\"L\",\"L\",\"L\",\"L\",\"L\",\"L\",\"I\",\"I\",\"I\",\"M\",\"V\",\"V\",\"V\",\"V\",\"S\",\"S\",\"S\",\"S\",\"P\",\"P\",\"P\",\"P\",\"T\",\"T\",\"T\",\"T\",\"A\",\"A\",\"A\",\"A\",\"Y\",\"Y\",\"STOP\",\"STOP\",\"H\",\"H\",\"Q\",\"Q\",\"N\",\"N\",\"K\",\"K\",\"D\",\"D\",\"E\",\"E\",\"C\",\"C\",\"STOP\",\"W\",\"R\",\"R\",\"R\",\"R\",\"S\",\"S\",\"R\",\"R\",\"G\",\"G\",\"G\",\"G\"]\n",
    "\n",
    "# zip lists to make translation dict, keys are codons, values are amino acids\n",
    "translation_dct = dict(zip(codons, aa))\n",
    "\n",
    "# index method on string to get 'ATG' and 'TAG' positions\n",
    "# string formatting for reporting\n",
    "print 'The coding sequence begins at %d and ends at %d.' % (seq.index('ATG'), seq.index('TAG'))\n",
    "\n",
    "# assign variables for start and stop codon positions\n",
    "start = seq.index('ATG')\n",
    "stop = seq.index('TAG')+3 # go 2 from position one and then add another base because slicing does not incl last value\n",
    "\n",
    "# extract coding sequence\n",
    "coding_seq = seq[start:stop]\n",
    "print len(coding_seq)%3 # make sure this is in frame, has to be cleanly divisible by 3\n",
    "\n",
    "# subetting to get first and last 3 codons\n",
    "print 'The first 3 codons are %s.' % coding_seq[:10]\n",
    "print 'The last three codons are %s.' % coding_seq[-10:] # syntax here, go 9 values back from end\n",
    "\n",
    "# subset and dict lookup to get first and last amino acids\n",
    "print 'The first amino acid is %s.' % translation_dct[coding_seq[:3]]\n",
    "print 'The last amino acid is %s.' % translation_dct[coding_seq[-3:]]"
   ]
  }
 ],
 "metadata": {
  "kernelspec": {
   "display_name": "Python 2",
   "language": "python",
   "name": "python2"
  },
  "language_info": {
   "codemirror_mode": {
    "name": "ipython",
    "version": 2
   },
   "file_extension": ".py",
   "mimetype": "text/x-python",
   "name": "python",
   "nbconvert_exporter": "python",
   "pygments_lexer": "ipython2",
   "version": "2.7.10"
  }
 },
 "nbformat": 4,
 "nbformat_minor": 0
}
