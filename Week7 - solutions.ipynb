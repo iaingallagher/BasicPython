{
 "cells": [
  {
   "cell_type": "markdown",
   "metadata": {},
   "source": [
    "## Putting it together!\n",
    "\n",
    "At the 1976 Pro Bowl, Ray Guy, of the Oakland Raiders, kicked a ball that hung in the air long enough for officials to wonder whether the it was filled with helium. The ball was found to be filled with air, but since then many have tossed around the idea that a helium-filled football would outdistance an air-filled one. Students at Ohio State University conducted an experiment to test this myth. They used two identical footballs, one air filled with air and one filled with helium. Each football was kicked 39 times and the two footballs were alternated with each kick.\n",
    "\n",
    "Read the helium.txt (tab separated, again from [OpenIntro](https://www.openintro.org/)) file from the data folder. Create histograms and boxplots for these data using either ```matplotlib.pyplot``` or ```seaborn```. Comment on whether there are outliers or not. Carry out a statistical test (either $t$-test or Mann-Whitney to decide if there is a statistically significant difference in the average height for the two balls. \n",
    "\n",
    "As a statistical aside - do you think these data should be analysed as independent samples or as paired data? The ```scipy.stats``` function for a paired $t$-test is [stats.ttest_rel](http://docs.scipy.org/doc/scipy-0.15.1/reference/generated/scipy.stats.ttest_rel.html).\n",
    "\n",
    "Hint: Data can be in [wide or long](https://en.wikipedia.org/wiki/Wide_and_narrow_data) format. In wide format there is a separate column for each data variable i.e. there can be more than one value column.\n",
    "\n",
    "e.g.\n",
    "\n",
    "| trial | air | helium |\n",
    "|-------|-----|--------|\n",
    "| 1     | 25  | 25     |\n",
    "| 2     | 23  | 16     |\n",
    "| 3     | 18  | 25     |\n",
    "| 4     | 16  | 14     |\n",
    "| 5     | 35  | 23     |\n",
    "\n",
    "In wide format each row may contain several observations. In the example above each row contains observations for 'air' and 'helium'.\n",
    "\n",
    "In long format there is only one value column and the other columns give the context of the value i.e. whether it's from an air or helium trial.\n",
    "\n",
    "e.g.\n",
    "\n",
    "| trial | variable | value |\n",
    "|-------|----------|-------|\n",
    "| 1     | helium   | 25    |\n",
    "| 2     | helium   | 16    |\n",
    "| 3     | helium   | 25    |\n",
    "| 4     | helium   | 14    |\n",
    "| 5     | helium   | 23    |\n",
    "| 1     | air      | 25    |\n",
    "| 2     | air      | 23    |\n",
    "| 3     | air      | 18    |\n",
    "| 4     | air      | 16    |\n",
    "| 5     | air      | 35    |\n",
    "\n",
    "In the latter format each row corresponds to one and only one observed value.\n",
    "\n",
    "To generate the plots in this exercise you should convert the data from wide to long format. In general this format makes it easier to split data by variables. The ```pandas``` [```melt()```](http://pandas.pydata.org/pandas-docs/stable/generated/pandas.melt.html) method allows us to do this - it 'melts' the data. For our purposes you only need to supply the ```id_vars``` argument telling ```melt()``` which variable identifies each row.\n",
    "\n",
    "e.g.\n",
    "```python\n",
    "heliumM = pd.melt(helium, id_vars=('trial'))\n",
    "```"
   ]
  },
  {
   "cell_type": "code",
   "execution_count": 1,
   "metadata": {},
   "outputs": [
    {
     "name": "stdout",
     "output_type": "stream",
     "text": [
      "   trial  air  helium\n",
      "0      1   25      25\n",
      "1      2   23      16\n",
      "2      3   18      25\n",
      "3      4   16      14\n",
      "4      5   35      23\n",
      "   trial variable  value\n",
      "0      1      air     25\n",
      "1      2      air     23\n",
      "2      3      air     18\n",
      "3      4      air     16\n",
      "4      5      air     35\n"
     ]
    },
    {
     "data": {
      "image/png": "[encoded data removed]",
      "text/plain": [
       "<Figure size 432x216 with 2 Axes>"
      ]
     },
     "metadata": {},
     "output_type": "display_data"
    }
   ],
   "source": [
    "# import libraries etc\n",
    "import pandas as pd\n",
    "import scipy.stats as stats\n",
    "import matplotlib.pyplot as plt\n",
    "import seaborn as sns\n",
    "sns.set_style(\"white\") # set a style for plot, nice and simple here\n",
    "# so we can see plots in notebook\n",
    "% matplotlib inline \n",
    "\n",
    "# get the data into a pandas DataFrame\n",
    "helium = pd.read_csv('data/helium.txt', sep='\\t')\n",
    "print(helium.head()) # uh, oh... better in long format so condition (helium, air) is in one column\n",
    "# so 'melt' the data\n",
    "heliumM = pd.melt(helium, id_vars=('trial'))\n",
    "print(heliumM.head()) # ah, that's better\n",
    "# create a grid to throw plots onto by variable (air, helium)\n",
    "g = sns.FacetGrid(heliumM, col='variable')\n",
    "# map a histogram to each 'space'\n",
    "g.map(plt.hist, 'value', lw=0)\n",
    "plt.show()"
   ]
  },
  {
   "cell_type": "code",
   "execution_count": 2,
   "metadata": {},
   "outputs": [
    {
     "data": {
      "image/png": "[encoded data removed]",
      "text/plain": [
       "<Figure size 432x288 with 1 Axes>"
      ]
     },
     "metadata": {},
     "output_type": "display_data"
    }
   ],
   "source": [
    "# box and whisker plots\n",
    "sns.boxplot(x='variable', y='value', data=heliumM)\n",
    "plt.show()"
   ]
  },
  {
   "cell_type": "code",
   "execution_count": 3,
   "metadata": {},
   "outputs": [
    {
     "name": "stdout",
     "output_type": "stream",
     "text": [
      "The unpaired t-statistic is 0.37 with a p-value of 0.712.\n",
      "The paired t-statistic is 0.42 with a p-value of 0.677.\n",
      "The p-value for the MW test is 0.361.\n"
     ]
    }
   ],
   "source": [
    "# the stats\n",
    "helium_vals = heliumM[heliumM['variable']=='helium']['value'] # get values for each condition\n",
    "air_vals = heliumM[heliumM['variable']=='air']['value']\n",
    "\n",
    "# unpaired t test\n",
    "unpaired_res = stats.ttest_ind(helium_vals, air_vals) # tuple, t-stat and p-value\n",
    "print(\"The unpaired t-statistic is %.2f with a p-value of %.3f.\" % (unpaired_res[0], unpaired_res[1]))\n",
    "\n",
    "# paired t test\n",
    "paired_res = stats.ttest_rel(helium_vals, air_vals) # tuple, t-stat and p-value\n",
    "print(\"The paired t-statistic is %.2f with a p-value of %.3f.\" % (paired_res[0], paired_res[1]))\n",
    "\n",
    "# mann whitney\n",
    "mw_test = stats.ranksums(helium_vals, air_vals) # tuple, z-value and p-value\n",
    "print(\"The p-value for the MW test is %.3f.\" % mw_test[1])"
   ]
  },
  {
   "cell_type": "markdown",
   "metadata": {},
   "source": [
    "So there is no significant difference between an air filled and a helium filled 'pigskin' in height reached after a kick."
   ]
  },
  {
   "cell_type": "markdown",
   "metadata": {},
   "source": [
    "### Plots with ```matplotlib.pyplot``` via ```pandas```"
   ]
  },
  {
   "cell_type": "code",
   "execution_count": 4,
   "metadata": {},
   "outputs": [
    {
     "data": {
      "image/png": "[encoded data removed]",
      "text/plain": [
       "<Figure size 432x288 with 2 Axes>"
      ]
     },
     "metadata": {},
     "output_type": "display_data"
    },
    {
     "data": {
      "image/png": "[encoded data removed]",
      "text/plain": [
       "<Figure size 432x288 with 1 Axes>"
      ]
     },
     "metadata": {},
     "output_type": "display_data"
    }
   ],
   "source": [
    "# matplotlib.pyplot and pandas\n",
    "heliumM.hist(column='value', by=heliumM['variable'], grid=False, bins=10, rot=45)\n",
    "plt.show()\n",
    "heliumM.boxplot(column='value', by='variable')\n",
    "plt.show()"
   ]
  },
  {
   "cell_type": "markdown",
   "metadata": {},
   "source": [
    "## Homework 1\n",
    "\n",
    "The energy.txt file (from the R package [ISwR](https://cran.r-project.org/web/packages/ISwR/index.html), but originally from [Practical Statistics for Medical Research](http://www.amazon.co.uk/Practical-Statistics-Medical-Research-Statistical/dp/0412276305)) contains data on energy expenditure (in MJ) and stature (obese or lean) from 22 women. \n",
    "\n",
    "Read the data into a ```pandas``` dataframe. \n",
    "\n",
    "How many are in each group? Create boxplots of this data by stature. Comment on these boxplots - i.e. what do you see? \n",
    "\n",
    "Examine the data for normality by creating histograms for each group. \n",
    "\n",
    "Print the mean energy expenditure for each group and create barplots with error bars showing the standard error (```ci=68```) of the mean energy expenditure for each group. \n",
    "\n",
    "Finally carry out a statistical test (you can choose $t$-test or MW test depending on your interpretation of the histograms) to examine whether mean energy expenditure is the same in each group."
   ]
  },
  {
   "cell_type": "code",
   "execution_count": 5,
   "metadata": {},
   "outputs": [
    {
     "name": "stdout",
     "output_type": "stream",
     "text": [
      "lean     13\n",
      "obese     9\n",
      "Name: stature, dtype: int64\n"
     ]
    },
    {
     "data": {
      "image/png": "[encoded data removed]",
      "text/plain": [
       "<Figure size 432x288 with 1 Axes>"
      ]
     },
     "metadata": {},
     "output_type": "display_data"
    }
   ],
   "source": [
    "import pandas as pd\n",
    "import matplotlib.pyplot as plt\n",
    "import scipy.stats as stats\n",
    "import seaborn as sns\n",
    "\n",
    "energy = pd.read_csv('data/energy.txt', sep='\\t')\n",
    "print(energy['stature'].value_counts())\n",
    "\n",
    "sns.boxplot(x='stature', y='expend', data=energy)\n",
    "plt.xlabel('Stature')\n",
    "plt.ylabel('Energy Expenditure (MJ)')\n",
    "plt.show()"
   ]
  },
  {
   "cell_type": "markdown",
   "metadata": {},
   "source": [
    "The energy expenditure in the obese women is considerably higher than in the lean women and the data for the obese women is also more variable. There are however a few outliers in the lean data."
   ]
  },
  {
   "cell_type": "code",
   "execution_count": 6,
   "metadata": {},
   "outputs": [
    {
     "data": {
      "image/png": "[encoded data removed]",
      "text/plain": [
       "<Figure size 432x216 with 2 Axes>"
      ]
     },
     "metadata": {},
     "output_type": "display_data"
    }
   ],
   "source": [
    "# histograms from normality\n",
    "g = sns.FacetGrid(energy, col='stature')\n",
    "g.map(plt.hist, 'expend', lw=0)\n",
    "plt.show()"
   ]
  },
  {
   "cell_type": "markdown",
   "metadata": {},
   "source": [
    "From the histograms we see that these data are not particularly normal so we will use the Mann-Whitney test here."
   ]
  },
  {
   "cell_type": "code",
   "execution_count": 7,
   "metadata": {},
   "outputs": [
    {
     "data": {
      "image/png": "[encoded data removed]",
      "text/plain": [
       "<Figure size 432x288 with 1 Axes>"
      ]
     },
     "metadata": {},
     "output_type": "display_data"
    },
    {
     "name": "stdout",
     "output_type": "stream",
     "text": [
      "The mean energy expenditure in lean women is 8.1MJ and the mean energy expenditure in obese women is 10.3MJ.\n",
      "The p-value for the difference in mean energy expenditure is 0.0019.\n"
     ]
    }
   ],
   "source": [
    "# barplots\n",
    "sns.barplot(x='stature', y='expend', data=energy, ci=68)\n",
    "plt.xlabel('Stature')\n",
    "plt.ylabel('Energy Expenditure (MJ)')\n",
    "plt.title('Energy Expenditure by stature')\n",
    "plt.show()\n",
    "\n",
    "group_mns = energy.groupby('stature')['expend'].mean()\n",
    "#group_means = data_in.groupby('Gender')['Time'].mean()\n",
    "\n",
    "print('The mean energy expenditure in lean women is %.1fMJ and the mean energy expenditure in obese women is %.1fMJ.' \\\n",
    "% (group_mns[0], group_mns[1]))\n",
    "\n",
    "ob_data = energy[energy['stature']=='obese']['expend']\n",
    "ln_data = energy[energy['stature']=='lean']['expend']\n",
    "mw_res = stats.ranksums(ob_data, ln_data)\n",
    "print('The p-value for the difference in mean energy expenditure is %.4f.' % mw_res[1])"
   ]
  },
  {
   "cell_type": "markdown",
   "metadata": {},
   "source": [
    "## Homework 2 - optional\n",
    "\n",
    "The energy_intake.txt file, also originally from [Practical Statistics for Medical Research](http://www.amazon.co.uk/Practical-Statistics-Medical-Research-Statistical/dp/0412276305), contains paired data on the energy intake of 11 women pre and post menstruation. When we have two continuous variables like this we are often interested in the relationship between the variables and we might expect that pre and post energy intake would demonstrate a linear relationship. \n",
    "\n",
    "In this exercise you should read the data into a ```pandas``` dataframe from the data folder and generate a scatter plot with a line of best fit. Scatter plots are ideal for visualising the relationship between continuous variables. Above we used the ```seaborn.lmplot()``` function but set the argument that generates a best fit line to ```False```. In this exercise you will have to include set this argument to ```True```. ```lmplot()``` also generates a confidence interval for the line (i.e. where the line could plausibly go if you repeated the experiment). You can keep this in or remove it from the plot depending on taste.\n",
    "\n",
    "Once you have generated the plot you can examine the strength of the relationship between the pre and post energy intake levels. This is best done with the [```scipy.stats.linregress```](http://docs.scipy.org/doc/scipy-0.15.1/reference/generated/scipy.stats.linregress.html#scipy.stats.linregress) function. This function calculates the coefficients for the line of best fit (i.e. the slope and the intercept) but also returns the correlation coefficient (Pearsons' $\\rho$ (rho)), a $p$-value to indicate whether the line is significantly different from zero or not. These are returned in a tuple (slope, intercept, Pearsons $\\rho$, $p$-value, standard error for slope).\n",
    "\n",
    "There is also a function to calculate only Pearsons $\\rho$ and a $p$-value -  [```scipy.stats.pearsonr```](http://docs.scipy.org/doc/scipy-0.15.1/reference/generated/scipy.stats.pearsonr.html). All you need to supply as arguments are the two variables you want the Pearson correlation for. This function returns a tuple containing the correlation coefficient and a $p$-value which tests whether the slope of the line is less than or greater than zero.\n",
    "\n",
    "You should test whether the relationship between pre- and post energy intake is a significant one by testing whether the slope of the best fit line is significantly different from zero.  What do the test and the plot tell you about the pre- and post energy intakes?\n",
    "\n",
    "Are the pre and post values different by Mann-Whitney Rank sum test?"
   ]
  },
  {
   "cell_type": "code",
   "execution_count": 8,
   "metadata": {},
   "outputs": [
    {
     "data": {
      "image/png": "[encoded data removed]",
      "text/plain": [
       "<Figure size 360x360 with 1 Axes>"
      ]
     },
     "metadata": {},
     "output_type": "display_data"
    }
   ],
   "source": [
    "import pandas as pd\n",
    "import matplotlib.pyplot as plt\n",
    "% matplotlib inline\n",
    "import scipy.stats as stats\n",
    "import seaborn as sns\n",
    "sns.set_style('white')\n",
    "\n",
    "energy_intake = pd.read_csv('data/energy_intake.txt', sep='\\t')\n",
    "energy_intake.head()\n",
    "sns.lmplot(x='pre', y='post', data=energy_intake, ci=None)\n",
    "plt.xlabel('Pre Energy Intake')\n",
    "plt.ylabel('Post Energy Intake')\n",
    "plt.show()"
   ]
  },
  {
   "cell_type": "code",
   "execution_count": 9,
   "metadata": {},
   "outputs": [
    {
     "name": "stdout",
     "output_type": "stream",
     "text": [
      "The slope of the line is 1.02, Pearsons r is 0.95 and the pvalue is 0.0000.\n",
      "The p-value for the difference between the means is 0.0278.\n"
     ]
    }
   ],
   "source": [
    "# is the slope significant?\n",
    "energy_regress = stats.linregress(energy_intake['pre'], energy_intake['post'])\n",
    "print('The slope of the line is %.2f, Pearsons r is %.2f and the pvalue is %.4f.' % \\\n",
    "(energy_regress[0], energy_regress[2], energy_regress[3]))\n",
    "\n",
    "mw_test = stats.ranksums(energy_intake['pre'], energy_intake['post'])\n",
    "print('The p-value for the difference between the means is %.4f.' % (mw_test[1]))"
   ]
  },
  {
   "cell_type": "markdown",
   "metadata": {},
   "source": [
    "Note that slope $p$-value above. If I was reporting that I'd report it as 'There was a signifincant linear relationship between pre and post energy intake ($p$<0.05).'"
   ]
  }
 ],
 "metadata": {
  "anaconda-cloud": {},
  "kernelspec": {
   "display_name": "Python 3",
   "language": "python",
   "name": "python3"
  },
  "language_info": {
   "codemirror_mode": {
    "name": "ipython",
    "version": 3
   },
   "file_extension": ".py",
   "mimetype": "text/x-python",
   "name": "python",
   "nbconvert_exporter": "python",
   "pygments_lexer": "ipython3",
   "version": "3.6.6"
  }
 },
 "nbformat": 4,
 "nbformat_minor": 1
}
