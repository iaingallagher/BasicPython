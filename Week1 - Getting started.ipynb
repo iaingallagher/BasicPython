{
 "cells": [
  {
   "cell_type": "markdown",
   "metadata": {},
   "source": [
    "# Introduction\n",
    "\n",
    "You should already have the [Anaconda](https://store.continuum.io/cshop/anaconda/) python distribution installed. If you haven't done this already then see the [pre course instructions](https://github.com/iaingallagher/BasicPython/blob/master/Pre-course%20instructions.md).  In this short example we'll show you some very basic moves with python. In the grand tradition of basic programming tutorials everywhere we'll start with a ```Hello World!``` programme. \n",
    "\n",
    "Whilst we're using python as the programming language in this course the Anaconda version of python comes with a bunch of extras that help us carry out various tasks. We'll see some of these as the course progresses. In particular Anaconda builds on a combination of python and extras called [IPython](https://en.wikipedia.org/wiki/IPython). Anaconda takes IPython and adds even more. The bundling of the python language with the extras is called a *distribution* (hence Anaconda python distribution)."
   ]
  },
  {
   "cell_type": "markdown",
   "metadata": {},
   "source": [
    "# Interactive mode\n",
    "\n",
    "We'll begin with a brief exploration of python in *interactive mode*.\n",
    "\n",
    "* Windows - Start -> IPython 3.5\n",
    "\n",
    "* OSX - start the terminal (Applications -> Utilities -> Terminal) and type ```ipython```.\n",
    "\n",
    "* Linux - start your terminal of choice and type ```ipython```.\n",
    "\n",
    "You'll find yourself at the *command prompt* for python which looks like this ```In [1]```. This is essentially python waiting for your instructions. Type the following lines and press return/enter after typing each line. The output you can expect is shown below."
   ]
  },
  {
   "cell_type": "code",
   "execution_count": 1,
   "metadata": {
    "collapsed": false
   },
   "outputs": [
    {
     "name": "stdout",
     "output_type": "stream",
     "text": [
      "Hello World!\n",
      "5\n",
      "Lots of python.Lots of python.Lots of python.Lots of python.Lots of python.\n"
     ]
    }
   ],
   "source": [
    "print(\"Hello World!\")\n",
    "3 + 2\n",
    "x = 3\n",
    "y = 2\n",
    "z = x+y\n",
    "print(z)\n",
    "phrase = 'Lots of python.'\n",
    "print(phrase * z)"
   ]
  },
  {
   "cell_type": "markdown",
   "metadata": {},
   "source": [
    "Running python at the command line (as you did above) is termed 'interactive mode'. You type some instructions and python executes them immediately and (often) returns some value to you. In the above examples ```python``` returned\n",
    "\n",
    "* ```Hello World``` \n",
    "* ```5```\n",
    "* the phrase ```Lots of python.``` five times.\n",
    "\n",
    "In the first example above you used the ```print``` statement to print the text 'Hello World!'. This is the traditional first thing to do when learning a new programming language. You get the language to ```print``` something (usually 'Hello World!'). Even though you don't (presumably) know any programming yet you can get a feel for how simple python is. If we wanted to so the same in e.g. ```Java``` (another popular beginner language) we'd have to do the following:"
   ]
  },
  {
   "cell_type": "markdown",
   "metadata": {
    "collapsed": false
   },
   "source": [
    "```java\n",
    "public class HelloWorld { \n",
    "   public static void main(String[] args) { \n",
    "      System.out.println(\"Hello, World\");\n",
    "   }\n",
    "}\n",
    "```"
   ]
  },
  {
   "cell_type": "markdown",
   "metadata": {},
   "source": [
    "Which is considerably more typing and considerably less understandable at a glance.\n",
    "\n",
    "After the basic print statement you carried out some simple arithmetic and finally (last two lines) assigned values to variables and then manipulated those variables. Running python in interactive mode like this is fine for experimenting but often you want to capture your python commands so you can re-use them. In other words you want to write a program."
   ]
  },
  {
   "cell_type": "markdown",
   "metadata": {},
   "source": [
    "# Writing a program"
   ]
  },
  {
   "cell_type": "markdown",
   "metadata": {},
   "source": [
    "To write a program you have to capture the instructions you want to issue in a text file. The file you use has to be pure text - you cannot use e.g. Word for typing up your ```python``` programmes and expect them to run. Word inserts a lot of characters into text that you never see (but you can turn on options to see them) that are to do with formatting text and layout.\n",
    "\n",
    "Instead, you have to use a text editor to type your python programmes. These do not insert hidden characters (well there are a couple of exceptions which we'll come to by and by). The text editor is a staple tool of the programmer (or any other computer nerd really) and so there are about 5000 of them. We will use the [atom](https://atom.io/) text editor. It's free, simple (but deep) and popular. You might also like to try [jedit](http://www.jedit.org/) or [sublime](http://www.sublimetext.com/) if you don't like atom. The latter only gives you a free trial period.\n",
    "\n",
    "Open the ```atom``` text editor and type the following. "
   ]
  },
  {
   "cell_type": "markdown",
   "metadata": {
    "collapsed": false
   },
   "source": [
    "```python\n",
    "#!/usr/bin/env python\n",
    "\n",
    "print(\"Hello from python!\")\n",
    "print(\"Now we're running from a file of commands.\")\n",
    "print(\"A proper programme!\")\n",
    "\n",
    "a = 54\n",
    "b = 2\n",
    "c = a**b\n",
    "\n",
    "print(\"54 squared is %d which is rather large.\" % c)\n",
    "```"
   ]
  },
  {
   "cell_type": "markdown",
   "metadata": {},
   "source": [
    "Save this file as ```example1.py``` in the folder you created for the course (again see the [pre course instructions](https://github.com/iaingallagher/BasicPython/blob/master/Pre-course%20instructions.md)). Now open the Command prompt (Win) or Terminal (OSX) and change directory so you are in the same folder as the script you just wrote. Note that the command line prompt is not the same as the ```python``` prompt (```In [1]```). \n",
    "\n",
    "How do you change directory at the command prompt?\n",
    "\n",
    "* On Windows the command line prompt will be ```C:\\>``` (or possibly ```H:\\>``` if your using a University computer). If you've saved the python script you just wrote in a folder called ```python``` on your Desktop you'd type:\n",
    "\n",
    "```\n",
    "cd \\Desktop\\python\n",
    "```\n",
    "\n",
    "* On Macs & Linux the command line prompt will look something like ```iain@iain-ijg-krs:~$```. On OSX (Mac or on linux) if you've saved the python script you just wrote in a folder called ```python``` on your Desktop you'd type:\n",
    "\n",
    "``` \n",
    "cd Desktop/python\n",
    "```\n",
    "\n",
    "Finally type the text below at the command line prompt."
   ]
  },
  {
   "cell_type": "markdown",
   "metadata": {
    "collapsed": false
   },
   "source": [
    "```python example1.py```"
   ]
  },
  {
   "cell_type": "markdown",
   "metadata": {},
   "source": [
    "You should see the text below."
   ]
  },
  {
   "cell_type": "markdown",
   "metadata": {},
   "source": [
    "```\n",
    "Hello from python!\n",
    "Now we're running from a file of commands.\n",
    "A proper programme!\n",
    "54 squared is 2916 which is rather large.\n",
    "```"
   ]
  },
  {
   "cell_type": "markdown",
   "metadata": {},
   "source": [
    "If that went as planned congratulations - you just wrote and ran a computer program! In the python world programmes like this are generally referred to as scripts because python is a scripting language. You can read more about the differences between scripting (interpreted) languages and compiled languages [here](http://www.codeproject.com/Articles/696764/Differences-between-compiled-and-Interpreted-Langu) or watch a video [here](https://www.youtube.com/watch?v=5EzJCynV-NU). Let's break down what you just did and in particular the structure of the program.\n",
    "\n",
    "In this example you have recorded the python commands you want to run in a script and then told python to read that script and run those commands. This is very useful if you have to run the same commands over and over again, perhaps to redo the same analysis in datasets you get at different times. We'll see an examples of this later in the course."
   ]
  }
 ],
 "metadata": {
  "anaconda-cloud": {},
  "kernelspec": {
   "display_name": "Python [default]",
   "language": "python",
   "name": "python3"
  },
  "language_info": {
   "codemirror_mode": {
    "name": "ipython",
    "version": 3
   },
   "file_extension": ".py",
   "mimetype": "text/x-python",
   "name": "python",
   "nbconvert_exporter": "python",
   "pygments_lexer": "ipython3",
   "version": "3.5.2"
  }
 },
 "nbformat": 4,
 "nbformat_minor": 0
}
