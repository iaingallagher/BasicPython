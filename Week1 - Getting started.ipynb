{
 "cells": [
  {
   "cell_type": "markdown",
   "metadata": {},
   "source": [
    "# Introduction\n",
    "\n",
    "You should already have the [Anaconda](https://www.anaconda.com/download/) python distribution installed. If you haven't done this already then see the [pre course instructions](https://gitlab.com/iaingallagher/BasicPython/blob/master/Week1%20-%20Getting%20started.ipynb).  In this short example we'll show you some very basic moves with python. In the grand tradition of basic programming tutorials everywhere we'll start with a ```Hello World!``` programme. \n",
    "\n",
    "Whilst we're using python as the programming language in this course the Anaconda version of python comes with a bunch of extras that help us carry out various tasks. We'll see some of these as the course progresses. In particular Anaconda builds on a combination of python and extras called [IPython](https://en.wikipedia.org/wiki/IPython). Anaconda takes IPython and adds even more. The bundling of the python language with the extras is called a *distribution* (hence Anaconda python distribution)."
   ]
  },
  {
   "cell_type": "markdown",
   "metadata": {},
   "source": [
    "# Interactive mode\n",
    "\n",
    "We'll begin with a brief exploration of python in *interactive mode*.\n",
    "\n",
    "* Windows - Start -> IPython 3.5\n",
    "\n",
    "* OSX - start the terminal (Applications -> Utilities -> Terminal) and type ```ipython```.\n",
    "\n",
    "* Linux - start your terminal of choice and type ```ipython```.\n",
    "\n",
    "You'll find yourself at the *command prompt* for Ipython which looks like this ```In [1]```. This is essentially python waiting for your instructions. Type the following lines and press return/enter after typing each line. The output you can expect is shown below."
   ]
  },
  {
   "cell_type": "code",
   "execution_count": 1,
   "metadata": {},
   "outputs": [
    {
     "name": "stdout",
     "output_type": "stream",
     "text": [
      "Hello World!\n",
      "5\n",
      "Lots of python.Lots of python.Lots of python.Lots of python.Lots of python.\n"
     ]
    }
   ],
   "source": [
    "print(\"Hello World!\")\n",
    "3 + 2\n",
    "x = 3\n",
    "y = 2\n",
    "z = x+y\n",
    "print(z)\n",
    "phrase = 'Lots of python.'\n",
    "print(phrase * z)"
   ]
  },
  {
   "cell_type": "markdown",
   "metadata": {},
   "source": [
    "Running python at the command line (as you did above) is termed 'interactive mode'. You type some instructions and python executes them immediately and (often) returns some value to you. In the above examples ```python``` returned\n",
    "\n",
    "* ```Hello World``` \n",
    "* ```5```\n",
    "* the phrase ```Lots of python.``` five times.\n",
    "\n",
    "In the first example above you used the ```print``` statement to print the text 'Hello World!'. This is the traditional first thing to do when learning a new programming language. You get the language to ```print``` something (usually 'Hello World!'). Even though you don't (presumably) know any programming yet you can get a feel for how simple python is. If we wanted to so the same in e.g. ```Java``` (another popular beginner language) we'd have to do the following:"
   ]
  },
  {
   "cell_type": "markdown",
   "metadata": {},
   "source": [
    "```java\n",
    "public class HelloWorld { \n",
    "   public static void main(String[] args) { \n",
    "      System.out.println(\"Hello, World\");\n",
    "   }\n",
    "}\n",
    "```"
   ]
  },
  {
   "cell_type": "markdown",
   "metadata": {},
   "source": [
    "Which is considerably more typing and considerably less understandable at a glance.\n",
    "\n",
    "After the basic print statement you carried out some simple arithmetic and finally (last two lines) assigned values to variables and then manipulated those variables. \n",
    "\n",
    "If that went as planned congratulations - you just wrote and ran a computer program! In the python world programmes like this are generally referred to as scripts because python is a scripting language. You can read more about the differences between scripting (interpreted) languages and compiled languages [here](http://www.codeproject.com/Articles/696764/Differences-between-compiled-and-Interpreted-Langu) or watch a video [here](https://www.youtube.com/watch?v=5EzJCynV-NU). Let's break down what you just did and in particular the structure of the program.\n",
    "\n",
    "In this example you have simply typed in python commands and each time you have pressed 'Enter' (or \"Return') python has done something for you. In the course we won't run python this way. Instead we'll use a specific 'environment' called the [Jupyter Notebook](http://jupyter.org/). This software allows you to mix programming with text and is a very useful (and popular) tool in data science. The notebook is installed as part of the Anaconda python distribution.\n",
    "\n",
    "The course notes (which you are currently reading) were written with the jupyter notebook."
   ]
  }
 ],
 "metadata": {
  "anaconda-cloud": {},
  "kernelspec": {
   "display_name": "Python 3",
   "language": "python",
   "name": "python3"
  },
  "language_info": {
   "codemirror_mode": {
    "name": "ipython",
    "version": 3
   },
   "file_extension": ".py",
   "mimetype": "text/x-python",
   "name": "python",
   "nbconvert_exporter": "python",
   "pygments_lexer": "ipython3",
   "version": "3.6.6"
  }
 },
 "nbformat": 4,
 "nbformat_minor": 1
}
