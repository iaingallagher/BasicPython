{
 "cells": [
  {
   "cell_type": "markdown",
   "metadata": {},
   "source": [
    "## Introduction\n",
    "\n",
    "Often in programs we have to make some decision based on the data. To make decisions in programmes we rely on **boolean** expressions. Boolean expressions evaluate to either ```True``` or ```False```. They are eponomously named for an English mathematician whose work included an early formalisation of the algebra of logic,  [George Boole](http://en.wikipedia.org/wiki/George_Boole).\n",
    "\n",
    "In this unit we'll introduce boolean expressions and explain how we can use them to regulate the flow of our programs."
   ]
  },
  {
   "cell_type": "markdown",
   "metadata": {},
   "source": [
    "## Boolean Expressions\n",
    "\n",
    "As noted above a boolean expression is an expression that is either ```True``` or ```False```. That might seem rather abstract so let's take a concrete example. When you log into your email account or log on to your computer you use a password. Somewhere in the system will be a little programmed routine that checks the equality of the password you typed in against the password stored on the system. These must match *exactly*. If they do then the comparison will return a ```True``` value to the system and allow you to log in to your account. This is simulated in the example below."
   ]
  },
  {
   "cell_type": "code",
   "execution_count": 1,
   "metadata": {},
   "outputs": [
    {
     "data": {
      "text/plain": [
       "True"
      ]
     },
     "execution_count": 1,
     "metadata": {},
     "output_type": "execute_result"
    }
   ],
   "source": [
    "stored_password = 'scooby_snacks' # stored in the system\n",
    "my_password = 'scooby_snacks' # this is not my real password!!\n",
    "\n",
    "my_password == stored_password # are the passwords the same?"
   ]
  },
  {
   "cell_type": "markdown",
   "metadata": {},
   "source": [
    "In this example the boolean value returned is ```True``` and, if it were the programmer's intention, you would be logged on to the system."
   ]
  },
  {
   "cell_type": "code",
   "execution_count": 2,
   "metadata": {},
   "outputs": [
    {
     "data": {
      "text/plain": [
       "False"
      ]
     },
     "execution_count": 2,
     "metadata": {},
     "output_type": "execute_result"
    }
   ],
   "source": [
    "stored_password = 'scooby_snacks' # stored in the system\n",
    "my_password = 'scooby_Snacks' # case difference\n",
    "my_password == stored_password"
   ]
  },
  {
   "cell_type": "markdown",
   "metadata": {},
   "source": [
    "This time the comparison comes back ```False``` and we would not be allowed to log in to the system. Something like this lies at the heart of every password protected system."
   ]
  },
  {
   "cell_type": "markdown",
   "metadata": {},
   "source": [
    "### Boolean operators\n",
    "\n",
    "The values in the examples above were compared for equality with the equality operator, ```==```. The ```==``` operator asks the question 'Are these values equal?'. The ```==``` operator is an example of a boolean operator in that it evaluates to a value of ```True``` or ```False```. Remember that a single ```=``` is used to assign variables and does not mean *equal to*. There are several other boolean operators. They are:\n",
    "\n",
    "* x != y - ```x``` is **not equal** to ```y```\n",
    "* x < y - ```x``` is **less than** ```y```\n",
    "* x > y - ```x``` x is **greater than** ```y```\n",
    "* x <= y - ```x``` is **less than or equal** to ```y```\n",
    "* x >= y - ```x``` is **greater than or equal** to ```y```\n",
    "* x is y  - ```x``` is **the same** as ```y```\n",
    "* x is not y - ```x``` is **not the same** as ```y```\n",
    "\n",
    "There are also three boolean keywords in python and these are:\n",
    "\n",
    "* **and** - ```x > 10 and x < 15``` - ```x``` is greater than 10 **and** less than 15\n",
    "* **or** - ```x%2 == 0 or x%3 == 0``` - ```x``` is divisible by two **or** three\n",
    "* **not** - ```not x%3 == 0``` - ```x``` is **not** divisible by three"
   ]
  },
  {
   "cell_type": "markdown",
   "metadata": {},
   "source": [
    "## Acting on conditions - the ```if``` statement\n",
    "\n",
    "We can use boolean operators to set up conditions and act on those conditions. The ```modulo``` operator can be used to decide *if* a number is odd or even. The key here is *if*! Just as in real life we make decisions inside computer programmes by using \"if that then this\" type logic. The python keyword  ```if``` is used to set up the comparison. Let's see how this works by checking if a number is divisible by 2."
   ]
  },
  {
   "cell_type": "code",
   "execution_count": 3,
   "metadata": {},
   "outputs": [
    {
     "name": "stdout",
     "output_type": "stream",
     "text": [
      "68 is even.\n"
     ]
    }
   ],
   "source": [
    "n = 68\n",
    "\n",
    "if n%2 == 0:\n",
    "    print('%d is even.' % n)\n",
    "if n%2 !=0:\n",
    "    print('%d is odd.' % n)"
   ]
  },
  {
   "cell_type": "markdown",
   "metadata": {},
   "source": [
    "First we create a variable, ```n``` which has some numeric value. The next part is where we use conditionals and there are a couple of points here. Firstly the comparison is done with the ```if``` keyword. In the first use of the ```if``` keyword we are saying ```if``` the modulo of ```n``` is 0 when dividing by 2 then tell us the number is even. However ```if``` the modulo of ```n``` when dividing by 2 is not equal to 0 then tell us the number is odd. We use string formatting to print the value of our variable along with information about whether it is even or not.\n",
    "\n",
    "The second point to note is the syntax used. We end the line with the ```if``` statement with a colon and **the next line is indented by one tab stop** (four spaces by convention). This use of indentation is more important than you might think. Python uses whitespace like this to decide where **blocks** of code begin and end. In this example we want to execute a specific block of code ```if n%2==0```. But if this condition is not met (i.e. ```n%2!=0```) we want to skip to the next ```if``` statement and check that instead. By indenting the conditional action we are telling python that the code block can be skipped if the condition isn't met. So if the condition isn't met the print statement for that condition is never executed. Indentation in python (unlike many other programming lagnuages) is important and I would encourage you to read more about it e.g. [here](http://www.annedawson.net/Python_Spaces_Indentation.html) or [here](http://www.tutorialspoint.com/python/python_basic_syntax.htm) (see Lines and Indentation section). In particular note that any block defined by indentation has to be consistently indented. For the same statement you can't have one line indented four spaces and another indented 2 spaces etc."
   ]
  },
  {
   "cell_type": "markdown",
   "metadata": {},
   "source": [
    "### Collecting data with ```input()```\n",
    "\n",
    "Now we'll introduce a new function to get information from the user and again use string formatting to feedback to users of your software. \n",
    "\n",
    "Suppose you wanted to tell people whether they were normal or overweight based on a BMI they entered into your programme. There are three main things you have to do here.\n",
    "\n",
    "* First get the BMI value from the user\n",
    "* Second decide what to do based on that BMI\n",
    "* Third feedback your decision to the user\n",
    "\n",
    "To get input from the user we use the ```input()``` function. This captures text the user types in response to some prompt."
   ]
  },
  {
   "cell_type": "code",
   "execution_count": 4,
   "metadata": {},
   "outputs": [
    {
     "name": "stdout",
     "output_type": "stream",
     "text": [
      "Please enter your BMI: 25\n",
      "25\n"
     ]
    }
   ],
   "source": [
    "bmi = input('Please enter your BMI: ')\n",
    "print(bmi)"
   ]
  },
  {
   "cell_type": "markdown",
   "metadata": {},
   "source": [
    "The first line above prompts the user with the phrase 'Please enter your BMI: ', they enter their BMI and this value is captured into the variable ```bmi```. The [```input()```](https://docs.python.org/3/library/functions.html#input) function is the function we use to capture data the user types into our programme.\n",
    "\n",
    "Now we have captured the data we want to do something with it. The ```input``` function always captures strings and we will want to convert our ```bmi``` variable into one of the numeric types so we can compare it to the cutoffs for normal or obese. We can use the ```float()``` function for this. We can then compare the value of ```bmi``` to some other value and decide what to do. Once again we will use the ```if``` keyword to set up our comparison.\n",
    "\n",
    "In the code below we fix the value of the variable ```bmi``` at 28 just for illustrative purposes."
   ]
  },
  {
   "cell_type": "code",
   "execution_count": 5,
   "metadata": {},
   "outputs": [
    {
     "name": "stdout",
     "output_type": "stream",
     "text": [
      "Your BMI is 28.00.\n",
      "You have a high BMI.\n"
     ]
    }
   ],
   "source": [
    "bmi='28' # bmi starts as a string\n",
    "bmi = float(bmi)\n",
    "    \n",
    "print('Your BMI is %.2f.' % bmi)\n",
    "\n",
    "if bmi <= 25.0: # less than or equal to 25?\n",
    "    print('You have a normal BMI.')\n",
    "if bmi > 25.0: # more than 25?\n",
    "    print('You have a high BMI.')"
   ]
  },
  {
   "cell_type": "markdown",
   "metadata": {},
   "source": [
    "There's quite a lot going on here so let's look at each part.\n",
    "\n",
    "First we take the variable ```bmi``` and convert it from type ```str``` to type ```float```. Then we use a ```print``` statement with [string formatting](http://www.learnpython.org/en/String_Formatting). Recall that the ```%f``` notation is a placeholder for some float value you'll insert into the string later. However in this example we've added the ```.2``` - this means 'present the float to two decimal places'.\n",
    "\n",
    "The next part is where we use conditionals. If the BMI entered is less than or equal to 25 we tell the user they have normal BMI; if the entered BMI is more than 25 we tell them that their BMI is high.\n",
    "\n",
    "Let's see what happens if we don't indent the conditional code."
   ]
  },
  {
   "cell_type": "code",
   "execution_count": 6,
   "metadata": {},
   "outputs": [
    {
     "ename": "IndentationError",
     "evalue": "expected an indented block (<ipython-input-6-20166c11b7e7>, line 7)",
     "output_type": "error",
     "traceback": [
      "\u001b[0;36m  File \u001b[0;32m\"<ipython-input-6-20166c11b7e7>\"\u001b[0;36m, line \u001b[0;32m7\u001b[0m\n\u001b[0;31m    print('You have a normal BMI.')\u001b[0m\n\u001b[0m        ^\u001b[0m\n\u001b[0;31mIndentationError\u001b[0m\u001b[0;31m:\u001b[0m expected an indented block\n"
     ]
    }
   ],
   "source": [
    "bmi='28'\n",
    "bmi = float(bmi)\n",
    "    \n",
    "print('Your BMI is %d.' % bmi)\n",
    "\n",
    "if bmi <= 25.0:\n",
    "print('You have a normal BMI.')\n",
    "if bmi > 25.0:\n",
    "    print('You have a high BMI.')"
   ]
  },
  {
   "cell_type": "markdown",
   "metadata": {},
   "source": [
    "Python tells use there's a problem and specifically an ```IndentationError```. Useful!"
   ]
  },
  {
   "cell_type": "markdown",
   "metadata": {},
   "source": [
    "## Putting it all together!\n",
    "\n",
    "Rewrite the code above so that it also tells the user whether they are obese (BMI > 30) or underweight (BMI < 18). \n",
    "\n",
    "Hint: You'll need to add further ```if``` statements and you'll need to use the boolean keyword ```and``` in those if statements. Test your code with different values for BMI."
   ]
  },
  {
   "cell_type": "markdown",
   "metadata": {},
   "source": [
    "## ```else``` statements\n",
    "\n",
    "Chaining ```if``` statements together as you did in the last exercise isn't the recommended way to make several comparisons - it's inefficient since all conditions are always tested. There's another python keyword we can make use of in situations where we want to make a comparison and then simply move on if the comparison is ```False```. That keyword is ```else```. There is also a specific keyword for the situation we encountered in the exercise with chained ```if``` statements. We can use ```elif``` - a combination of ```else``` and ```if```. Let's see these in action with a couple of examples.\n",
    "\n",
    "Suppose you were asked to write a programme for a robot dietician that would check to see whether weight loss diet was recommended for a user. One way to approach this would be a simple cutoff based on BMI. If the user has a BMI greater than 25 you would recommend weight loss; if the BMI was 25 or less you would not recommend weight loss. The recommendation  decision could be carried out by an ```if-else``` conditional."
   ]
  },
  {
   "cell_type": "code",
   "execution_count": 7,
   "metadata": {},
   "outputs": [
    {
     "name": "stdout",
     "output_type": "stream",
     "text": [
      "Your BMI is 28.00.\n",
      "Weight loss is recommended.\n",
      "Consultation over.\n"
     ]
    }
   ],
   "source": [
    "bmi = '28' # again we hardcode bmi but you would use input() here\n",
    "\n",
    "bmi = float(bmi)\n",
    "\n",
    "print('Your BMI is %.2f.' % bmi)\n",
    "\n",
    "if bmi > 25:\n",
    "    print('Weight loss is recommended.')\n",
    "else:\n",
    "    print('Weight loss is not recommended.')  \n",
    "    \n",
    "print('Consultation over.')    "
   ]
  },
  {
   "cell_type": "markdown",
   "metadata": {},
   "source": [
    "In the code above the ```else``` statement takes care of the condition if it evaluates to ```False```, that is if BMI is not greater than 25. Notice that like the ```if``` statement the ```else``` statement is closed with a colon and the action to be taken if the ```else``` statement evaluates to ```True``` is indented.\n",
    "\n",
    "Now to make your robot dietician a little more sophisticated! We would also like to recommend to people with a low BMI (< 18) they actually strive to gain weight. In this case we can use the ```elif``` keyword to insert another action based on that condition."
   ]
  },
  {
   "cell_type": "code",
   "execution_count": 8,
   "metadata": {},
   "outputs": [
    {
     "name": "stdout",
     "output_type": "stream",
     "text": [
      "Your BMI is 15.00.\n",
      "Weight gain is recommended.\n",
      "Consultation over.\n"
     ]
    }
   ],
   "source": [
    "bmi = '15' # again we hardcode bmi but you would use raw_input() here\n",
    "\n",
    "bmi = float(bmi)\n",
    "\n",
    "print('Your BMI is %.2f.' % bmi)\n",
    "\n",
    "if bmi > 25:\n",
    "    print('Weight loss is recommended.')\n",
    "    \n",
    "elif bmi < 18:\n",
    "    print('Weight gain is recommended.')\n",
    "    \n",
    "else:\n",
    "    print('Your BMI is normal. No action required.')   \n",
    "    \n",
    "print('Consultation over.')  "
   ]
  },
  {
   "cell_type": "markdown",
   "metadata": {},
   "source": [
    "The ```elif``` statement has allowed us to make more than a simple two way decision.\n",
    "\n",
    "Code written using ```if```, ```else``` and ```elif``` statements will take different actions depending on the outcome of the comparisons made in those statements. For this reason the code is said to **branch**. In the last example above there were different ```print``` statements on different branches of the code.\n",
    "\n",
    "Sometimes we might want to test conditions within conditions. This structure is called a **nested conditional**."
   ]
  },
  {
   "cell_type": "code",
   "execution_count": 9,
   "metadata": {},
   "outputs": [
    {
     "name": "stdout",
     "output_type": "stream",
     "text": [
      "The variable x is larger than the variable y.\n"
     ]
    }
   ],
   "source": [
    "x = 5\n",
    "y = 4\n",
    "\n",
    "if x == y:\n",
    "    print('The variables are equal.')\n",
    "    \n",
    "else:\n",
    "    if x < y:\n",
    "        print('The variable x is smaller than the variable y.')\n",
    "        \n",
    "    else:\n",
    "        print('The variable x is larger than the variable y.')"
   ]
  },
  {
   "cell_type": "markdown",
   "metadata": {},
   "source": [
    "Whilst this works and the indentation makes the structure apparent it's still quite hard to read. Nested conditionals are best avoided if possible. The example above would be much better with ```elif``` and one level of indentation. "
   ]
  },
  {
   "cell_type": "code",
   "execution_count": 10,
   "metadata": {},
   "outputs": [
    {
     "name": "stdout",
     "output_type": "stream",
     "text": [
      "The variable x is larger than the variable y.\n"
     ]
    }
   ],
   "source": [
    "x = 5\n",
    "y = 4\n",
    "\n",
    "if x == y:\n",
    "    print('The variables are equal.')\n",
    "elif x < y:\n",
    "    print('The variable x is smaller than the variable y.')\n",
    "else:\n",
    "    print('The variable x is larger than the variable y.')"
   ]
  },
  {
   "cell_type": "markdown",
   "metadata": {},
   "source": [
    "Often one of the boolean keywords (```and```, ```not```, ```or```) can be used to make nested conditionals easier to read - especially true in python where the boolean keywords are English words!"
   ]
  },
  {
   "cell_type": "code",
   "execution_count": 11,
   "metadata": {},
   "outputs": [
    {
     "name": "stdout",
     "output_type": "stream",
     "text": [
      "x lies between 0 and 10.\n"
     ]
    }
   ],
   "source": [
    "x = 4\n",
    "if 0 < x:\n",
    "    if 10 > x:\n",
    "        print('x lies between 0 and 10.')"
   ]
  },
  {
   "cell_type": "markdown",
   "metadata": {},
   "source": [
    "The above can be simplified using the boolean ```and``` keyword."
   ]
  },
  {
   "cell_type": "code",
   "execution_count": 12,
   "metadata": {},
   "outputs": [
    {
     "name": "stdout",
     "output_type": "stream",
     "text": [
      "x lies between 0 and 10.\n"
     ]
    }
   ],
   "source": [
    "if 0 < x and x < 10:\n",
    "    print('x lies between 0 and 10.')"
   ]
  },
  {
   "cell_type": "markdown",
   "metadata": {},
   "source": [
    "## Putting it together!\n",
    "\n",
    "Write a python programme that uses the ```input``` function to prompt a user for their height and weight. Your programme should then calculate the users BMI and print this out to one decimal place along with a message telling them whether their BMI is high or low."
   ]
  },
  {
   "cell_type": "markdown",
   "metadata": {},
   "source": [
    "## Catching exceptions - ```try``` & ```except```\n",
    "\n"
   ]
  },
  {
   "cell_type": "markdown",
   "metadata": {
    "collapsed": true
   },
   "source": [
    "Using the ```input()``` function to get data from users is useful but it's also open to abuse. How do you deal with situations where the user of your programme doesn't enter the right kind of data? For example in the bmi programme you wrote in the exercise above how would you deal with a user who entered their name instead of height or a user who just entered nonsense text? These situations are called **exceptions** and  they can crash your programme. Rather than crashing the programme it would be nice if the exceptions were handled gracefully. This is the function of the ```try``` and ```except``` keywords. \n",
    "\n",
    "The ```try``` and ```except``` keywords are used as a pair. The ```try``` keyword is used to ```try``` and do something with the data and the ```except``` keyword is used to do something else if the code in the ```try``` statement fails. Let's see how this could work."
   ]
  },
  {
   "cell_type": "code",
   "execution_count": 13,
   "metadata": {},
   "outputs": [
    {
     "name": "stdout",
     "output_type": "stream",
     "text": [
      "Please enter your BMI: cake please\n",
      "Please enter a numeric value for your BMI.\n"
     ]
    }
   ],
   "source": [
    "bmi = input('Please enter your BMI: ')\n",
    "\n",
    "try:\n",
    "    bmi = float(bmi)\n",
    "except:\n",
    "    print('Please enter a numeric value for your BMI.')"
   ]
  },
  {
   "cell_type": "markdown",
   "metadata": {},
   "source": [
    "In this example if the attempt to convert the string variable ```bmi``` to type ```float``` fails the programme asks the user to enter a numeric value, which should be convertible to a ```float```. Notice that we don't have to try and guess what the user is going to enter we just have to act if the code in the ```try``` statement fails.\n",
    "\n",
    "You can think of the ```try``` and ```except``` feature in Python as an “insurance policy” on a sequence of statements.\n",
    "\n",
    "If the code in the ```try``` statement successfully executes then the rest of the programme would proceed as normal and the ```except``` statement would never run."
   ]
  },
  {
   "cell_type": "markdown",
   "metadata": {},
   "source": [
    "### The Guardian Pattern\n",
    "\n",
    "When Python is processing a logical expression such as:\n",
    "\n",
    "```\n",
    "x >= 2 and (x/y) > 2\n",
    "\n",
    "```\n",
    "the expression is evaluated from left-to-right. Because of the definition of the boolean ```and```, if x is less than 2, the expression ```x >= 2``` is ```False``` and so the whole expression is ```False``` regardless of whether ```(x/y) > 2``` evaluates to ```True``` or ```False```. \n",
    "\n",
    "When Python detects that there is nothing to be gained by evaluating the rest of a logical expression, it stops its evaluation and does not do the computations in the rest of the logical expression. When the evaluation of a logical expression stops because the overall value is already known, it is called **short-circuiting** the evaluation. \n",
    "\n",
    "While this may seem like a fine point, the short circuit behavior leads to a clever technique called the **guardian pattern**.\n",
    "\n",
    "Consider the following code."
   ]
  },
  {
   "cell_type": "code",
   "execution_count": 14,
   "metadata": {},
   "outputs": [
    {
     "data": {
      "text/plain": [
       "True"
      ]
     },
     "execution_count": 14,
     "metadata": {},
     "output_type": "execute_result"
    }
   ],
   "source": [
    "x = 6\n",
    "y = 2\n",
    "\n",
    "x >= 2 and (x/y) > 2"
   ]
  },
  {
   "cell_type": "markdown",
   "metadata": {},
   "source": [
    "This evaluates to ```True``` because both statements are ```True```. But then consider the following:"
   ]
  },
  {
   "cell_type": "code",
   "execution_count": 15,
   "metadata": {},
   "outputs": [
    {
     "ename": "ZeroDivisionError",
     "evalue": "division by zero",
     "output_type": "error",
     "traceback": [
      "\u001b[0;31m---------------------------------------------------------------------------\u001b[0m",
      "\u001b[0;31mZeroDivisionError\u001b[0m                         Traceback (most recent call last)",
      "\u001b[0;32m<ipython-input-15-354e48b0bd39>\u001b[0m in \u001b[0;36m<module>\u001b[0;34m()\u001b[0m\n\u001b[1;32m      2\u001b[0m \u001b[0my\u001b[0m \u001b[0;34m=\u001b[0m \u001b[0;36m0\u001b[0m\u001b[0;34m\u001b[0m\u001b[0m\n\u001b[1;32m      3\u001b[0m \u001b[0;34m\u001b[0m\u001b[0m\n\u001b[0;32m----> 4\u001b[0;31m \u001b[0mx\u001b[0m \u001b[0;34m>=\u001b[0m \u001b[0;36m2\u001b[0m \u001b[0;32mand\u001b[0m \u001b[0;34m(\u001b[0m\u001b[0mx\u001b[0m\u001b[0;34m/\u001b[0m\u001b[0my\u001b[0m\u001b[0;34m)\u001b[0m \u001b[0;34m>\u001b[0m \u001b[0;36m2\u001b[0m\u001b[0;34m\u001b[0m\u001b[0m\n\u001b[0m",
      "\u001b[0;31mZeroDivisionError\u001b[0m: division by zero"
     ]
    }
   ],
   "source": [
    "x = 6\n",
    "y = 0\n",
    "\n",
    "x >= 2 and (x/y) > 2"
   ]
  },
  {
   "cell_type": "markdown",
   "metadata": {},
   "source": [
    "Uh oh! The first condition (```x>=2```) evaluates to ```True``` but in the attempt to check the second condition division by zero is mathematically undefined and this crashes your programme. So we have a calculation here that, instead of returning a value results in an error. \n",
    "\n",
    "For the guardian pattern we construct a logical expression to strategically place a **guard** evaluation just before the potential error. The purpose of this is to prevent the problematic calculation if necessary. In this specific case we want to prevent the ```x/y``` calculation happening if ```y = 0```, so we make sure that calculation can only happen if ```y``` is **not** equal to zero."
   ]
  },
  {
   "cell_type": "code",
   "execution_count": 16,
   "metadata": {},
   "outputs": [
    {
     "data": {
      "text/plain": [
       "False"
      ]
     },
     "execution_count": 16,
     "metadata": {},
     "output_type": "execute_result"
    }
   ],
   "source": [
    "x = 6\n",
    "y = 0\n",
    "\n",
    "x >= 2 and y!=0 and (x/y) > 2"
   ]
  },
  {
   "cell_type": "markdown",
   "metadata": {},
   "source": [
    "With the guardian pattern, instead of crashing the programme with an error the code evaluates to ```False``` and whatever we wanted to happen under that circumstance can proceed. We have taken advantage of the fact that python stops evaluating the logical expression early because the ```y != 0``` statement is ```False``` to prevent the potentially problematic ```x/y``` evaluation from happening. "
   ]
  },
  {
   "cell_type": "markdown",
   "metadata": {},
   "source": [
    "## Putting it together!\n",
    "\n",
    "Rewrite your BMI programme using a ```try``` and ```except``` statements to catch inappropriate data entry by the user and a guardian pattern to prevent potential crashes due to zero division."
   ]
  },
  {
   "cell_type": "markdown",
   "metadata": {},
   "source": [
    "## Homework\n",
    "Write a script that will prompt the user for their waist measurement (in cm) and hip measurement (in cm). Use ```try-except``` statements to make sure numeric values are entered. Print the waist and hip measurements out. Using these values calculate the waist-to-hip ratio (WHR) and print this value to one decimal place as part of a message telling the user whether their health is not at risk, moderately at risk or at high risk based on the WHR you have calculated.\n",
    "\n",
    "There are guidelines you can use for your cutoffs [here](http://www.bmi-calculator.net/waist-to-hip-ratio-calculator/waist-to-hip-ratio-chart.php).\n",
    "\n",
    "\n",
    "The user should be prompted for the relavant variables and the output from your script should look something like:"
   ]
  },
  {
   "cell_type": "markdown",
   "metadata": {},
   "source": [
    "    The waist measurement is 101.3cm.\n",
    "    The hip measurement is 99.7cm.\n",
    "\n",
    "    The waist to hip ratio is 1.02 and there is a high risk to health."
   ]
  }
 ],
 "metadata": {
  "anaconda-cloud": {},
  "kernelspec": {
   "display_name": "Python 3",
   "language": "python",
   "name": "python3"
  },
  "language_info": {
   "codemirror_mode": {
    "name": "ipython",
    "version": 3
   },
   "file_extension": ".py",
   "mimetype": "text/x-python",
   "name": "python",
   "nbconvert_exporter": "python",
   "pygments_lexer": "ipython3",
   "version": "3.6.6"
  }
 },
 "nbformat": 4,
 "nbformat_minor": 1
}
