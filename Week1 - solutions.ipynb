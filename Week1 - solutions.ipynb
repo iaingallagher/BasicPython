{
 "cells": [
  {
   "cell_type": "markdown",
   "metadata": {},
   "source": [
    "## Putting it together - strings!\n",
    "\n",
    "Assign the string 'acctgtagctgaatcgtgtgttcgatcgat' to a variable called ```my_seq```. If you use the ```dir``` function on ```my_seq``` you'll see that there are methods called ```upper``` and ```count```.\n",
    "\n",
    "Use the ```upper``` method to print an uppercase version of ```my_seq```. Use the ```count``` method to print the number of cytosine residues and, separately the number of guanine residues. Use the ```help``` function to see the syntax for these methods if you need to. \n",
    "\n",
    "Use string formatting to print an informative message about these numbers to the user.\n",
    "\n",
    "Bonus: Can you subset this string to print out the substring 'GAAT'?"
   ]
  },
  {
   "cell_type": "code",
   "execution_count": 1,
   "metadata": {
    "collapsed": false
   },
   "outputs": [
    {
     "name": "stdout",
     "output_type": "stream",
     "text": [
      "The number of cytosines is 6; the number of guanines is 8.\n",
      "GAAT\n"
     ]
    }
   ],
   "source": [
    "my_seq = 'acctgtagctgaatcgtgtgttcgatcgat' # create var\n",
    "my_seq = my_seq.upper() # use upper() method\n",
    "cy = my_seq.count('C') # use count method\n",
    "gu = my_seq.count('G') \n",
    "print('The number of cytosines is %d; the number of guanines is %d.' %(cy, gu))\n",
    "\n",
    "print(my_seq[10:14]) # simple counting of original string, remember to start at zero!\n",
    "\n",
    "# or be sly\n",
    "# 'GAAT' in my_seq # is the string GAAT in there\n",
    "# strt = my_seq.find('GAAT') # where does GAAT begin\n",
    "# end = strt + len('GAAT') # we know the start position, add the length to get the end position\n",
    "# my_seq[strt:end] # subset out the string"
   ]
  },
  {
   "cell_type": "markdown",
   "metadata": {},
   "source": [
    "## Putting it together - numbers!\n",
    "\n",
    "The GC percentage is a common statistic generated for DNA sequences. \n",
    "\n",
    "Apply the ```count``` method and ```len``` function to your DNA character string - ```my_seq``` ( 'acctgtagctgaatcgtgtgttcgatcgat') - to calculate the GC percentage. Assign this percentage to a variable ```gc_perc``` and print the value out using string formatting. Assign the AT percentage to a variable ```at_perc``` and print this out as well.\n",
    "\n",
    "Bonus - Using the ```len``` function and the modulo operator decide whether ```my_seq``` has an odd or even number of DNA bases."
   ]
  },
  {
   "cell_type": "code",
   "execution_count": 3,
   "metadata": {
    "collapsed": false
   },
   "outputs": [
    {
     "name": "stdout",
     "output_type": "stream",
     "text": [
      "The GC is 46.67. The AT is 53.33\n"
     ]
    },
    {
     "data": {
      "text/plain": [
       "True"
      ]
     },
     "execution_count": 3,
     "metadata": {},
     "output_type": "execute_result"
    }
   ],
   "source": [
    "my_seq = 'acctgtagctgaatcgtgtgttcgatcgat'\n",
    "\n",
    "cyt = my_seq.count('c')\n",
    "gn = my_seq.count('g')\n",
    "\n",
    "gc_perc = (cyt+gn)/len(my_seq)*100 # simple arithmetic to get %\n",
    "at_perc = 100-gc_perc\n",
    "\n",
    "print('The GC is %.2f. The AT is %.2f' % (gc_perc, at_perc))\n",
    "\n",
    "seq_l = len(my_seq)\n",
    "# next use boolean to check whether sequence length is odd/even\n",
    "seq_l%2==0 # if True then seq_l must be even i.e. divides cleanly by 2 (no remainder)"
   ]
  },
  {
   "cell_type": "markdown",
   "metadata": {},
   "source": [
    "## Homework\n",
    "\n",
    "The DNA sequence below is the [FASTA](http://en.wikipedia.org/wiki/FASTA_format) representation of the human [PPARG](http://www.ncbi.nlm.nih.gov/nuccore/NM_005037.5) gene. As you know the [translation](https://en.wikipedia.org/wiki/Translation_%28biology%29) from DNA/RNA to protein is brought about by a triplet code whereby triplets of nucleotide bases code for a particular amino acid in the protein sequence. Futhermore translation always starts at the 'ATG' codon which codes for the amino acid methionine (M). As you can see in the sequence below the first codon is not ATG. \n",
    "\n",
    "For this assignment you'll need to look up the help for the ```index()``` method for strings.\n",
    "\n",
    "Cut and paste the sequence (only the sequence, not the FASTA header, i.e. paste from GGC onwards) into a string variable. Note that the sequence will span several lines so think about how to deal with that. Use the ```index``` method to find the position of the first ATG codon. Print out that position. Use python to extract the next three triplet codons and print these along with the amino acids in the protein sequence that these code for. You don't have to use python for this bit - there is a genetic code table [here](http://www.google.co.uk/imgres?imgurl=http://www.geek.com/wp-content/uploads/2013/12/genetic-code.jpg&imgrefurl=http://www.geek.com/science/scientists-discover-a-second-genetic-code-except-not-really-1579496/&h=1000&w=1172&tbnid=pvhXPeyS1CPIdM:&zoom=1&tbnh=156&tbnw=184&usg=__--K3O7YCY8zGaQbDTw400OngOhM=&docid=m1SWW2CQ_miS9M&itg=1). \n",
    "\n",
    "Include brief comments in the code explaining what it does.\n",
    "\n",
    "Use string formatting to print out informative messages from this analysis. "
   ]
  },
  {
   "cell_type": "raw",
   "metadata": {},
   "source": [
    ">gi|116284367|ref|NM_005037.5| Homo sapiens peroxisome proliferator-activated receptor gamma (PPARG), transcript variant 4, mRNA\n",
    "GGCGCCCGCGCCCGCCCCCGCGCCGGGCCCGGCTCGGCCCGACCCGGCTCCGCCGCGGGCAGGCGGGGCC\n",
    "CAGCGCACTCGGAGCCCGAGCCCGAGCCGCAGCCGCCGCCTGGGGCGCTTGGGTCGGCCTCGAGGACACC\n",
    "GGAGAGGGGCGCCACGCCGCCGTGGCCGCAGAAATGACCATGGTTGACACAGAGATGCCATTCTGGCCCA\n",
    "CCAACTTTGGGATCAGCTCCGTGGATCTCTCCGTAATGGAAGACCACTCCCACTCCTTTGATATCAAGCC\n",
    "CTTCACTACTGTTGACTTCTCCAGCATTTCTACTCCACATTACGAAGACATTCCATTCACAAGAACAGAT\n",
    "CCAGTGGTTGCAGATTACAAGTATGACCTGAAACTTCAAGAGTACCAAAGTGCAATCAAAGTGGAGCCTG\n",
    "CATCTCCACCTTATTATTCTGAGAAGACTCAGCTCTACAATAAGCCTCATGAAGAGCCTTCCAACTCCCT\n",
    "CATGGCAATTGAATGTCGTGTCTGTGGAGATAAAGCTTCTGGATTTCACTATGGAGTTCATGCTTGTGAA\n",
    "GGATGCAAGGGTTTCTTCCGGAGAACAATCAGATTGAAGCTTATCTATGACAGATGTGATCTTAACTGTC\n",
    "GGATCCACAAAAAAAGTAGAAATAAATGTCAGTACTGTCGGTTTCAGAAATGCCTTGCAGTGGGGATGTC\n",
    "TCATAATGCCATCAGGTTTGGGCGGATGCCACAGGCCGAGAAGGAGAAGCTGTTGGCGGAGATCTCCAGT\n",
    "GATATCGACCAGCTGAATCCAGAGTCCGCTGACCTCCGGGCCCTGGCAAAACATTTGTATGACTCATACA\n",
    "TAAAGTCCTTCCCGCTGACCAAAGCAAAGGCGAGGGCGATCTTGACAGGAAAGACAACAGACAAATCACC\n",
    "ATTCGTTATCTATGACATGAATTCCTTAATGATGGGAGAAGATAAAATCAAGTTCAAACACATCACCCCC\n",
    "CTGCAGGAGCAGAGCAAAGAGGTGGCCATCCGCATCTTTCAGGGCTGCCAGTTTCGCTCCGTGGAGGCTG\n",
    "TGCAGGAGATCACAGAGTATGCCAAAAGCATTCCTGGTTTTGTAAATCTTGACTTGAACGACCAAGTAAC\n",
    "TCTCCTCAAATATGGAGTCCACGAGATCATTTACACAATGCTGGCCTCCTTGATGAATAAAGATGGGGTT\n",
    "CTCATATCCGAGGGCCAAGGCTTCATGACAAGGGAGTTTCTAAAGAGCCTGCGAAAGCCTTTTGGTGACT\n",
    "TTATGGAGCCCAAGTTTGAGTTTGCTGTGAAGTTCAATGCACTGGAATTAGATGACAGCGACTTGGCAAT\n",
    "ATTTATTGCTGTCATTATTCTCAGTGGAGACCGCCCAGGTTTGCTGAATGTGAAGCCCATTGAAGACATT\n",
    "CAAGACAACCTGCTACAAGCCCTGGAGCTCCAGCTGAAGCTGAACCACCCTGAGTCCTCACAGCTGTTTG\n",
    "CCAAGCTGCTCCAGAAAATGACAGACCTCAGACAGATTGTCACGGAACACGTGCAGCTACTGCAGGTGAT\n",
    "CAAGAAGACGGAGACAGACATGAGTCTTCACCCGCTCCTGCAGGAGATCTACAAGGACTTGTACTAGCAG\n",
    "AGAGTCCTGAGCCACTGCCAACATTTCCCTTCTTCCAGTTGCACTATTCTGAGGGAAAATCTGACACCTA\n",
    "AGAAATTTACTGTGAAAAAGCATTTTAAAAAGAAAAGGTTTTAGAATATGATCTATTTTATGCATATTGT\n",
    "TTATAAAGACACATTTACAATTTACTTTTAATATTAAAAATTACCATATTATGAAATTGCTGATAGTA"
   ]
  },
  {
   "cell_type": "code",
   "execution_count": 4,
   "metadata": {
    "collapsed": false
   },
   "outputs": [
    {
     "name": "stdout",
     "output_type": "stream",
     "text": [
      "The ATG codon begins at 175.\n",
      "The next three codons are: ACC, ATG, GTT.\n",
      "The amino acids are Thr, Met and Val.\n"
     ]
    }
   ],
   "source": [
    "# one potential solution\n",
    "# simple copy paste into triple quotes - deals with newlines\n",
    "seq = '''GGCGCCCGCGCCCGCCCCCGCGCCGGGCCCGGCTCGGCCCGACCCGGCTCCGCCGCGGGCAGGCGGGGCC\n",
    "CAGCGCACTCGGAGCCCGAGCCCGAGCCGCAGCCGCCGCCTGGGGCGCTTGGGTCGGCCTCGAGGACACC\n",
    "GGAGAGGGGCGCCACGCCGCCGTGGCCGCAGAAATGACCATGGTTGACACAGAGATGCCATTCTGGCCCA\n",
    "CCAACTTTGGGATCAGCTCCGTGGATCTCTCCGTAATGGAAGACCACTCCCACTCCTTTGATATCAAGCC\n",
    "CTTCACTACTGTTGACTTCTCCAGCATTTCTACTCCACATTACGAAGACATTCCATTCACAAGAACAGAT\n",
    "CCAGTGGTTGCAGATTACAAGTATGACCTGAAACTTCAAGAGTACCAAAGTGCAATCAAAGTGGAGCCTG\n",
    "CATCTCCACCTTATTATTCTGAGAAGACTCAGCTCTACAATAAGCCTCATGAAGAGCCTTCCAACTCCCT\n",
    "CATGGCAATTGAATGTCGTGTCTGTGGAGATAAAGCTTCTGGATTTCACTATGGAGTTCATGCTTGTGAA\n",
    "GGATGCAAGGGTTTCTTCCGGAGAACAATCAGATTGAAGCTTATCTATGACAGATGTGATCTTAACTGTC\n",
    "GGATCCACAAAAAAAGTAGAAATAAATGTCAGTACTGTCGGTTTCAGAAATGCCTTGCAGTGGGGATGTC\n",
    "TCATAATGCCATCAGGTTTGGGCGGATGCCACAGGCCGAGAAGGAGAAGCTGTTGGCGGAGATCTCCAGT\n",
    "GATATCGACCAGCTGAATCCAGAGTCCGCTGACCTCCGGGCCCTGGCAAAACATTTGTATGACTCATACA\n",
    "TAAAGTCCTTCCCGCTGACCAAAGCAAAGGCGAGGGCGATCTTGACAGGAAAGACAACAGACAAATCACC\n",
    "ATTCGTTATCTATGACATGAATTCCTTAATGATGGGAGAAGATAAAATCAAGTTCAAACACATCACCCCC\n",
    "CTGCAGGAGCAGAGCAAAGAGGTGGCCATCCGCATCTTTCAGGGCTGCCAGTTTCGCTCCGTGGAGGCTG\n",
    "TGCAGGAGATCACAGAGTATGCCAAAAGCATTCCTGGTTTTGTAAATCTTGACTTGAACGACCAAGTAAC\n",
    "TCTCCTCAAATATGGAGTCCACGAGATCATTTACACAATGCTGGCCTCCTTGATGAATAAAGATGGGGTT\n",
    "CTCATATCCGAGGGCCAAGGCTTCATGACAAGGGAGTTTCTAAAGAGCCTGCGAAAGCCTTTTGGTGACT\n",
    "TTATGGAGCCCAAGTTTGAGTTTGCTGTGAAGTTCAATGCACTGGAATTAGATGACAGCGACTTGGCAAT\n",
    "ATTTATTGCTGTCATTATTCTCAGTGGAGACCGCCCAGGTTTGCTGAATGTGAAGCCCATTGAAGACATT\n",
    "CAAGACAACCTGCTACAAGCCCTGGAGCTCCAGCTGAAGCTGAACCACCCTGAGTCCTCACAGCTGTTTG\n",
    "CCAAGCTGCTCCAGAAAATGACAGACCTCAGACAGATTGTCACGGAACACGTGCAGCTACTGCAGGTGAT\n",
    "CAAGAAGACGGAGACAGACATGAGTCTTCACCCGCTCCTGCAGGAGATCTACAAGGACTTGTACTAGCAG\n",
    "AGAGTCCTGAGCCACTGCCAACATTTCCCTTCTTCCAGTTGCACTATTCTGAGGGAAAATCTGACACCTA\n",
    "AGAAATTTACTGTGAAAAAGCATTTTAAAAAGAAAAGGTTTTAGAATATGATCTATTTTATGCATATTGT\n",
    "TTATAAAGACACATTTACAATTTACTTTTAATATTAAAAATTACCATATTATGAAATTGCTGATAGTA'''\n",
    "\n",
    "# get ATG position\n",
    "print('The ATG codon begins at %d.' % seq.index('ATG')) # or you could use seq.find('ATG')\n",
    "\n",
    "# next 9 bases (3 codons), simple counting\n",
    "three_codons = seq[178:187]\n",
    "\n",
    "# subsetting gets us the codons we want\n",
    "codon1 = three_codons[:3]   \n",
    "codon2 = three_codons[3:6]\n",
    "codon3 = three_codons[6:]        \n",
    "\n",
    "# print stuff out, string formatting\n",
    "print('The next three codons are: %s, %s, %s.' % (codon1, codon2, codon3))\n",
    "print('The amino acids are Thr, Met and Val.') # just looked these up in table, better method next week!"
   ]
  }
 ],
 "metadata": {
  "anaconda-cloud": {},
  "kernelspec": {
   "display_name": "Python [default]",
   "language": "python",
   "name": "python3"
  },
  "language_info": {
   "codemirror_mode": {
    "name": "ipython",
    "version": 3
   },
   "file_extension": ".py",
   "mimetype": "text/x-python",
   "name": "python",
   "nbconvert_exporter": "python",
   "pygments_lexer": "ipython3",
   "version": "3.5.2"
  }
 },
 "nbformat": 4,
 "nbformat_minor": 0
}
